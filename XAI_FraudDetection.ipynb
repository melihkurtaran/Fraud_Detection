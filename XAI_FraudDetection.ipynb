{
  "nbformat": 4,
  "nbformat_minor": 0,
  "metadata": {
    "colab": {
      "provenance": [],
      "authorship_tag": "ABX9TyMUfyKWVGu7S75aR24Efvhh",
      "include_colab_link": true
    },
    "kernelspec": {
      "name": "python3",
      "display_name": "Python 3"
    },
    "language_info": {
      "name": "python"
    }
  },
  "cells": [
    {
      "cell_type": "markdown",
      "metadata": {
        "id": "view-in-github",
        "colab_type": "text"
      },
      "source": [
        "<a href=\"https://colab.research.google.com/github/melihkurtaran/Fraud_Detection/blob/main/XAI_FraudDetection.ipynb\" target=\"_parent\"><img src=\"https://colab.research.google.com/assets/colab-badge.svg\" alt=\"Open In Colab\"/></a>"
      ]
    },
    {
      "cell_type": "markdown",
      "source": [
        "**Fraud Detection Project XAI on generated datasets**"
      ],
      "metadata": {
        "id": "YtlyOM94Qj_t"
      }
    },
    {
      "cell_type": "code",
      "source": [
        "#Load libraries\n",
        "import pandas as pd\n",
        "import numpy as np\n",
        "import matplotlib.pyplot as plt\n",
        "import plotly.graph_objects as go\n",
        "import plotly.subplots as sp\n",
        "import seaborn as sns"
      ],
      "metadata": {
        "id": "N0M2A2KzQ_aG"
      },
      "execution_count": 67,
      "outputs": []
    },
    {
      "cell_type": "code",
      "source": [
        "#Connect to GitHub for faster access\n",
        "!git clone https://github.com/melihkurtaran/Fraud_Detection.git"
      ],
      "metadata": {
        "colab": {
          "base_uri": "https://localhost:8080/"
        },
        "id": "w5QWJ6RaQoct",
        "outputId": "f055f677-13b4-4df0-b096-184afc3c31eb"
      },
      "execution_count": 68,
      "outputs": [
        {
          "output_type": "stream",
          "name": "stdout",
          "text": [
            "fatal: destination path 'Fraud_Detection' already exists and is not an empty directory.\n"
          ]
        }
      ]
    },
    {
      "cell_type": "code",
      "source": [
        "# Upload the gendered datasets\n",
        "female = pd.read_csv(\"Fraud_Detection/datasets/generated_datasets/adults_2550_female_urban.csv\", delimiter='|')\n",
        "male = pd.read_csv(\"Fraud_Detection/datasets/generated_datasets/adults_2550_male_urban.csv\", delimiter='|')"
      ],
      "metadata": {
        "id": "JYuSShbiQu8D"
      },
      "execution_count": 69,
      "outputs": []
    },
    {
      "cell_type": "code",
      "source": [
        "female = female.rename(columns={'merch_long,,': 'merch_long'})\n",
        "\n",
        "# Merge the dataframes\n",
        "df = pd.concat([female, male])\n",
        "\n",
        "df = df.reset_index(drop=True)"
      ],
      "metadata": {
        "id": "opAUsjWXTMna"
      },
      "execution_count": 70,
      "outputs": []
    },
    {
      "cell_type": "code",
      "source": [
        "df.head()"
      ],
      "metadata": {
        "colab": {
          "base_uri": "https://localhost:8080/",
          "height": 473
        },
        "id": "F7MtgJGeSvyD",
        "outputId": "020eb57c-f94e-4163-c036-6c4a33f99f78"
      },
      "execution_count": 71,
      "outputs": [
        {
          "output_type": "execute_result",
          "data": {
            "text/plain": [
              "           ssn         cc_num  first     last gender                street  \\\n",
              "0  115-04-4507  4218196001337  Kathy  Johnson      F  863 Lawrence Valleys   \n",
              "1  115-04-4507  4218196001337  Kathy  Johnson      F  863 Lawrence Valleys   \n",
              "2  115-04-4507  4218196001337  Kathy  Johnson      F  863 Lawrence Valleys   \n",
              "3  115-04-4507  4218196001337  Kathy  Johnson      F  863 Lawrence Valleys   \n",
              "4  115-04-4507  4218196001337  Kathy  Johnson      F  863 Lawrence Valleys   \n",
              "\n",
              "        city state    zip      lat  ...                         trans_num  \\\n",
              "0  Homosassa    FL  34446  28.7508  ...  59f060ee29e40979a362acdb04315f6e   \n",
              "1  Homosassa    FL  34446  28.7508  ...  faec1d6969fc4ed9b5182be0d4a0f15b   \n",
              "2  Homosassa    FL  34446  28.7508  ...  53fa6924f0c85c2a9eeee8e5a1f604fd   \n",
              "3  Homosassa    FL  34446  28.7508  ...  9869951e93f3dcf1ce8f8a1677741c3e   \n",
              "4  Homosassa    FL  34446  28.7508  ...  6e037c9b466baf60e97b7eb63bfe6e49   \n",
              "\n",
              "   trans_date trans_time   unix_time       category     amt is_fraud  \\\n",
              "0  2022-12-12   01:47:59  1670806079   shopping_net   10.13        1   \n",
              "1  2022-12-12   03:39:36  1670812776   shopping_pos  814.04        1   \n",
              "2  2022-12-12   02:33:53  1670808833  gas_transport  969.16        1   \n",
              "3  2022-12-13   03:36:20  1670898980   shopping_pos  743.97        1   \n",
              "4  2022-12-13   01:04:54  1670889894   shopping_pos  791.05        1   \n",
              "\n",
              "                   merchant  merch_lat    merch_long  \n",
              "0   fraud_Fisher-Schowalter  28.312405  -82.745821,,  \n",
              "1           fraud_Lynch Ltd  28.522520  -81.591884,,  \n",
              "2     fraud_Cummerata-Jones  27.874119  -82.412580,,  \n",
              "3          fraud_Dooley Inc  29.525702  -82.368289,,  \n",
              "4  fraud_Stoltenberg-Beatty  28.629166  -83.486240,,  \n",
              "\n",
              "[5 rows x 26 columns]"
            ],
            "text/html": [
              "\n",
              "  <div id=\"df-cd387e6d-289c-49e9-bed9-16bf3fed7f63\">\n",
              "    <div class=\"colab-df-container\">\n",
              "      <div>\n",
              "<style scoped>\n",
              "    .dataframe tbody tr th:only-of-type {\n",
              "        vertical-align: middle;\n",
              "    }\n",
              "\n",
              "    .dataframe tbody tr th {\n",
              "        vertical-align: top;\n",
              "    }\n",
              "\n",
              "    .dataframe thead th {\n",
              "        text-align: right;\n",
              "    }\n",
              "</style>\n",
              "<table border=\"1\" class=\"dataframe\">\n",
              "  <thead>\n",
              "    <tr style=\"text-align: right;\">\n",
              "      <th></th>\n",
              "      <th>ssn</th>\n",
              "      <th>cc_num</th>\n",
              "      <th>first</th>\n",
              "      <th>last</th>\n",
              "      <th>gender</th>\n",
              "      <th>street</th>\n",
              "      <th>city</th>\n",
              "      <th>state</th>\n",
              "      <th>zip</th>\n",
              "      <th>lat</th>\n",
              "      <th>...</th>\n",
              "      <th>trans_num</th>\n",
              "      <th>trans_date</th>\n",
              "      <th>trans_time</th>\n",
              "      <th>unix_time</th>\n",
              "      <th>category</th>\n",
              "      <th>amt</th>\n",
              "      <th>is_fraud</th>\n",
              "      <th>merchant</th>\n",
              "      <th>merch_lat</th>\n",
              "      <th>merch_long</th>\n",
              "    </tr>\n",
              "  </thead>\n",
              "  <tbody>\n",
              "    <tr>\n",
              "      <th>0</th>\n",
              "      <td>115-04-4507</td>\n",
              "      <td>4218196001337</td>\n",
              "      <td>Kathy</td>\n",
              "      <td>Johnson</td>\n",
              "      <td>F</td>\n",
              "      <td>863 Lawrence Valleys</td>\n",
              "      <td>Homosassa</td>\n",
              "      <td>FL</td>\n",
              "      <td>34446</td>\n",
              "      <td>28.7508</td>\n",
              "      <td>...</td>\n",
              "      <td>59f060ee29e40979a362acdb04315f6e</td>\n",
              "      <td>2022-12-12</td>\n",
              "      <td>01:47:59</td>\n",
              "      <td>1670806079</td>\n",
              "      <td>shopping_net</td>\n",
              "      <td>10.13</td>\n",
              "      <td>1</td>\n",
              "      <td>fraud_Fisher-Schowalter</td>\n",
              "      <td>28.312405</td>\n",
              "      <td>-82.745821,,</td>\n",
              "    </tr>\n",
              "    <tr>\n",
              "      <th>1</th>\n",
              "      <td>115-04-4507</td>\n",
              "      <td>4218196001337</td>\n",
              "      <td>Kathy</td>\n",
              "      <td>Johnson</td>\n",
              "      <td>F</td>\n",
              "      <td>863 Lawrence Valleys</td>\n",
              "      <td>Homosassa</td>\n",
              "      <td>FL</td>\n",
              "      <td>34446</td>\n",
              "      <td>28.7508</td>\n",
              "      <td>...</td>\n",
              "      <td>faec1d6969fc4ed9b5182be0d4a0f15b</td>\n",
              "      <td>2022-12-12</td>\n",
              "      <td>03:39:36</td>\n",
              "      <td>1670812776</td>\n",
              "      <td>shopping_pos</td>\n",
              "      <td>814.04</td>\n",
              "      <td>1</td>\n",
              "      <td>fraud_Lynch Ltd</td>\n",
              "      <td>28.522520</td>\n",
              "      <td>-81.591884,,</td>\n",
              "    </tr>\n",
              "    <tr>\n",
              "      <th>2</th>\n",
              "      <td>115-04-4507</td>\n",
              "      <td>4218196001337</td>\n",
              "      <td>Kathy</td>\n",
              "      <td>Johnson</td>\n",
              "      <td>F</td>\n",
              "      <td>863 Lawrence Valleys</td>\n",
              "      <td>Homosassa</td>\n",
              "      <td>FL</td>\n",
              "      <td>34446</td>\n",
              "      <td>28.7508</td>\n",
              "      <td>...</td>\n",
              "      <td>53fa6924f0c85c2a9eeee8e5a1f604fd</td>\n",
              "      <td>2022-12-12</td>\n",
              "      <td>02:33:53</td>\n",
              "      <td>1670808833</td>\n",
              "      <td>gas_transport</td>\n",
              "      <td>969.16</td>\n",
              "      <td>1</td>\n",
              "      <td>fraud_Cummerata-Jones</td>\n",
              "      <td>27.874119</td>\n",
              "      <td>-82.412580,,</td>\n",
              "    </tr>\n",
              "    <tr>\n",
              "      <th>3</th>\n",
              "      <td>115-04-4507</td>\n",
              "      <td>4218196001337</td>\n",
              "      <td>Kathy</td>\n",
              "      <td>Johnson</td>\n",
              "      <td>F</td>\n",
              "      <td>863 Lawrence Valleys</td>\n",
              "      <td>Homosassa</td>\n",
              "      <td>FL</td>\n",
              "      <td>34446</td>\n",
              "      <td>28.7508</td>\n",
              "      <td>...</td>\n",
              "      <td>9869951e93f3dcf1ce8f8a1677741c3e</td>\n",
              "      <td>2022-12-13</td>\n",
              "      <td>03:36:20</td>\n",
              "      <td>1670898980</td>\n",
              "      <td>shopping_pos</td>\n",
              "      <td>743.97</td>\n",
              "      <td>1</td>\n",
              "      <td>fraud_Dooley Inc</td>\n",
              "      <td>29.525702</td>\n",
              "      <td>-82.368289,,</td>\n",
              "    </tr>\n",
              "    <tr>\n",
              "      <th>4</th>\n",
              "      <td>115-04-4507</td>\n",
              "      <td>4218196001337</td>\n",
              "      <td>Kathy</td>\n",
              "      <td>Johnson</td>\n",
              "      <td>F</td>\n",
              "      <td>863 Lawrence Valleys</td>\n",
              "      <td>Homosassa</td>\n",
              "      <td>FL</td>\n",
              "      <td>34446</td>\n",
              "      <td>28.7508</td>\n",
              "      <td>...</td>\n",
              "      <td>6e037c9b466baf60e97b7eb63bfe6e49</td>\n",
              "      <td>2022-12-13</td>\n",
              "      <td>01:04:54</td>\n",
              "      <td>1670889894</td>\n",
              "      <td>shopping_pos</td>\n",
              "      <td>791.05</td>\n",
              "      <td>1</td>\n",
              "      <td>fraud_Stoltenberg-Beatty</td>\n",
              "      <td>28.629166</td>\n",
              "      <td>-83.486240,,</td>\n",
              "    </tr>\n",
              "  </tbody>\n",
              "</table>\n",
              "<p>5 rows × 26 columns</p>\n",
              "</div>\n",
              "      <button class=\"colab-df-convert\" onclick=\"convertToInteractive('df-cd387e6d-289c-49e9-bed9-16bf3fed7f63')\"\n",
              "              title=\"Convert this dataframe to an interactive table.\"\n",
              "              style=\"display:none;\">\n",
              "        \n",
              "  <svg xmlns=\"http://www.w3.org/2000/svg\" height=\"24px\"viewBox=\"0 0 24 24\"\n",
              "       width=\"24px\">\n",
              "    <path d=\"M0 0h24v24H0V0z\" fill=\"none\"/>\n",
              "    <path d=\"M18.56 5.44l.94 2.06.94-2.06 2.06-.94-2.06-.94-.94-2.06-.94 2.06-2.06.94zm-11 1L8.5 8.5l.94-2.06 2.06-.94-2.06-.94L8.5 2.5l-.94 2.06-2.06.94zm10 10l.94 2.06.94-2.06 2.06-.94-2.06-.94-.94-2.06-.94 2.06-2.06.94z\"/><path d=\"M17.41 7.96l-1.37-1.37c-.4-.4-.92-.59-1.43-.59-.52 0-1.04.2-1.43.59L10.3 9.45l-7.72 7.72c-.78.78-.78 2.05 0 2.83L4 21.41c.39.39.9.59 1.41.59.51 0 1.02-.2 1.41-.59l7.78-7.78 2.81-2.81c.8-.78.8-2.07 0-2.86zM5.41 20L4 18.59l7.72-7.72 1.47 1.35L5.41 20z\"/>\n",
              "  </svg>\n",
              "      </button>\n",
              "      \n",
              "  <style>\n",
              "    .colab-df-container {\n",
              "      display:flex;\n",
              "      flex-wrap:wrap;\n",
              "      gap: 12px;\n",
              "    }\n",
              "\n",
              "    .colab-df-convert {\n",
              "      background-color: #E8F0FE;\n",
              "      border: none;\n",
              "      border-radius: 50%;\n",
              "      cursor: pointer;\n",
              "      display: none;\n",
              "      fill: #1967D2;\n",
              "      height: 32px;\n",
              "      padding: 0 0 0 0;\n",
              "      width: 32px;\n",
              "    }\n",
              "\n",
              "    .colab-df-convert:hover {\n",
              "      background-color: #E2EBFA;\n",
              "      box-shadow: 0px 1px 2px rgba(60, 64, 67, 0.3), 0px 1px 3px 1px rgba(60, 64, 67, 0.15);\n",
              "      fill: #174EA6;\n",
              "    }\n",
              "\n",
              "    [theme=dark] .colab-df-convert {\n",
              "      background-color: #3B4455;\n",
              "      fill: #D2E3FC;\n",
              "    }\n",
              "\n",
              "    [theme=dark] .colab-df-convert:hover {\n",
              "      background-color: #434B5C;\n",
              "      box-shadow: 0px 1px 3px 1px rgba(0, 0, 0, 0.15);\n",
              "      filter: drop-shadow(0px 1px 2px rgba(0, 0, 0, 0.3));\n",
              "      fill: #FFFFFF;\n",
              "    }\n",
              "  </style>\n",
              "\n",
              "      <script>\n",
              "        const buttonEl =\n",
              "          document.querySelector('#df-cd387e6d-289c-49e9-bed9-16bf3fed7f63 button.colab-df-convert');\n",
              "        buttonEl.style.display =\n",
              "          google.colab.kernel.accessAllowed ? 'block' : 'none';\n",
              "\n",
              "        async function convertToInteractive(key) {\n",
              "          const element = document.querySelector('#df-cd387e6d-289c-49e9-bed9-16bf3fed7f63');\n",
              "          const dataTable =\n",
              "            await google.colab.kernel.invokeFunction('convertToInteractive',\n",
              "                                                     [key], {});\n",
              "          if (!dataTable) return;\n",
              "\n",
              "          const docLinkHtml = 'Like what you see? Visit the ' +\n",
              "            '<a target=\"_blank\" href=https://colab.research.google.com/notebooks/data_table.ipynb>data table notebook</a>'\n",
              "            + ' to learn more about interactive tables.';\n",
              "          element.innerHTML = '';\n",
              "          dataTable['output_type'] = 'display_data';\n",
              "          await google.colab.output.renderOutput(dataTable, element);\n",
              "          const docLink = document.createElement('div');\n",
              "          docLink.innerHTML = docLinkHtml;\n",
              "          element.appendChild(docLink);\n",
              "        }\n",
              "      </script>\n",
              "    </div>\n",
              "  </div>\n",
              "  "
            ]
          },
          "metadata": {},
          "execution_count": 71
        }
      ]
    },
    {
      "cell_type": "markdown",
      "source": [
        "No null values!"
      ],
      "metadata": {
        "id": "NzQzYtpjTqUT"
      }
    },
    {
      "cell_type": "code",
      "source": [
        "# Check for null values\n",
        "null_df = df.isnull()\n",
        "\n",
        "# Check if there are any null values in the original dataframe\n",
        "if null_df.any().any():\n",
        "    print(\"There are null values in the dataframe\")\n",
        "else:\n",
        "    print(\"There are no null values in the dataframe\")"
      ],
      "metadata": {
        "colab": {
          "base_uri": "https://localhost:8080/"
        },
        "id": "Z3qD7T2dTi6j",
        "outputId": "3085ea65-28ab-41d2-fa31-e3d372e9485e"
      },
      "execution_count": 72,
      "outputs": [
        {
          "output_type": "stream",
          "name": "stdout",
          "text": [
            "There are no null values in the dataframe\n"
          ]
        }
      ]
    },
    {
      "cell_type": "code",
      "source": [
        "#df = df.drop(['ssn', 'cc_num','first','last','city','state','zip','street','dob','acct_num','profile','trans_num','trans_date','trans_time','unix_time','merch_long'], axis=1)"
      ],
      "metadata": {
        "id": "sn-JqUhbZtFN"
      },
      "execution_count": 73,
      "outputs": []
    },
    {
      "cell_type": "markdown",
      "source": [
        "# **Data Exploration**"
      ],
      "metadata": {
        "id": "hPifHeVqT5mI"
      }
    },
    {
      "cell_type": "code",
      "source": [
        "df.columns"
      ],
      "metadata": {
        "colab": {
          "base_uri": "https://localhost:8080/"
        },
        "id": "iXpO47aVT9Gh",
        "outputId": "3457e89c-a0e2-4bec-8f1f-24af0d678f3c"
      },
      "execution_count": 74,
      "outputs": [
        {
          "output_type": "execute_result",
          "data": {
            "text/plain": [
              "Index(['ssn', 'cc_num', 'first', 'last', 'gender', 'street', 'city', 'state',\n",
              "       'zip', 'lat', 'long', 'city_pop', 'job', 'dob', 'acct_num', 'profile',\n",
              "       'trans_num', 'trans_date', 'trans_time', 'unix_time', 'category', 'amt',\n",
              "       'is_fraud', 'merchant', 'merch_lat', 'merch_long'],\n",
              "      dtype='object')"
            ]
          },
          "metadata": {},
          "execution_count": 74
        }
      ]
    },
    {
      "cell_type": "markdown",
      "source": [
        "Checking the imbalance for frauds"
      ],
      "metadata": {
        "id": "ek7Z79m6UYaU"
      }
    },
    {
      "cell_type": "code",
      "source": [
        "# Define colors and labels for the pie chart\n",
        "colors = ['#00BFFF', '#FFD700']  # blue and gold\n",
        "labels = ['Normal Transactions', 'Fraudulent Transactions']\n",
        "\n",
        "# Calculate the percentage of fraudulent transactions\n",
        "fraud_percentage = df['is_fraud'].value_counts(normalize=True) * 100\n",
        "\n",
        "# Create a Pie chart with Plotly\n",
        "fig = go.Figure(data=[go.Pie(labels=labels,\n",
        "                             values=fraud_percentage,\n",
        "                             hole=.3)])\n",
        "\n",
        "# Customize the chart colors, fonts, and layout\n",
        "fig.update_traces(hoverinfo='label+percent', textinfo='percent', textfont_size=18,\n",
        "                  marker=dict(colors=colors, line=dict(color='white', width=0.1)))\n",
        "fig.update_layout(\n",
        "    title_text=\"Credit Card Transactions\",\n",
        "    title_font=dict(size=24, color='white'),\n",
        "    legend_title_font=dict(size=20, color='yellow'),\n",
        "    paper_bgcolor=\"black\",\n",
        "    plot_bgcolor='black',\n",
        "    font=dict(color='white', size=16)\n",
        ")\n",
        "\n",
        "# Show the chart\n",
        "fig.show()"
      ],
      "metadata": {
        "colab": {
          "base_uri": "https://localhost:8080/",
          "height": 542
        },
        "id": "ZxOb0kCcUFYK",
        "outputId": "857ab954-78d1-41a8-86d9-ad7cbde9d445"
      },
      "execution_count": 75,
      "outputs": [
        {
          "output_type": "display_data",
          "data": {
            "text/html": [
              "<html>\n",
              "<head><meta charset=\"utf-8\" /></head>\n",
              "<body>\n",
              "    <div>            <script src=\"https://cdnjs.cloudflare.com/ajax/libs/mathjax/2.7.5/MathJax.js?config=TeX-AMS-MML_SVG\"></script><script type=\"text/javascript\">if (window.MathJax) {MathJax.Hub.Config({SVG: {font: \"STIX-Web\"}});}</script>                <script type=\"text/javascript\">window.PlotlyConfig = {MathJaxConfig: 'local'};</script>\n",
              "        <script src=\"https://cdn.plot.ly/plotly-2.8.3.min.js\"></script>                <div id=\"bc2946c6-a822-4d4b-9ae7-f15de9684675\" class=\"plotly-graph-div\" style=\"height:525px; width:100%;\"></div>            <script type=\"text/javascript\">                                    window.PLOTLYENV=window.PLOTLYENV || {};                                    if (document.getElementById(\"bc2946c6-a822-4d4b-9ae7-f15de9684675\")) {                    Plotly.newPlot(                        \"bc2946c6-a822-4d4b-9ae7-f15de9684675\",                        [{\"hole\":0.3,\"labels\":[\"Normal Transactions\",\"Fraudulent Transactions\"],\"values\":[99.22385766853633,0.7761423314636848],\"type\":\"pie\",\"textfont\":{\"size\":18},\"marker\":{\"line\":{\"color\":\"white\",\"width\":0.1},\"colors\":[\"#00BFFF\",\"#FFD700\"]},\"hoverinfo\":\"label+percent\",\"textinfo\":\"percent\"}],                        {\"template\":{\"data\":{\"bar\":[{\"error_x\":{\"color\":\"#2a3f5f\"},\"error_y\":{\"color\":\"#2a3f5f\"},\"marker\":{\"line\":{\"color\":\"#E5ECF6\",\"width\":0.5},\"pattern\":{\"fillmode\":\"overlay\",\"size\":10,\"solidity\":0.2}},\"type\":\"bar\"}],\"barpolar\":[{\"marker\":{\"line\":{\"color\":\"#E5ECF6\",\"width\":0.5},\"pattern\":{\"fillmode\":\"overlay\",\"size\":10,\"solidity\":0.2}},\"type\":\"barpolar\"}],\"carpet\":[{\"aaxis\":{\"endlinecolor\":\"#2a3f5f\",\"gridcolor\":\"white\",\"linecolor\":\"white\",\"minorgridcolor\":\"white\",\"startlinecolor\":\"#2a3f5f\"},\"baxis\":{\"endlinecolor\":\"#2a3f5f\",\"gridcolor\":\"white\",\"linecolor\":\"white\",\"minorgridcolor\":\"white\",\"startlinecolor\":\"#2a3f5f\"},\"type\":\"carpet\"}],\"choropleth\":[{\"colorbar\":{\"outlinewidth\":0,\"ticks\":\"\"},\"type\":\"choropleth\"}],\"contour\":[{\"colorbar\":{\"outlinewidth\":0,\"ticks\":\"\"},\"colorscale\":[[0.0,\"#0d0887\"],[0.1111111111111111,\"#46039f\"],[0.2222222222222222,\"#7201a8\"],[0.3333333333333333,\"#9c179e\"],[0.4444444444444444,\"#bd3786\"],[0.5555555555555556,\"#d8576b\"],[0.6666666666666666,\"#ed7953\"],[0.7777777777777778,\"#fb9f3a\"],[0.8888888888888888,\"#fdca26\"],[1.0,\"#f0f921\"]],\"type\":\"contour\"}],\"contourcarpet\":[{\"colorbar\":{\"outlinewidth\":0,\"ticks\":\"\"},\"type\":\"contourcarpet\"}],\"heatmap\":[{\"colorbar\":{\"outlinewidth\":0,\"ticks\":\"\"},\"colorscale\":[[0.0,\"#0d0887\"],[0.1111111111111111,\"#46039f\"],[0.2222222222222222,\"#7201a8\"],[0.3333333333333333,\"#9c179e\"],[0.4444444444444444,\"#bd3786\"],[0.5555555555555556,\"#d8576b\"],[0.6666666666666666,\"#ed7953\"],[0.7777777777777778,\"#fb9f3a\"],[0.8888888888888888,\"#fdca26\"],[1.0,\"#f0f921\"]],\"type\":\"heatmap\"}],\"heatmapgl\":[{\"colorbar\":{\"outlinewidth\":0,\"ticks\":\"\"},\"colorscale\":[[0.0,\"#0d0887\"],[0.1111111111111111,\"#46039f\"],[0.2222222222222222,\"#7201a8\"],[0.3333333333333333,\"#9c179e\"],[0.4444444444444444,\"#bd3786\"],[0.5555555555555556,\"#d8576b\"],[0.6666666666666666,\"#ed7953\"],[0.7777777777777778,\"#fb9f3a\"],[0.8888888888888888,\"#fdca26\"],[1.0,\"#f0f921\"]],\"type\":\"heatmapgl\"}],\"histogram\":[{\"marker\":{\"pattern\":{\"fillmode\":\"overlay\",\"size\":10,\"solidity\":0.2}},\"type\":\"histogram\"}],\"histogram2d\":[{\"colorbar\":{\"outlinewidth\":0,\"ticks\":\"\"},\"colorscale\":[[0.0,\"#0d0887\"],[0.1111111111111111,\"#46039f\"],[0.2222222222222222,\"#7201a8\"],[0.3333333333333333,\"#9c179e\"],[0.4444444444444444,\"#bd3786\"],[0.5555555555555556,\"#d8576b\"],[0.6666666666666666,\"#ed7953\"],[0.7777777777777778,\"#fb9f3a\"],[0.8888888888888888,\"#fdca26\"],[1.0,\"#f0f921\"]],\"type\":\"histogram2d\"}],\"histogram2dcontour\":[{\"colorbar\":{\"outlinewidth\":0,\"ticks\":\"\"},\"colorscale\":[[0.0,\"#0d0887\"],[0.1111111111111111,\"#46039f\"],[0.2222222222222222,\"#7201a8\"],[0.3333333333333333,\"#9c179e\"],[0.4444444444444444,\"#bd3786\"],[0.5555555555555556,\"#d8576b\"],[0.6666666666666666,\"#ed7953\"],[0.7777777777777778,\"#fb9f3a\"],[0.8888888888888888,\"#fdca26\"],[1.0,\"#f0f921\"]],\"type\":\"histogram2dcontour\"}],\"mesh3d\":[{\"colorbar\":{\"outlinewidth\":0,\"ticks\":\"\"},\"type\":\"mesh3d\"}],\"parcoords\":[{\"line\":{\"colorbar\":{\"outlinewidth\":0,\"ticks\":\"\"}},\"type\":\"parcoords\"}],\"pie\":[{\"automargin\":true,\"type\":\"pie\"}],\"scatter\":[{\"marker\":{\"colorbar\":{\"outlinewidth\":0,\"ticks\":\"\"}},\"type\":\"scatter\"}],\"scatter3d\":[{\"line\":{\"colorbar\":{\"outlinewidth\":0,\"ticks\":\"\"}},\"marker\":{\"colorbar\":{\"outlinewidth\":0,\"ticks\":\"\"}},\"type\":\"scatter3d\"}],\"scattercarpet\":[{\"marker\":{\"colorbar\":{\"outlinewidth\":0,\"ticks\":\"\"}},\"type\":\"scattercarpet\"}],\"scattergeo\":[{\"marker\":{\"colorbar\":{\"outlinewidth\":0,\"ticks\":\"\"}},\"type\":\"scattergeo\"}],\"scattergl\":[{\"marker\":{\"colorbar\":{\"outlinewidth\":0,\"ticks\":\"\"}},\"type\":\"scattergl\"}],\"scattermapbox\":[{\"marker\":{\"colorbar\":{\"outlinewidth\":0,\"ticks\":\"\"}},\"type\":\"scattermapbox\"}],\"scatterpolar\":[{\"marker\":{\"colorbar\":{\"outlinewidth\":0,\"ticks\":\"\"}},\"type\":\"scatterpolar\"}],\"scatterpolargl\":[{\"marker\":{\"colorbar\":{\"outlinewidth\":0,\"ticks\":\"\"}},\"type\":\"scatterpolargl\"}],\"scatterternary\":[{\"marker\":{\"colorbar\":{\"outlinewidth\":0,\"ticks\":\"\"}},\"type\":\"scatterternary\"}],\"surface\":[{\"colorbar\":{\"outlinewidth\":0,\"ticks\":\"\"},\"colorscale\":[[0.0,\"#0d0887\"],[0.1111111111111111,\"#46039f\"],[0.2222222222222222,\"#7201a8\"],[0.3333333333333333,\"#9c179e\"],[0.4444444444444444,\"#bd3786\"],[0.5555555555555556,\"#d8576b\"],[0.6666666666666666,\"#ed7953\"],[0.7777777777777778,\"#fb9f3a\"],[0.8888888888888888,\"#fdca26\"],[1.0,\"#f0f921\"]],\"type\":\"surface\"}],\"table\":[{\"cells\":{\"fill\":{\"color\":\"#EBF0F8\"},\"line\":{\"color\":\"white\"}},\"header\":{\"fill\":{\"color\":\"#C8D4E3\"},\"line\":{\"color\":\"white\"}},\"type\":\"table\"}]},\"layout\":{\"annotationdefaults\":{\"arrowcolor\":\"#2a3f5f\",\"arrowhead\":0,\"arrowwidth\":1},\"autotypenumbers\":\"strict\",\"coloraxis\":{\"colorbar\":{\"outlinewidth\":0,\"ticks\":\"\"}},\"colorscale\":{\"diverging\":[[0,\"#8e0152\"],[0.1,\"#c51b7d\"],[0.2,\"#de77ae\"],[0.3,\"#f1b6da\"],[0.4,\"#fde0ef\"],[0.5,\"#f7f7f7\"],[0.6,\"#e6f5d0\"],[0.7,\"#b8e186\"],[0.8,\"#7fbc41\"],[0.9,\"#4d9221\"],[1,\"#276419\"]],\"sequential\":[[0.0,\"#0d0887\"],[0.1111111111111111,\"#46039f\"],[0.2222222222222222,\"#7201a8\"],[0.3333333333333333,\"#9c179e\"],[0.4444444444444444,\"#bd3786\"],[0.5555555555555556,\"#d8576b\"],[0.6666666666666666,\"#ed7953\"],[0.7777777777777778,\"#fb9f3a\"],[0.8888888888888888,\"#fdca26\"],[1.0,\"#f0f921\"]],\"sequentialminus\":[[0.0,\"#0d0887\"],[0.1111111111111111,\"#46039f\"],[0.2222222222222222,\"#7201a8\"],[0.3333333333333333,\"#9c179e\"],[0.4444444444444444,\"#bd3786\"],[0.5555555555555556,\"#d8576b\"],[0.6666666666666666,\"#ed7953\"],[0.7777777777777778,\"#fb9f3a\"],[0.8888888888888888,\"#fdca26\"],[1.0,\"#f0f921\"]]},\"colorway\":[\"#636efa\",\"#EF553B\",\"#00cc96\",\"#ab63fa\",\"#FFA15A\",\"#19d3f3\",\"#FF6692\",\"#B6E880\",\"#FF97FF\",\"#FECB52\"],\"font\":{\"color\":\"#2a3f5f\"},\"geo\":{\"bgcolor\":\"white\",\"lakecolor\":\"white\",\"landcolor\":\"#E5ECF6\",\"showlakes\":true,\"showland\":true,\"subunitcolor\":\"white\"},\"hoverlabel\":{\"align\":\"left\"},\"hovermode\":\"closest\",\"mapbox\":{\"style\":\"light\"},\"paper_bgcolor\":\"white\",\"plot_bgcolor\":\"#E5ECF6\",\"polar\":{\"angularaxis\":{\"gridcolor\":\"white\",\"linecolor\":\"white\",\"ticks\":\"\"},\"bgcolor\":\"#E5ECF6\",\"radialaxis\":{\"gridcolor\":\"white\",\"linecolor\":\"white\",\"ticks\":\"\"}},\"scene\":{\"xaxis\":{\"backgroundcolor\":\"#E5ECF6\",\"gridcolor\":\"white\",\"gridwidth\":2,\"linecolor\":\"white\",\"showbackground\":true,\"ticks\":\"\",\"zerolinecolor\":\"white\"},\"yaxis\":{\"backgroundcolor\":\"#E5ECF6\",\"gridcolor\":\"white\",\"gridwidth\":2,\"linecolor\":\"white\",\"showbackground\":true,\"ticks\":\"\",\"zerolinecolor\":\"white\"},\"zaxis\":{\"backgroundcolor\":\"#E5ECF6\",\"gridcolor\":\"white\",\"gridwidth\":2,\"linecolor\":\"white\",\"showbackground\":true,\"ticks\":\"\",\"zerolinecolor\":\"white\"}},\"shapedefaults\":{\"line\":{\"color\":\"#2a3f5f\"}},\"ternary\":{\"aaxis\":{\"gridcolor\":\"white\",\"linecolor\":\"white\",\"ticks\":\"\"},\"baxis\":{\"gridcolor\":\"white\",\"linecolor\":\"white\",\"ticks\":\"\"},\"bgcolor\":\"#E5ECF6\",\"caxis\":{\"gridcolor\":\"white\",\"linecolor\":\"white\",\"ticks\":\"\"}},\"title\":{\"x\":0.05},\"xaxis\":{\"automargin\":true,\"gridcolor\":\"white\",\"linecolor\":\"white\",\"ticks\":\"\",\"title\":{\"standoff\":15},\"zerolinecolor\":\"white\",\"zerolinewidth\":2},\"yaxis\":{\"automargin\":true,\"gridcolor\":\"white\",\"linecolor\":\"white\",\"ticks\":\"\",\"title\":{\"standoff\":15},\"zerolinecolor\":\"white\",\"zerolinewidth\":2}}},\"title\":{\"font\":{\"size\":24,\"color\":\"white\"},\"text\":\"Credit Card Transactions\"},\"legend\":{\"title\":{\"font\":{\"size\":20,\"color\":\"yellow\"}}},\"font\":{\"color\":\"white\",\"size\":16},\"paper_bgcolor\":\"black\",\"plot_bgcolor\":\"black\"},                        {\"responsive\": true}                    ).then(function(){\n",
              "                            \n",
              "var gd = document.getElementById('bc2946c6-a822-4d4b-9ae7-f15de9684675');\n",
              "var x = new MutationObserver(function (mutations, observer) {{\n",
              "        var display = window.getComputedStyle(gd).display;\n",
              "        if (!display || display === 'none') {{\n",
              "            console.log([gd, 'removed!']);\n",
              "            Plotly.purge(gd);\n",
              "            observer.disconnect();\n",
              "        }}\n",
              "}});\n",
              "\n",
              "// Listen for the removal of the full notebook cells\n",
              "var notebookContainer = gd.closest('#notebook-container');\n",
              "if (notebookContainer) {{\n",
              "    x.observe(notebookContainer, {childList: true});\n",
              "}}\n",
              "\n",
              "// Listen for the clearing of the current output cell\n",
              "var outputEl = gd.closest('.output');\n",
              "if (outputEl) {{\n",
              "    x.observe(outputEl, {childList: true});\n",
              "}}\n",
              "\n",
              "                        })                };                            </script>        </div>\n",
              "</body>\n",
              "</html>"
            ]
          },
          "metadata": {}
        }
      ]
    },
    {
      "cell_type": "markdown",
      "source": [
        "Checking the gender balance"
      ],
      "metadata": {
        "id": "mgs5tWJqW3qT"
      }
    },
    {
      "cell_type": "code",
      "source": [
        "# Define colors and labels for the pie chart\n",
        "colors = ['#FF69B4', '#1E90FF']  # pink and blue\n",
        "labels = ['Female', 'Male']\n",
        "\n",
        "# Calculate the percentage of transactions by gender\n",
        "gender_percentage = df['gender'].value_counts(normalize=True) * 100\n",
        "gender_counts = df['gender'].value_counts()\n",
        "\n",
        "# Create a Pie chart with Plotly\n",
        "fig = go.Figure(data=[go.Pie(labels=labels,\n",
        "                             values=gender_percentage,\n",
        "                             hole=.3)])\n",
        "\n",
        "# Customize the chart colors, fonts, and layout\n",
        "fig.update_traces(hoverinfo='label+percent', textinfo='percent', textfont_size=18,\n",
        "                  marker=dict(colors=colors, line=dict(color='white', width=0.1)))\n",
        "fig.update_layout(\n",
        "    title_text=\"Credit Card Transactions by Gender\",\n",
        "    title_font=dict(size=24, color='white'),\n",
        "    legend_title_font=dict(size=20, color='yellow'),\n",
        "    paper_bgcolor=\"black\",\n",
        "    plot_bgcolor='black',\n",
        "    font=dict(color='white', size=16)\n",
        ")\n",
        "\n",
        "# Show the chart\n",
        "fig.show()\n"
      ],
      "metadata": {
        "colab": {
          "base_uri": "https://localhost:8080/",
          "height": 542
        },
        "id": "zHXkiAHlW5tI",
        "outputId": "20a4e6c8-ea01-40da-97c2-3d70201f1478"
      },
      "execution_count": 76,
      "outputs": [
        {
          "output_type": "display_data",
          "data": {
            "text/html": [
              "<html>\n",
              "<head><meta charset=\"utf-8\" /></head>\n",
              "<body>\n",
              "    <div>            <script src=\"https://cdnjs.cloudflare.com/ajax/libs/mathjax/2.7.5/MathJax.js?config=TeX-AMS-MML_SVG\"></script><script type=\"text/javascript\">if (window.MathJax) {MathJax.Hub.Config({SVG: {font: \"STIX-Web\"}});}</script>                <script type=\"text/javascript\">window.PlotlyConfig = {MathJaxConfig: 'local'};</script>\n",
              "        <script src=\"https://cdn.plot.ly/plotly-2.8.3.min.js\"></script>                <div id=\"2c6d959c-7b22-4618-b484-85c129c58f5a\" class=\"plotly-graph-div\" style=\"height:525px; width:100%;\"></div>            <script type=\"text/javascript\">                                    window.PLOTLYENV=window.PLOTLYENV || {};                                    if (document.getElementById(\"2c6d959c-7b22-4618-b484-85c129c58f5a\")) {                    Plotly.newPlot(                        \"2c6d959c-7b22-4618-b484-85c129c58f5a\",                        [{\"hole\":0.3,\"labels\":[\"Female\",\"Male\"],\"values\":[53.85748990747026,46.14251009252974],\"type\":\"pie\",\"textfont\":{\"size\":18},\"marker\":{\"line\":{\"color\":\"white\",\"width\":0.1},\"colors\":[\"#FF69B4\",\"#1E90FF\"]},\"hoverinfo\":\"label+percent\",\"textinfo\":\"percent\"}],                        {\"template\":{\"data\":{\"bar\":[{\"error_x\":{\"color\":\"#2a3f5f\"},\"error_y\":{\"color\":\"#2a3f5f\"},\"marker\":{\"line\":{\"color\":\"#E5ECF6\",\"width\":0.5},\"pattern\":{\"fillmode\":\"overlay\",\"size\":10,\"solidity\":0.2}},\"type\":\"bar\"}],\"barpolar\":[{\"marker\":{\"line\":{\"color\":\"#E5ECF6\",\"width\":0.5},\"pattern\":{\"fillmode\":\"overlay\",\"size\":10,\"solidity\":0.2}},\"type\":\"barpolar\"}],\"carpet\":[{\"aaxis\":{\"endlinecolor\":\"#2a3f5f\",\"gridcolor\":\"white\",\"linecolor\":\"white\",\"minorgridcolor\":\"white\",\"startlinecolor\":\"#2a3f5f\"},\"baxis\":{\"endlinecolor\":\"#2a3f5f\",\"gridcolor\":\"white\",\"linecolor\":\"white\",\"minorgridcolor\":\"white\",\"startlinecolor\":\"#2a3f5f\"},\"type\":\"carpet\"}],\"choropleth\":[{\"colorbar\":{\"outlinewidth\":0,\"ticks\":\"\"},\"type\":\"choropleth\"}],\"contour\":[{\"colorbar\":{\"outlinewidth\":0,\"ticks\":\"\"},\"colorscale\":[[0.0,\"#0d0887\"],[0.1111111111111111,\"#46039f\"],[0.2222222222222222,\"#7201a8\"],[0.3333333333333333,\"#9c179e\"],[0.4444444444444444,\"#bd3786\"],[0.5555555555555556,\"#d8576b\"],[0.6666666666666666,\"#ed7953\"],[0.7777777777777778,\"#fb9f3a\"],[0.8888888888888888,\"#fdca26\"],[1.0,\"#f0f921\"]],\"type\":\"contour\"}],\"contourcarpet\":[{\"colorbar\":{\"outlinewidth\":0,\"ticks\":\"\"},\"type\":\"contourcarpet\"}],\"heatmap\":[{\"colorbar\":{\"outlinewidth\":0,\"ticks\":\"\"},\"colorscale\":[[0.0,\"#0d0887\"],[0.1111111111111111,\"#46039f\"],[0.2222222222222222,\"#7201a8\"],[0.3333333333333333,\"#9c179e\"],[0.4444444444444444,\"#bd3786\"],[0.5555555555555556,\"#d8576b\"],[0.6666666666666666,\"#ed7953\"],[0.7777777777777778,\"#fb9f3a\"],[0.8888888888888888,\"#fdca26\"],[1.0,\"#f0f921\"]],\"type\":\"heatmap\"}],\"heatmapgl\":[{\"colorbar\":{\"outlinewidth\":0,\"ticks\":\"\"},\"colorscale\":[[0.0,\"#0d0887\"],[0.1111111111111111,\"#46039f\"],[0.2222222222222222,\"#7201a8\"],[0.3333333333333333,\"#9c179e\"],[0.4444444444444444,\"#bd3786\"],[0.5555555555555556,\"#d8576b\"],[0.6666666666666666,\"#ed7953\"],[0.7777777777777778,\"#fb9f3a\"],[0.8888888888888888,\"#fdca26\"],[1.0,\"#f0f921\"]],\"type\":\"heatmapgl\"}],\"histogram\":[{\"marker\":{\"pattern\":{\"fillmode\":\"overlay\",\"size\":10,\"solidity\":0.2}},\"type\":\"histogram\"}],\"histogram2d\":[{\"colorbar\":{\"outlinewidth\":0,\"ticks\":\"\"},\"colorscale\":[[0.0,\"#0d0887\"],[0.1111111111111111,\"#46039f\"],[0.2222222222222222,\"#7201a8\"],[0.3333333333333333,\"#9c179e\"],[0.4444444444444444,\"#bd3786\"],[0.5555555555555556,\"#d8576b\"],[0.6666666666666666,\"#ed7953\"],[0.7777777777777778,\"#fb9f3a\"],[0.8888888888888888,\"#fdca26\"],[1.0,\"#f0f921\"]],\"type\":\"histogram2d\"}],\"histogram2dcontour\":[{\"colorbar\":{\"outlinewidth\":0,\"ticks\":\"\"},\"colorscale\":[[0.0,\"#0d0887\"],[0.1111111111111111,\"#46039f\"],[0.2222222222222222,\"#7201a8\"],[0.3333333333333333,\"#9c179e\"],[0.4444444444444444,\"#bd3786\"],[0.5555555555555556,\"#d8576b\"],[0.6666666666666666,\"#ed7953\"],[0.7777777777777778,\"#fb9f3a\"],[0.8888888888888888,\"#fdca26\"],[1.0,\"#f0f921\"]],\"type\":\"histogram2dcontour\"}],\"mesh3d\":[{\"colorbar\":{\"outlinewidth\":0,\"ticks\":\"\"},\"type\":\"mesh3d\"}],\"parcoords\":[{\"line\":{\"colorbar\":{\"outlinewidth\":0,\"ticks\":\"\"}},\"type\":\"parcoords\"}],\"pie\":[{\"automargin\":true,\"type\":\"pie\"}],\"scatter\":[{\"marker\":{\"colorbar\":{\"outlinewidth\":0,\"ticks\":\"\"}},\"type\":\"scatter\"}],\"scatter3d\":[{\"line\":{\"colorbar\":{\"outlinewidth\":0,\"ticks\":\"\"}},\"marker\":{\"colorbar\":{\"outlinewidth\":0,\"ticks\":\"\"}},\"type\":\"scatter3d\"}],\"scattercarpet\":[{\"marker\":{\"colorbar\":{\"outlinewidth\":0,\"ticks\":\"\"}},\"type\":\"scattercarpet\"}],\"scattergeo\":[{\"marker\":{\"colorbar\":{\"outlinewidth\":0,\"ticks\":\"\"}},\"type\":\"scattergeo\"}],\"scattergl\":[{\"marker\":{\"colorbar\":{\"outlinewidth\":0,\"ticks\":\"\"}},\"type\":\"scattergl\"}],\"scattermapbox\":[{\"marker\":{\"colorbar\":{\"outlinewidth\":0,\"ticks\":\"\"}},\"type\":\"scattermapbox\"}],\"scatterpolar\":[{\"marker\":{\"colorbar\":{\"outlinewidth\":0,\"ticks\":\"\"}},\"type\":\"scatterpolar\"}],\"scatterpolargl\":[{\"marker\":{\"colorbar\":{\"outlinewidth\":0,\"ticks\":\"\"}},\"type\":\"scatterpolargl\"}],\"scatterternary\":[{\"marker\":{\"colorbar\":{\"outlinewidth\":0,\"ticks\":\"\"}},\"type\":\"scatterternary\"}],\"surface\":[{\"colorbar\":{\"outlinewidth\":0,\"ticks\":\"\"},\"colorscale\":[[0.0,\"#0d0887\"],[0.1111111111111111,\"#46039f\"],[0.2222222222222222,\"#7201a8\"],[0.3333333333333333,\"#9c179e\"],[0.4444444444444444,\"#bd3786\"],[0.5555555555555556,\"#d8576b\"],[0.6666666666666666,\"#ed7953\"],[0.7777777777777778,\"#fb9f3a\"],[0.8888888888888888,\"#fdca26\"],[1.0,\"#f0f921\"]],\"type\":\"surface\"}],\"table\":[{\"cells\":{\"fill\":{\"color\":\"#EBF0F8\"},\"line\":{\"color\":\"white\"}},\"header\":{\"fill\":{\"color\":\"#C8D4E3\"},\"line\":{\"color\":\"white\"}},\"type\":\"table\"}]},\"layout\":{\"annotationdefaults\":{\"arrowcolor\":\"#2a3f5f\",\"arrowhead\":0,\"arrowwidth\":1},\"autotypenumbers\":\"strict\",\"coloraxis\":{\"colorbar\":{\"outlinewidth\":0,\"ticks\":\"\"}},\"colorscale\":{\"diverging\":[[0,\"#8e0152\"],[0.1,\"#c51b7d\"],[0.2,\"#de77ae\"],[0.3,\"#f1b6da\"],[0.4,\"#fde0ef\"],[0.5,\"#f7f7f7\"],[0.6,\"#e6f5d0\"],[0.7,\"#b8e186\"],[0.8,\"#7fbc41\"],[0.9,\"#4d9221\"],[1,\"#276419\"]],\"sequential\":[[0.0,\"#0d0887\"],[0.1111111111111111,\"#46039f\"],[0.2222222222222222,\"#7201a8\"],[0.3333333333333333,\"#9c179e\"],[0.4444444444444444,\"#bd3786\"],[0.5555555555555556,\"#d8576b\"],[0.6666666666666666,\"#ed7953\"],[0.7777777777777778,\"#fb9f3a\"],[0.8888888888888888,\"#fdca26\"],[1.0,\"#f0f921\"]],\"sequentialminus\":[[0.0,\"#0d0887\"],[0.1111111111111111,\"#46039f\"],[0.2222222222222222,\"#7201a8\"],[0.3333333333333333,\"#9c179e\"],[0.4444444444444444,\"#bd3786\"],[0.5555555555555556,\"#d8576b\"],[0.6666666666666666,\"#ed7953\"],[0.7777777777777778,\"#fb9f3a\"],[0.8888888888888888,\"#fdca26\"],[1.0,\"#f0f921\"]]},\"colorway\":[\"#636efa\",\"#EF553B\",\"#00cc96\",\"#ab63fa\",\"#FFA15A\",\"#19d3f3\",\"#FF6692\",\"#B6E880\",\"#FF97FF\",\"#FECB52\"],\"font\":{\"color\":\"#2a3f5f\"},\"geo\":{\"bgcolor\":\"white\",\"lakecolor\":\"white\",\"landcolor\":\"#E5ECF6\",\"showlakes\":true,\"showland\":true,\"subunitcolor\":\"white\"},\"hoverlabel\":{\"align\":\"left\"},\"hovermode\":\"closest\",\"mapbox\":{\"style\":\"light\"},\"paper_bgcolor\":\"white\",\"plot_bgcolor\":\"#E5ECF6\",\"polar\":{\"angularaxis\":{\"gridcolor\":\"white\",\"linecolor\":\"white\",\"ticks\":\"\"},\"bgcolor\":\"#E5ECF6\",\"radialaxis\":{\"gridcolor\":\"white\",\"linecolor\":\"white\",\"ticks\":\"\"}},\"scene\":{\"xaxis\":{\"backgroundcolor\":\"#E5ECF6\",\"gridcolor\":\"white\",\"gridwidth\":2,\"linecolor\":\"white\",\"showbackground\":true,\"ticks\":\"\",\"zerolinecolor\":\"white\"},\"yaxis\":{\"backgroundcolor\":\"#E5ECF6\",\"gridcolor\":\"white\",\"gridwidth\":2,\"linecolor\":\"white\",\"showbackground\":true,\"ticks\":\"\",\"zerolinecolor\":\"white\"},\"zaxis\":{\"backgroundcolor\":\"#E5ECF6\",\"gridcolor\":\"white\",\"gridwidth\":2,\"linecolor\":\"white\",\"showbackground\":true,\"ticks\":\"\",\"zerolinecolor\":\"white\"}},\"shapedefaults\":{\"line\":{\"color\":\"#2a3f5f\"}},\"ternary\":{\"aaxis\":{\"gridcolor\":\"white\",\"linecolor\":\"white\",\"ticks\":\"\"},\"baxis\":{\"gridcolor\":\"white\",\"linecolor\":\"white\",\"ticks\":\"\"},\"bgcolor\":\"#E5ECF6\",\"caxis\":{\"gridcolor\":\"white\",\"linecolor\":\"white\",\"ticks\":\"\"}},\"title\":{\"x\":0.05},\"xaxis\":{\"automargin\":true,\"gridcolor\":\"white\",\"linecolor\":\"white\",\"ticks\":\"\",\"title\":{\"standoff\":15},\"zerolinecolor\":\"white\",\"zerolinewidth\":2},\"yaxis\":{\"automargin\":true,\"gridcolor\":\"white\",\"linecolor\":\"white\",\"ticks\":\"\",\"title\":{\"standoff\":15},\"zerolinecolor\":\"white\",\"zerolinewidth\":2}}},\"title\":{\"font\":{\"size\":24,\"color\":\"white\"},\"text\":\"Credit Card Transactions by Gender\"},\"legend\":{\"title\":{\"font\":{\"size\":20,\"color\":\"yellow\"}}},\"font\":{\"color\":\"white\",\"size\":16},\"paper_bgcolor\":\"black\",\"plot_bgcolor\":\"black\"},                        {\"responsive\": true}                    ).then(function(){\n",
              "                            \n",
              "var gd = document.getElementById('2c6d959c-7b22-4618-b484-85c129c58f5a');\n",
              "var x = new MutationObserver(function (mutations, observer) {{\n",
              "        var display = window.getComputedStyle(gd).display;\n",
              "        if (!display || display === 'none') {{\n",
              "            console.log([gd, 'removed!']);\n",
              "            Plotly.purge(gd);\n",
              "            observer.disconnect();\n",
              "        }}\n",
              "}});\n",
              "\n",
              "// Listen for the removal of the full notebook cells\n",
              "var notebookContainer = gd.closest('#notebook-container');\n",
              "if (notebookContainer) {{\n",
              "    x.observe(notebookContainer, {childList: true});\n",
              "}}\n",
              "\n",
              "// Listen for the clearing of the current output cell\n",
              "var outputEl = gd.closest('.output');\n",
              "if (outputEl) {{\n",
              "    x.observe(outputEl, {childList: true});\n",
              "}}\n",
              "\n",
              "                        })                };                            </script>        </div>\n",
              "</body>\n",
              "</html>"
            ]
          },
          "metadata": {}
        }
      ]
    },
    {
      "cell_type": "code",
      "source": [
        "gender_counts"
      ],
      "metadata": {
        "colab": {
          "base_uri": "https://localhost:8080/"
        },
        "id": "BxS0ViCXX5J_",
        "outputId": "19b1a80a-7dc1-4c9c-9dc7-e34c0f7f2de6"
      },
      "execution_count": 77,
      "outputs": [
        {
          "output_type": "execute_result",
          "data": {
            "text/plain": [
              "F    60301\n",
              "M    51663\n",
              "Name: gender, dtype: int64"
            ]
          },
          "metadata": {},
          "execution_count": 77
        }
      ]
    },
    {
      "cell_type": "markdown",
      "source": [
        "Fraud Analysis based on the amount"
      ],
      "metadata": {
        "id": "hBPw_7oG7x17"
      }
    },
    {
      "cell_type": "code",
      "source": [
        "# Create a histogram of transaction amounts for non-fraudulent transactions\n",
        "plt.hist(df[df['is_fraud']==0]['amt'], bins=25, alpha=0.5, label='Not Fraud', density=True)\n",
        "\n",
        "# Create a histogram of transaction amounts for fraudulent transactions\n",
        "plt.hist(df[df['is_fraud']==1]['amt'], bins=25, alpha=0.5, label='Fraud', density=True)\n",
        "\n",
        "# Add labels and legend to the plot\n",
        "plt.ylabel('Density')\n",
        "plt.xlabel('Transaction Amount in USD')\n",
        "plt.xscale('log')\n",
        "plt.legend(title='Fraud Status')"
      ],
      "metadata": {
        "id": "zbwPaLsL3_HV",
        "outputId": "0ecaefa3-0f1f-45be-fd2c-b946ec4956ea",
        "colab": {
          "base_uri": "https://localhost:8080/",
          "height": 301
        }
      },
      "execution_count": 78,
      "outputs": [
        {
          "output_type": "execute_result",
          "data": {
            "text/plain": [
              "<matplotlib.legend.Legend at 0x7fda00553c10>"
            ]
          },
          "metadata": {},
          "execution_count": 78
        },
        {
          "output_type": "display_data",
          "data": {
            "text/plain": [
              "<Figure size 432x288 with 1 Axes>"
            ],
            "image/png": "[encoded data removed]"
          },
          "metadata": {
            "needs_background": "light"
          }
        }
      ]
    },
    {
      "cell_type": "code",
      "source": [
        "#calculate the percentage difference\n",
        "a=df[df['is_fraud']==0]['category'].value_counts(normalize=True).to_frame().reset_index()\n",
        "a.columns=['category','not fraud percentage']\n",
        "\n",
        "b=df[df['is_fraud']==1]['category'].value_counts(normalize=True).to_frame().reset_index()\n",
        "b.columns=['category','fraud percentage']\n",
        "ab=a.merge(b,on='category')\n",
        "ab['diff']=ab['fraud percentage']-ab['not fraud percentage']\n",
        "\n",
        "ax=sns.barplot(y='category',x='diff',data=ab.sort_values('diff',ascending=False))\n",
        "ax.set_xlabel('Percentage Difference')\n",
        "ax.set_ylabel('Transaction Category')\n",
        "plt.title('The Percentage Difference of Fraudulent over Non-Fraudulent Transations in Each Spending Category ')"
      ],
      "metadata": {
        "id": "QPi9r0cA73e5",
        "outputId": "aa6dd37c-6e03-4a7f-90df-d06f0ba059f2",
        "colab": {
          "base_uri": "https://localhost:8080/",
          "height": 313
        }
      },
      "execution_count": 79,
      "outputs": [
        {
          "output_type": "execute_result",
          "data": {
            "text/plain": [
              "Text(0.5, 1.0, 'The Percentage Difference of Fraudulent over Non-Fraudulent Transations in Each Spending Category ')"
            ]
          },
          "metadata": {},
          "execution_count": 79
        },
        {
          "output_type": "display_data",
          "data": {
            "text/plain": [
              "<Figure size 432x288 with 1 Axes>"
            ],
            "image/png": "[encoded data removed]"
          },
          "metadata": {
            "needs_background": "light"
          }
        }
      ]
    },
    {
      "cell_type": "markdown",
      "source": [
        "Certain categories of spending experience a higher incidence of fraud compared to others. Transactions categorized as 'Shopping_net', 'Grocery_pos', and 'misc_net' are more susceptible to fraud, whereas transactions categorized as 'home' and 'grocery_net' are more likely to be genuine than fraudulent."
      ],
      "metadata": {
        "id": "N4xNbmja8SyN"
      }
    },
    {
      "cell_type": "markdown",
      "source": [
        "This clearly shows fraud usually happens during late night hours"
      ],
      "metadata": {
        "id": "yTnjUDNe9qCI"
      }
    },
    {
      "cell_type": "code",
      "source": [
        "df['hour'] = pd.to_datetime(df['trans_time']).dt.hour\n",
        "plt.figure(figsize=(10, 6))\n",
        "\n",
        "ax = sns.histplot(data=df, x=\"hour\", hue=\"is_fraud\", common_norm=False, stat='percent', multiple='dodge')\n",
        "ax.set_ylabel('Percentage')\n",
        "ax.set_xlabel('Time (Hour) in a Day')\n",
        "plt.xticks(np.arange(0,24,1))\n",
        "plt.legend(title='Type', labels=['Fraud', 'Not Fraud'])\n",
        "\n",
        "# Show the plot\n",
        "plt.show()\n"
      ],
      "metadata": {
        "id": "-CW-jJdu8kUF",
        "outputId": "0e9fb781-c8f8-43af-d72f-1d0ac8c2c9ca",
        "colab": {
          "base_uri": "https://localhost:8080/",
          "height": 388
        }
      },
      "execution_count": 80,
      "outputs": [
        {
          "output_type": "display_data",
          "data": {
            "text/plain": [
              "<Figure size 720x432 with 1 Axes>"
            ],
            "image/png": "[encoded data removed]"
          },
          "metadata": {
            "needs_background": "light"
          }
        }
      ]
    },
    {
      "cell_type": "markdown",
      "source": [
        "Based on gender, payments from males are more fradualent"
      ],
      "metadata": {
        "id": "6Iqy_ICg-CKO"
      }
    },
    {
      "cell_type": "code",
      "source": [
        "colors = ['blue', 'red']\n",
        "plt.figure(figsize=(10, 6))\n",
        "\n",
        "# Create a histogram of fraud counts by gender\n",
        "ax = sns.histplot(x='gender', data=df, hue='is_fraud', stat='percent', multiple='dodge', common_norm=False, palette=colors)\n",
        "\n",
        "# Add labels and legend to the plot\n",
        "ax.set_ylabel('Percentage')\n",
        "ax.set_xlabel('Credit Card Holder Gender')\n",
        "plt.legend(title='Type', labels=['Fraud', 'Not Fraud'])\n"
      ],
      "metadata": {
        "id": "fSBaizsm9yBn",
        "outputId": "eac2e91e-214c-4471-a23f-d70b26209e8a",
        "colab": {
          "base_uri": "https://localhost:8080/",
          "height": 406
        }
      },
      "execution_count": 81,
      "outputs": [
        {
          "output_type": "execute_result",
          "data": {
            "text/plain": [
              "<matplotlib.legend.Legend at 0x7fd9f360cb20>"
            ]
          },
          "metadata": {},
          "execution_count": 81
        },
        {
          "output_type": "display_data",
          "data": {
            "text/plain": [
              "<Figure size 720x432 with 1 Axes>"
            ],
            "image/png": "[encoded data removed]"
          },
          "metadata": {
            "needs_background": "light"
          }
        }
      ]
    }
  ]
}