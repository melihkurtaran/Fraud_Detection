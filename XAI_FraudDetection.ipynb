{
  "nbformat": 4,
  "nbformat_minor": 0,
  "metadata": {
    "colab": {
      "provenance": [],
      "authorship_tag": "ABX9TyNko4alGH4zSz9giT+KIjj2",
      "include_colab_link": true
    },
    "kernelspec": {
      "name": "python3",
      "display_name": "Python 3"
    },
    "language_info": {
      "name": "python"
    }
  },
  "cells": [
    {
      "cell_type": "markdown",
      "metadata": {
        "id": "view-in-github",
        "colab_type": "text"
      },
      "source": [
        "<a href=\"https://colab.research.google.com/github/melihkurtaran/Fraud_Detection/blob/main/XAI_FraudDetection.ipynb\" target=\"_parent\"><img src=\"https://colab.research.google.com/assets/colab-badge.svg\" alt=\"Open In Colab\"/></a>"
      ]
    },
    {
      "cell_type": "markdown",
      "source": [
        "**Fraud Detection Project XAI on generated datasets**"
      ],
      "metadata": {
        "id": "YtlyOM94Qj_t"
      }
    },
    {
      "cell_type": "code",
      "source": [
        "#Load libraries\n",
        "import pandas as pd\n",
        "import numpy as np\n",
        "import matplotlib.pyplot as plt\n",
        "import plotly.graph_objects as go\n",
        "import plotly.subplots as sp\n",
        "import seaborn as sns\n",
        "import itertools\n",
        "from imblearn.over_sampling import SMOTE\n",
        "from sklearn.model_selection import train_test_split\n",
        "from sklearn.ensemble import RandomForestClassifier\n",
        "from sklearn.metrics import confusion_matrix, classification_report\n",
        "from sklearn.metrics import matthews_corrcoef"
      ],
      "metadata": {
        "id": "N0M2A2KzQ_aG"
      },
      "execution_count": 111,
      "outputs": []
    },
    {
      "cell_type": "code",
      "source": [
        "#Connect to GitHub for faster access\n",
        "!git clone https://github.com/melihkurtaran/Fraud_Detection.git"
      ],
      "metadata": {
        "colab": {
          "base_uri": "https://localhost:8080/"
        },
        "id": "w5QWJ6RaQoct",
        "outputId": "f055f677-13b4-4df0-b096-184afc3c31eb"
      },
      "execution_count": null,
      "outputs": [
        {
          "output_type": "stream",
          "name": "stdout",
          "text": [
            "fatal: destination path 'Fraud_Detection' already exists and is not an empty directory.\n"
          ]
        }
      ]
    },
    {
      "cell_type": "code",
      "source": [
        "# Upload the gendered datasets\n",
        "female = pd.read_csv(\"Fraud_Detection/datasets/generated_datasets/adults_2550_female_urban.csv\", delimiter='|')\n",
        "male = pd.read_csv(\"Fraud_Detection/datasets/generated_datasets/adults_2550_male_urban.csv\", delimiter='|')"
      ],
      "metadata": {
        "id": "JYuSShbiQu8D"
      },
      "execution_count": null,
      "outputs": []
    },
    {
      "cell_type": "code",
      "source": [
        "female = female.rename(columns={'merch_long,,': 'merch_long'})\n",
        "\n",
        "# Merge the dataframes\n",
        "df = pd.concat([female, male])\n",
        "\n",
        "df = df.reset_index(drop=True)"
      ],
      "metadata": {
        "id": "opAUsjWXTMna"
      },
      "execution_count": null,
      "outputs": []
    },
    {
      "cell_type": "code",
      "source": [
        "df.head()"
      ],
      "metadata": {
        "colab": {
          "base_uri": "https://localhost:8080/",
          "height": 473
        },
        "id": "F7MtgJGeSvyD",
        "outputId": "5ce5301a-7004-48a3-8889-7a4eba4f753e"
      },
      "execution_count": 94,
      "outputs": [
        {
          "output_type": "execute_result",
          "data": {
            "text/plain": [
              "           ssn         cc_num  first     last gender                street  \\\n",
              "0  115-04-4507  4218196001337  Kathy  Johnson      F  863 Lawrence Valleys   \n",
              "1  115-04-4507  4218196001337  Kathy  Johnson      F  863 Lawrence Valleys   \n",
              "2  115-04-4507  4218196001337  Kathy  Johnson      F  863 Lawrence Valleys   \n",
              "3  115-04-4507  4218196001337  Kathy  Johnson      F  863 Lawrence Valleys   \n",
              "4  115-04-4507  4218196001337  Kathy  Johnson      F  863 Lawrence Valleys   \n",
              "\n",
              "        city state    zip      lat  ...  trans_time   unix_time  \\\n",
              "0  Homosassa    FL  34446  28.7508  ...    01:47:59  1670806079   \n",
              "1  Homosassa    FL  34446  28.7508  ...    03:39:36  1670812776   \n",
              "2  Homosassa    FL  34446  28.7508  ...    02:33:53  1670808833   \n",
              "3  Homosassa    FL  34446  28.7508  ...    03:36:20  1670898980   \n",
              "4  Homosassa    FL  34446  28.7508  ...    01:04:54  1670889894   \n",
              "\n",
              "        category     amt  is_fraud                  merchant  merch_lat hour  \\\n",
              "0   shopping_net   10.13         1   fraud_Fisher-Schowalter  28.312405    1   \n",
              "1   shopping_pos  814.04         1           fraud_Lynch Ltd  28.522520    3   \n",
              "2  gas_transport  969.16         1     fraud_Cummerata-Jones  27.874119    2   \n",
              "3   shopping_pos  743.97         1          fraud_Dooley Inc  29.525702    3   \n",
              "4   shopping_pos  791.05         1  fraud_Stoltenberg-Beatty  28.629166    1   \n",
              "\n",
              "  day  month  \n",
              "0   0     12  \n",
              "1   0     12  \n",
              "2   0     12  \n",
              "3   1     12  \n",
              "4   1     12  \n",
              "\n",
              "[5 rows x 28 columns]"
            ],
            "text/html": [
              "\n",
              "  <div id=\"df-4f47d55b-02b6-4b52-a363-d5365055fdee\">\n",
              "    <div class=\"colab-df-container\">\n",
              "      <div>\n",
              "<style scoped>\n",
              "    .dataframe tbody tr th:only-of-type {\n",
              "        vertical-align: middle;\n",
              "    }\n",
              "\n",
              "    .dataframe tbody tr th {\n",
              "        vertical-align: top;\n",
              "    }\n",
              "\n",
              "    .dataframe thead th {\n",
              "        text-align: right;\n",
              "    }\n",
              "</style>\n",
              "<table border=\"1\" class=\"dataframe\">\n",
              "  <thead>\n",
              "    <tr style=\"text-align: right;\">\n",
              "      <th></th>\n",
              "      <th>ssn</th>\n",
              "      <th>cc_num</th>\n",
              "      <th>first</th>\n",
              "      <th>last</th>\n",
              "      <th>gender</th>\n",
              "      <th>street</th>\n",
              "      <th>city</th>\n",
              "      <th>state</th>\n",
              "      <th>zip</th>\n",
              "      <th>lat</th>\n",
              "      <th>...</th>\n",
              "      <th>trans_time</th>\n",
              "      <th>unix_time</th>\n",
              "      <th>category</th>\n",
              "      <th>amt</th>\n",
              "      <th>is_fraud</th>\n",
              "      <th>merchant</th>\n",
              "      <th>merch_lat</th>\n",
              "      <th>hour</th>\n",
              "      <th>day</th>\n",
              "      <th>month</th>\n",
              "    </tr>\n",
              "  </thead>\n",
              "  <tbody>\n",
              "    <tr>\n",
              "      <th>0</th>\n",
              "      <td>115-04-4507</td>\n",
              "      <td>4218196001337</td>\n",
              "      <td>Kathy</td>\n",
              "      <td>Johnson</td>\n",
              "      <td>F</td>\n",
              "      <td>863 Lawrence Valleys</td>\n",
              "      <td>Homosassa</td>\n",
              "      <td>FL</td>\n",
              "      <td>34446</td>\n",
              "      <td>28.7508</td>\n",
              "      <td>...</td>\n",
              "      <td>01:47:59</td>\n",
              "      <td>1670806079</td>\n",
              "      <td>shopping_net</td>\n",
              "      <td>10.13</td>\n",
              "      <td>1</td>\n",
              "      <td>fraud_Fisher-Schowalter</td>\n",
              "      <td>28.312405</td>\n",
              "      <td>1</td>\n",
              "      <td>0</td>\n",
              "      <td>12</td>\n",
              "    </tr>\n",
              "    <tr>\n",
              "      <th>1</th>\n",
              "      <td>115-04-4507</td>\n",
              "      <td>4218196001337</td>\n",
              "      <td>Kathy</td>\n",
              "      <td>Johnson</td>\n",
              "      <td>F</td>\n",
              "      <td>863 Lawrence Valleys</td>\n",
              "      <td>Homosassa</td>\n",
              "      <td>FL</td>\n",
              "      <td>34446</td>\n",
              "      <td>28.7508</td>\n",
              "      <td>...</td>\n",
              "      <td>03:39:36</td>\n",
              "      <td>1670812776</td>\n",
              "      <td>shopping_pos</td>\n",
              "      <td>814.04</td>\n",
              "      <td>1</td>\n",
              "      <td>fraud_Lynch Ltd</td>\n",
              "      <td>28.522520</td>\n",
              "      <td>3</td>\n",
              "      <td>0</td>\n",
              "      <td>12</td>\n",
              "    </tr>\n",
              "    <tr>\n",
              "      <th>2</th>\n",
              "      <td>115-04-4507</td>\n",
              "      <td>4218196001337</td>\n",
              "      <td>Kathy</td>\n",
              "      <td>Johnson</td>\n",
              "      <td>F</td>\n",
              "      <td>863 Lawrence Valleys</td>\n",
              "      <td>Homosassa</td>\n",
              "      <td>FL</td>\n",
              "      <td>34446</td>\n",
              "      <td>28.7508</td>\n",
              "      <td>...</td>\n",
              "      <td>02:33:53</td>\n",
              "      <td>1670808833</td>\n",
              "      <td>gas_transport</td>\n",
              "      <td>969.16</td>\n",
              "      <td>1</td>\n",
              "      <td>fraud_Cummerata-Jones</td>\n",
              "      <td>27.874119</td>\n",
              "      <td>2</td>\n",
              "      <td>0</td>\n",
              "      <td>12</td>\n",
              "    </tr>\n",
              "    <tr>\n",
              "      <th>3</th>\n",
              "      <td>115-04-4507</td>\n",
              "      <td>4218196001337</td>\n",
              "      <td>Kathy</td>\n",
              "      <td>Johnson</td>\n",
              "      <td>F</td>\n",
              "      <td>863 Lawrence Valleys</td>\n",
              "      <td>Homosassa</td>\n",
              "      <td>FL</td>\n",
              "      <td>34446</td>\n",
              "      <td>28.7508</td>\n",
              "      <td>...</td>\n",
              "      <td>03:36:20</td>\n",
              "      <td>1670898980</td>\n",
              "      <td>shopping_pos</td>\n",
              "      <td>743.97</td>\n",
              "      <td>1</td>\n",
              "      <td>fraud_Dooley Inc</td>\n",
              "      <td>29.525702</td>\n",
              "      <td>3</td>\n",
              "      <td>1</td>\n",
              "      <td>12</td>\n",
              "    </tr>\n",
              "    <tr>\n",
              "      <th>4</th>\n",
              "      <td>115-04-4507</td>\n",
              "      <td>4218196001337</td>\n",
              "      <td>Kathy</td>\n",
              "      <td>Johnson</td>\n",
              "      <td>F</td>\n",
              "      <td>863 Lawrence Valleys</td>\n",
              "      <td>Homosassa</td>\n",
              "      <td>FL</td>\n",
              "      <td>34446</td>\n",
              "      <td>28.7508</td>\n",
              "      <td>...</td>\n",
              "      <td>01:04:54</td>\n",
              "      <td>1670889894</td>\n",
              "      <td>shopping_pos</td>\n",
              "      <td>791.05</td>\n",
              "      <td>1</td>\n",
              "      <td>fraud_Stoltenberg-Beatty</td>\n",
              "      <td>28.629166</td>\n",
              "      <td>1</td>\n",
              "      <td>1</td>\n",
              "      <td>12</td>\n",
              "    </tr>\n",
              "  </tbody>\n",
              "</table>\n",
              "<p>5 rows × 28 columns</p>\n",
              "</div>\n",
              "      <button class=\"colab-df-convert\" onclick=\"convertToInteractive('df-4f47d55b-02b6-4b52-a363-d5365055fdee')\"\n",
              "              title=\"Convert this dataframe to an interactive table.\"\n",
              "              style=\"display:none;\">\n",
              "        \n",
              "  <svg xmlns=\"http://www.w3.org/2000/svg\" height=\"24px\"viewBox=\"0 0 24 24\"\n",
              "       width=\"24px\">\n",
              "    <path d=\"M0 0h24v24H0V0z\" fill=\"none\"/>\n",
              "    <path d=\"M18.56 5.44l.94 2.06.94-2.06 2.06-.94-2.06-.94-.94-2.06-.94 2.06-2.06.94zm-11 1L8.5 8.5l.94-2.06 2.06-.94-2.06-.94L8.5 2.5l-.94 2.06-2.06.94zm10 10l.94 2.06.94-2.06 2.06-.94-2.06-.94-.94-2.06-.94 2.06-2.06.94z\"/><path d=\"M17.41 7.96l-1.37-1.37c-.4-.4-.92-.59-1.43-.59-.52 0-1.04.2-1.43.59L10.3 9.45l-7.72 7.72c-.78.78-.78 2.05 0 2.83L4 21.41c.39.39.9.59 1.41.59.51 0 1.02-.2 1.41-.59l7.78-7.78 2.81-2.81c.8-.78.8-2.07 0-2.86zM5.41 20L4 18.59l7.72-7.72 1.47 1.35L5.41 20z\"/>\n",
              "  </svg>\n",
              "      </button>\n",
              "      \n",
              "  <style>\n",
              "    .colab-df-container {\n",
              "      display:flex;\n",
              "      flex-wrap:wrap;\n",
              "      gap: 12px;\n",
              "    }\n",
              "\n",
              "    .colab-df-convert {\n",
              "      background-color: #E8F0FE;\n",
              "      border: none;\n",
              "      border-radius: 50%;\n",
              "      cursor: pointer;\n",
              "      display: none;\n",
              "      fill: #1967D2;\n",
              "      height: 32px;\n",
              "      padding: 0 0 0 0;\n",
              "      width: 32px;\n",
              "    }\n",
              "\n",
              "    .colab-df-convert:hover {\n",
              "      background-color: #E2EBFA;\n",
              "      box-shadow: 0px 1px 2px rgba(60, 64, 67, 0.3), 0px 1px 3px 1px rgba(60, 64, 67, 0.15);\n",
              "      fill: #174EA6;\n",
              "    }\n",
              "\n",
              "    [theme=dark] .colab-df-convert {\n",
              "      background-color: #3B4455;\n",
              "      fill: #D2E3FC;\n",
              "    }\n",
              "\n",
              "    [theme=dark] .colab-df-convert:hover {\n",
              "      background-color: #434B5C;\n",
              "      box-shadow: 0px 1px 3px 1px rgba(0, 0, 0, 0.15);\n",
              "      filter: drop-shadow(0px 1px 2px rgba(0, 0, 0, 0.3));\n",
              "      fill: #FFFFFF;\n",
              "    }\n",
              "  </style>\n",
              "\n",
              "      <script>\n",
              "        const buttonEl =\n",
              "          document.querySelector('#df-4f47d55b-02b6-4b52-a363-d5365055fdee button.colab-df-convert');\n",
              "        buttonEl.style.display =\n",
              "          google.colab.kernel.accessAllowed ? 'block' : 'none';\n",
              "\n",
              "        async function convertToInteractive(key) {\n",
              "          const element = document.querySelector('#df-4f47d55b-02b6-4b52-a363-d5365055fdee');\n",
              "          const dataTable =\n",
              "            await google.colab.kernel.invokeFunction('convertToInteractive',\n",
              "                                                     [key], {});\n",
              "          if (!dataTable) return;\n",
              "\n",
              "          const docLinkHtml = 'Like what you see? Visit the ' +\n",
              "            '<a target=\"_blank\" href=https://colab.research.google.com/notebooks/data_table.ipynb>data table notebook</a>'\n",
              "            + ' to learn more about interactive tables.';\n",
              "          element.innerHTML = '';\n",
              "          dataTable['output_type'] = 'display_data';\n",
              "          await google.colab.output.renderOutput(dataTable, element);\n",
              "          const docLink = document.createElement('div');\n",
              "          docLink.innerHTML = docLinkHtml;\n",
              "          element.appendChild(docLink);\n",
              "        }\n",
              "      </script>\n",
              "    </div>\n",
              "  </div>\n",
              "  "
            ]
          },
          "metadata": {},
          "execution_count": 94
        }
      ]
    },
    {
      "cell_type": "markdown",
      "source": [
        "No null values!"
      ],
      "metadata": {
        "id": "NzQzYtpjTqUT"
      }
    },
    {
      "cell_type": "code",
      "source": [
        "# Check for null values\n",
        "null_df = df.isnull()\n",
        "\n",
        "# Check if there are any null values in the original dataframe\n",
        "if null_df.any().any():\n",
        "    print(\"There are null values in the dataframe\")\n",
        "else:\n",
        "    print(\"There are no null values in the dataframe\")"
      ],
      "metadata": {
        "colab": {
          "base_uri": "https://localhost:8080/"
        },
        "id": "Z3qD7T2dTi6j",
        "outputId": "3085ea65-28ab-41d2-fa31-e3d372e9485e"
      },
      "execution_count": null,
      "outputs": [
        {
          "output_type": "stream",
          "name": "stdout",
          "text": [
            "There are no null values in the dataframe\n"
          ]
        }
      ]
    },
    {
      "cell_type": "code",
      "source": [
        "df = df.drop(['merch_long'], axis=1)\n",
        "#df = df.drop(['ssn', 'cc_num','first','last','city','state','zip','street','dob','acct_num','profile','trans_num','trans_date','trans_time','unix_time','merch_long'], axis=1)"
      ],
      "metadata": {
        "id": "sn-JqUhbZtFN"
      },
      "execution_count": 93,
      "outputs": []
    },
    {
      "cell_type": "markdown",
      "source": [
        "# **Data Exploration**"
      ],
      "metadata": {
        "id": "hPifHeVqT5mI"
      }
    },
    {
      "cell_type": "code",
      "source": [
        "df.columns"
      ],
      "metadata": {
        "colab": {
          "base_uri": "https://localhost:8080/"
        },
        "id": "iXpO47aVT9Gh",
        "outputId": "3457e89c-a0e2-4bec-8f1f-24af0d678f3c"
      },
      "execution_count": null,
      "outputs": [
        {
          "output_type": "execute_result",
          "data": {
            "text/plain": [
              "Index(['ssn', 'cc_num', 'first', 'last', 'gender', 'street', 'city', 'state',\n",
              "       'zip', 'lat', 'long', 'city_pop', 'job', 'dob', 'acct_num', 'profile',\n",
              "       'trans_num', 'trans_date', 'trans_time', 'unix_time', 'category', 'amt',\n",
              "       'is_fraud', 'merchant', 'merch_lat', 'merch_long'],\n",
              "      dtype='object')"
            ]
          },
          "metadata": {},
          "execution_count": 74
        }
      ]
    },
    {
      "cell_type": "markdown",
      "source": [
        "Checking the imbalance for frauds"
      ],
      "metadata": {
        "id": "ek7Z79m6UYaU"
      }
    },
    {
      "cell_type": "code",
      "source": [
        "# Define colors and labels for the pie chart\n",
        "colors = ['#00BFFF', '#FFD700']  # blue and gold\n",
        "labels = ['Normal Transactions', 'Fraudulent Transactions']\n",
        "\n",
        "# Calculate the percentage of fraudulent transactions\n",
        "fraud_percentage = df['is_fraud'].value_counts(normalize=True) * 100\n",
        "\n",
        "# Create a Pie chart with Plotly\n",
        "fig = go.Figure(data=[go.Pie(labels=labels,\n",
        "                             values=fraud_percentage,\n",
        "                             hole=.3)])\n",
        "\n",
        "# Customize the chart colors, fonts, and layout\n",
        "fig.update_traces(hoverinfo='label+percent', textinfo='percent', textfont_size=18,\n",
        "                  marker=dict(colors=colors, line=dict(color='white', width=0.1)))\n",
        "fig.update_layout(\n",
        "    title_text=\"Credit Card Transactions\",\n",
        "    title_font=dict(size=24, color='white'),\n",
        "    legend_title_font=dict(size=20, color='yellow'),\n",
        "    paper_bgcolor=\"black\",\n",
        "    plot_bgcolor='black',\n",
        "    font=dict(color='white', size=16)\n",
        ")\n",
        "\n",
        "# Show the chart\n",
        "fig.show()"
      ],
      "metadata": {
        "colab": {
          "base_uri": "https://localhost:8080/",
          "height": 542
        },
        "id": "ZxOb0kCcUFYK",
        "outputId": "857ab954-78d1-41a8-86d9-ad7cbde9d445"
      },
      "execution_count": null,
      "outputs": [
        {
          "output_type": "display_data",
          "data": {
            "text/html": [
              "<html>\n",
              "<head><meta charset=\"utf-8\" /></head>\n",
              "<body>\n",
              "    <div>            <script src=\"https://cdnjs.cloudflare.com/ajax/libs/mathjax/2.7.5/MathJax.js?config=TeX-AMS-MML_SVG\"></script><script type=\"text/javascript\">if (window.MathJax) {MathJax.Hub.Config({SVG: {font: \"STIX-Web\"}});}</script>                <script type=\"text/javascript\">window.PlotlyConfig = {MathJaxConfig: 'local'};</script>\n",
              "        <script src=\"https://cdn.plot.ly/plotly-2.8.3.min.js\"></script>                <div id=\"bc2946c6-a822-4d4b-9ae7-f15de9684675\" class=\"plotly-graph-div\" style=\"height:525px; width:100%;\"></div>            <script type=\"text/javascript\">                                    window.PLOTLYENV=window.PLOTLYENV || {};                                    if (document.getElementById(\"bc2946c6-a822-4d4b-9ae7-f15de9684675\")) {                    Plotly.newPlot(                        \"bc2946c6-a822-4d4b-9ae7-f15de9684675\",                        [{\"hole\":0.3,\"labels\":[\"Normal Transactions\",\"Fraudulent Transactions\"],\"values\":[99.22385766853633,0.7761423314636848],\"type\":\"pie\",\"textfont\":{\"size\":18},\"marker\":{\"line\":{\"color\":\"white\",\"width\":0.1},\"colors\":[\"#00BFFF\",\"#FFD700\"]},\"hoverinfo\":\"label+percent\",\"textinfo\":\"percent\"}],                        {\"template\":{\"data\":{\"bar\":[{\"error_x\":{\"color\":\"#2a3f5f\"},\"error_y\":{\"color\":\"#2a3f5f\"},\"marker\":{\"line\":{\"color\":\"#E5ECF6\",\"width\":0.5},\"pattern\":{\"fillmode\":\"overlay\",\"size\":10,\"solidity\":0.2}},\"type\":\"bar\"}],\"barpolar\":[{\"marker\":{\"line\":{\"color\":\"#E5ECF6\",\"width\":0.5},\"pattern\":{\"fillmode\":\"overlay\",\"size\":10,\"solidity\":0.2}},\"type\":\"barpolar\"}],\"carpet\":[{\"aaxis\":{\"endlinecolor\":\"#2a3f5f\",\"gridcolor\":\"white\",\"linecolor\":\"white\",\"minorgridcolor\":\"white\",\"startlinecolor\":\"#2a3f5f\"},\"baxis\":{\"endlinecolor\":\"#2a3f5f\",\"gridcolor\":\"white\",\"linecolor\":\"white\",\"minorgridcolor\":\"white\",\"startlinecolor\":\"#2a3f5f\"},\"type\":\"carpet\"}],\"choropleth\":[{\"colorbar\":{\"outlinewidth\":0,\"ticks\":\"\"},\"type\":\"choropleth\"}],\"contour\":[{\"colorbar\":{\"outlinewidth\":0,\"ticks\":\"\"},\"colorscale\":[[0.0,\"#0d0887\"],[0.1111111111111111,\"#46039f\"],[0.2222222222222222,\"#7201a8\"],[0.3333333333333333,\"#9c179e\"],[0.4444444444444444,\"#bd3786\"],[0.5555555555555556,\"#d8576b\"],[0.6666666666666666,\"#ed7953\"],[0.7777777777777778,\"#fb9f3a\"],[0.8888888888888888,\"#fdca26\"],[1.0,\"#f0f921\"]],\"type\":\"contour\"}],\"contourcarpet\":[{\"colorbar\":{\"outlinewidth\":0,\"ticks\":\"\"},\"type\":\"contourcarpet\"}],\"heatmap\":[{\"colorbar\":{\"outlinewidth\":0,\"ticks\":\"\"},\"colorscale\":[[0.0,\"#0d0887\"],[0.1111111111111111,\"#46039f\"],[0.2222222222222222,\"#7201a8\"],[0.3333333333333333,\"#9c179e\"],[0.4444444444444444,\"#bd3786\"],[0.5555555555555556,\"#d8576b\"],[0.6666666666666666,\"#ed7953\"],[0.7777777777777778,\"#fb9f3a\"],[0.8888888888888888,\"#fdca26\"],[1.0,\"#f0f921\"]],\"type\":\"heatmap\"}],\"heatmapgl\":[{\"colorbar\":{\"outlinewidth\":0,\"ticks\":\"\"},\"colorscale\":[[0.0,\"#0d0887\"],[0.1111111111111111,\"#46039f\"],[0.2222222222222222,\"#7201a8\"],[0.3333333333333333,\"#9c179e\"],[0.4444444444444444,\"#bd3786\"],[0.5555555555555556,\"#d8576b\"],[0.6666666666666666,\"#ed7953\"],[0.7777777777777778,\"#fb9f3a\"],[0.8888888888888888,\"#fdca26\"],[1.0,\"#f0f921\"]],\"type\":\"heatmapgl\"}],\"histogram\":[{\"marker\":{\"pattern\":{\"fillmode\":\"overlay\",\"size\":10,\"solidity\":0.2}},\"type\":\"histogram\"}],\"histogram2d\":[{\"colorbar\":{\"outlinewidth\":0,\"ticks\":\"\"},\"colorscale\":[[0.0,\"#0d0887\"],[0.1111111111111111,\"#46039f\"],[0.2222222222222222,\"#7201a8\"],[0.3333333333333333,\"#9c179e\"],[0.4444444444444444,\"#bd3786\"],[0.5555555555555556,\"#d8576b\"],[0.6666666666666666,\"#ed7953\"],[0.7777777777777778,\"#fb9f3a\"],[0.8888888888888888,\"#fdca26\"],[1.0,\"#f0f921\"]],\"type\":\"histogram2d\"}],\"histogram2dcontour\":[{\"colorbar\":{\"outlinewidth\":0,\"ticks\":\"\"},\"colorscale\":[[0.0,\"#0d0887\"],[0.1111111111111111,\"#46039f\"],[0.2222222222222222,\"#7201a8\"],[0.3333333333333333,\"#9c179e\"],[0.4444444444444444,\"#bd3786\"],[0.5555555555555556,\"#d8576b\"],[0.6666666666666666,\"#ed7953\"],[0.7777777777777778,\"#fb9f3a\"],[0.8888888888888888,\"#fdca26\"],[1.0,\"#f0f921\"]],\"type\":\"histogram2dcontour\"}],\"mesh3d\":[{\"colorbar\":{\"outlinewidth\":0,\"ticks\":\"\"},\"type\":\"mesh3d\"}],\"parcoords\":[{\"line\":{\"colorbar\":{\"outlinewidth\":0,\"ticks\":\"\"}},\"type\":\"parcoords\"}],\"pie\":[{\"automargin\":true,\"type\":\"pie\"}],\"scatter\":[{\"marker\":{\"colorbar\":{\"outlinewidth\":0,\"ticks\":\"\"}},\"type\":\"scatter\"}],\"scatter3d\":[{\"line\":{\"colorbar\":{\"outlinewidth\":0,\"ticks\":\"\"}},\"marker\":{\"colorbar\":{\"outlinewidth\":0,\"ticks\":\"\"}},\"type\":\"scatter3d\"}],\"scattercarpet\":[{\"marker\":{\"colorbar\":{\"outlinewidth\":0,\"ticks\":\"\"}},\"type\":\"scattercarpet\"}],\"scattergeo\":[{\"marker\":{\"colorbar\":{\"outlinewidth\":0,\"ticks\":\"\"}},\"type\":\"scattergeo\"}],\"scattergl\":[{\"marker\":{\"colorbar\":{\"outlinewidth\":0,\"ticks\":\"\"}},\"type\":\"scattergl\"}],\"scattermapbox\":[{\"marker\":{\"colorbar\":{\"outlinewidth\":0,\"ticks\":\"\"}},\"type\":\"scattermapbox\"}],\"scatterpolar\":[{\"marker\":{\"colorbar\":{\"outlinewidth\":0,\"ticks\":\"\"}},\"type\":\"scatterpolar\"}],\"scatterpolargl\":[{\"marker\":{\"colorbar\":{\"outlinewidth\":0,\"ticks\":\"\"}},\"type\":\"scatterpolargl\"}],\"scatterternary\":[{\"marker\":{\"colorbar\":{\"outlinewidth\":0,\"ticks\":\"\"}},\"type\":\"scatterternary\"}],\"surface\":[{\"colorbar\":{\"outlinewidth\":0,\"ticks\":\"\"},\"colorscale\":[[0.0,\"#0d0887\"],[0.1111111111111111,\"#46039f\"],[0.2222222222222222,\"#7201a8\"],[0.3333333333333333,\"#9c179e\"],[0.4444444444444444,\"#bd3786\"],[0.5555555555555556,\"#d8576b\"],[0.6666666666666666,\"#ed7953\"],[0.7777777777777778,\"#fb9f3a\"],[0.8888888888888888,\"#fdca26\"],[1.0,\"#f0f921\"]],\"type\":\"surface\"}],\"table\":[{\"cells\":{\"fill\":{\"color\":\"#EBF0F8\"},\"line\":{\"color\":\"white\"}},\"header\":{\"fill\":{\"color\":\"#C8D4E3\"},\"line\":{\"color\":\"white\"}},\"type\":\"table\"}]},\"layout\":{\"annotationdefaults\":{\"arrowcolor\":\"#2a3f5f\",\"arrowhead\":0,\"arrowwidth\":1},\"autotypenumbers\":\"strict\",\"coloraxis\":{\"colorbar\":{\"outlinewidth\":0,\"ticks\":\"\"}},\"colorscale\":{\"diverging\":[[0,\"#8e0152\"],[0.1,\"#c51b7d\"],[0.2,\"#de77ae\"],[0.3,\"#f1b6da\"],[0.4,\"#fde0ef\"],[0.5,\"#f7f7f7\"],[0.6,\"#e6f5d0\"],[0.7,\"#b8e186\"],[0.8,\"#7fbc41\"],[0.9,\"#4d9221\"],[1,\"#276419\"]],\"sequential\":[[0.0,\"#0d0887\"],[0.1111111111111111,\"#46039f\"],[0.2222222222222222,\"#7201a8\"],[0.3333333333333333,\"#9c179e\"],[0.4444444444444444,\"#bd3786\"],[0.5555555555555556,\"#d8576b\"],[0.6666666666666666,\"#ed7953\"],[0.7777777777777778,\"#fb9f3a\"],[0.8888888888888888,\"#fdca26\"],[1.0,\"#f0f921\"]],\"sequentialminus\":[[0.0,\"#0d0887\"],[0.1111111111111111,\"#46039f\"],[0.2222222222222222,\"#7201a8\"],[0.3333333333333333,\"#9c179e\"],[0.4444444444444444,\"#bd3786\"],[0.5555555555555556,\"#d8576b\"],[0.6666666666666666,\"#ed7953\"],[0.7777777777777778,\"#fb9f3a\"],[0.8888888888888888,\"#fdca26\"],[1.0,\"#f0f921\"]]},\"colorway\":[\"#636efa\",\"#EF553B\",\"#00cc96\",\"#ab63fa\",\"#FFA15A\",\"#19d3f3\",\"#FF6692\",\"#B6E880\",\"#FF97FF\",\"#FECB52\"],\"font\":{\"color\":\"#2a3f5f\"},\"geo\":{\"bgcolor\":\"white\",\"lakecolor\":\"white\",\"landcolor\":\"#E5ECF6\",\"showlakes\":true,\"showland\":true,\"subunitcolor\":\"white\"},\"hoverlabel\":{\"align\":\"left\"},\"hovermode\":\"closest\",\"mapbox\":{\"style\":\"light\"},\"paper_bgcolor\":\"white\",\"plot_bgcolor\":\"#E5ECF6\",\"polar\":{\"angularaxis\":{\"gridcolor\":\"white\",\"linecolor\":\"white\",\"ticks\":\"\"},\"bgcolor\":\"#E5ECF6\",\"radialaxis\":{\"gridcolor\":\"white\",\"linecolor\":\"white\",\"ticks\":\"\"}},\"scene\":{\"xaxis\":{\"backgroundcolor\":\"#E5ECF6\",\"gridcolor\":\"white\",\"gridwidth\":2,\"linecolor\":\"white\",\"showbackground\":true,\"ticks\":\"\",\"zerolinecolor\":\"white\"},\"yaxis\":{\"backgroundcolor\":\"#E5ECF6\",\"gridcolor\":\"white\",\"gridwidth\":2,\"linecolor\":\"white\",\"showbackground\":true,\"ticks\":\"\",\"zerolinecolor\":\"white\"},\"zaxis\":{\"backgroundcolor\":\"#E5ECF6\",\"gridcolor\":\"white\",\"gridwidth\":2,\"linecolor\":\"white\",\"showbackground\":true,\"ticks\":\"\",\"zerolinecolor\":\"white\"}},\"shapedefaults\":{\"line\":{\"color\":\"#2a3f5f\"}},\"ternary\":{\"aaxis\":{\"gridcolor\":\"white\",\"linecolor\":\"white\",\"ticks\":\"\"},\"baxis\":{\"gridcolor\":\"white\",\"linecolor\":\"white\",\"ticks\":\"\"},\"bgcolor\":\"#E5ECF6\",\"caxis\":{\"gridcolor\":\"white\",\"linecolor\":\"white\",\"ticks\":\"\"}},\"title\":{\"x\":0.05},\"xaxis\":{\"automargin\":true,\"gridcolor\":\"white\",\"linecolor\":\"white\",\"ticks\":\"\",\"title\":{\"standoff\":15},\"zerolinecolor\":\"white\",\"zerolinewidth\":2},\"yaxis\":{\"automargin\":true,\"gridcolor\":\"white\",\"linecolor\":\"white\",\"ticks\":\"\",\"title\":{\"standoff\":15},\"zerolinecolor\":\"white\",\"zerolinewidth\":2}}},\"title\":{\"font\":{\"size\":24,\"color\":\"white\"},\"text\":\"Credit Card Transactions\"},\"legend\":{\"title\":{\"font\":{\"size\":20,\"color\":\"yellow\"}}},\"font\":{\"color\":\"white\",\"size\":16},\"paper_bgcolor\":\"black\",\"plot_bgcolor\":\"black\"},                        {\"responsive\": true}                    ).then(function(){\n",
              "                            \n",
              "var gd = document.getElementById('bc2946c6-a822-4d4b-9ae7-f15de9684675');\n",
              "var x = new MutationObserver(function (mutations, observer) {{\n",
              "        var display = window.getComputedStyle(gd).display;\n",
              "        if (!display || display === 'none') {{\n",
              "            console.log([gd, 'removed!']);\n",
              "            Plotly.purge(gd);\n",
              "            observer.disconnect();\n",
              "        }}\n",
              "}});\n",
              "\n",
              "// Listen for the removal of the full notebook cells\n",
              "var notebookContainer = gd.closest('#notebook-container');\n",
              "if (notebookContainer) {{\n",
              "    x.observe(notebookContainer, {childList: true});\n",
              "}}\n",
              "\n",
              "// Listen for the clearing of the current output cell\n",
              "var outputEl = gd.closest('.output');\n",
              "if (outputEl) {{\n",
              "    x.observe(outputEl, {childList: true});\n",
              "}}\n",
              "\n",
              "                        })                };                            </script>        </div>\n",
              "</body>\n",
              "</html>"
            ]
          },
          "metadata": {}
        }
      ]
    },
    {
      "cell_type": "markdown",
      "source": [
        "Checking the gender balance"
      ],
      "metadata": {
        "id": "mgs5tWJqW3qT"
      }
    },
    {
      "cell_type": "code",
      "source": [
        "# Define colors and labels for the pie chart\n",
        "colors = ['#FF69B4', '#1E90FF']  # pink and blue\n",
        "labels = ['Female', 'Male']\n",
        "\n",
        "# Calculate the percentage of transactions by gender\n",
        "gender_percentage = df['gender'].value_counts(normalize=True) * 100\n",
        "gender_counts = df['gender'].value_counts()\n",
        "\n",
        "# Create a Pie chart with Plotly\n",
        "fig = go.Figure(data=[go.Pie(labels=labels,\n",
        "                             values=gender_percentage,\n",
        "                             hole=.3)])\n",
        "\n",
        "# Customize the chart colors, fonts, and layout\n",
        "fig.update_traces(hoverinfo='label+percent', textinfo='percent', textfont_size=18,\n",
        "                  marker=dict(colors=colors, line=dict(color='white', width=0.1)))\n",
        "fig.update_layout(\n",
        "    title_text=\"Credit Card Transactions by Gender\",\n",
        "    title_font=dict(size=24, color='white'),\n",
        "    legend_title_font=dict(size=20, color='yellow'),\n",
        "    paper_bgcolor=\"black\",\n",
        "    plot_bgcolor='black',\n",
        "    font=dict(color='white', size=16)\n",
        ")\n",
        "\n",
        "# Show the chart\n",
        "fig.show()\n"
      ],
      "metadata": {
        "colab": {
          "base_uri": "https://localhost:8080/",
          "height": 542
        },
        "id": "zHXkiAHlW5tI",
        "outputId": "20a4e6c8-ea01-40da-97c2-3d70201f1478"
      },
      "execution_count": null,
      "outputs": [
        {
          "output_type": "display_data",
          "data": {
            "text/html": [
              "<html>\n",
              "<head><meta charset=\"utf-8\" /></head>\n",
              "<body>\n",
              "    <div>            <script src=\"https://cdnjs.cloudflare.com/ajax/libs/mathjax/2.7.5/MathJax.js?config=TeX-AMS-MML_SVG\"></script><script type=\"text/javascript\">if (window.MathJax) {MathJax.Hub.Config({SVG: {font: \"STIX-Web\"}});}</script>                <script type=\"text/javascript\">window.PlotlyConfig = {MathJaxConfig: 'local'};</script>\n",
              "        <script src=\"https://cdn.plot.ly/plotly-2.8.3.min.js\"></script>                <div id=\"2c6d959c-7b22-4618-b484-85c129c58f5a\" class=\"plotly-graph-div\" style=\"height:525px; width:100%;\"></div>            <script type=\"text/javascript\">                                    window.PLOTLYENV=window.PLOTLYENV || {};                                    if (document.getElementById(\"2c6d959c-7b22-4618-b484-85c129c58f5a\")) {                    Plotly.newPlot(                        \"2c6d959c-7b22-4618-b484-85c129c58f5a\",                        [{\"hole\":0.3,\"labels\":[\"Female\",\"Male\"],\"values\":[53.85748990747026,46.14251009252974],\"type\":\"pie\",\"textfont\":{\"size\":18},\"marker\":{\"line\":{\"color\":\"white\",\"width\":0.1},\"colors\":[\"#FF69B4\",\"#1E90FF\"]},\"hoverinfo\":\"label+percent\",\"textinfo\":\"percent\"}],                        {\"template\":{\"data\":{\"bar\":[{\"error_x\":{\"color\":\"#2a3f5f\"},\"error_y\":{\"color\":\"#2a3f5f\"},\"marker\":{\"line\":{\"color\":\"#E5ECF6\",\"width\":0.5},\"pattern\":{\"fillmode\":\"overlay\",\"size\":10,\"solidity\":0.2}},\"type\":\"bar\"}],\"barpolar\":[{\"marker\":{\"line\":{\"color\":\"#E5ECF6\",\"width\":0.5},\"pattern\":{\"fillmode\":\"overlay\",\"size\":10,\"solidity\":0.2}},\"type\":\"barpolar\"}],\"carpet\":[{\"aaxis\":{\"endlinecolor\":\"#2a3f5f\",\"gridcolor\":\"white\",\"linecolor\":\"white\",\"minorgridcolor\":\"white\",\"startlinecolor\":\"#2a3f5f\"},\"baxis\":{\"endlinecolor\":\"#2a3f5f\",\"gridcolor\":\"white\",\"linecolor\":\"white\",\"minorgridcolor\":\"white\",\"startlinecolor\":\"#2a3f5f\"},\"type\":\"carpet\"}],\"choropleth\":[{\"colorbar\":{\"outlinewidth\":0,\"ticks\":\"\"},\"type\":\"choropleth\"}],\"contour\":[{\"colorbar\":{\"outlinewidth\":0,\"ticks\":\"\"},\"colorscale\":[[0.0,\"#0d0887\"],[0.1111111111111111,\"#46039f\"],[0.2222222222222222,\"#7201a8\"],[0.3333333333333333,\"#9c179e\"],[0.4444444444444444,\"#bd3786\"],[0.5555555555555556,\"#d8576b\"],[0.6666666666666666,\"#ed7953\"],[0.7777777777777778,\"#fb9f3a\"],[0.8888888888888888,\"#fdca26\"],[1.0,\"#f0f921\"]],\"type\":\"contour\"}],\"contourcarpet\":[{\"colorbar\":{\"outlinewidth\":0,\"ticks\":\"\"},\"type\":\"contourcarpet\"}],\"heatmap\":[{\"colorbar\":{\"outlinewidth\":0,\"ticks\":\"\"},\"colorscale\":[[0.0,\"#0d0887\"],[0.1111111111111111,\"#46039f\"],[0.2222222222222222,\"#7201a8\"],[0.3333333333333333,\"#9c179e\"],[0.4444444444444444,\"#bd3786\"],[0.5555555555555556,\"#d8576b\"],[0.6666666666666666,\"#ed7953\"],[0.7777777777777778,\"#fb9f3a\"],[0.8888888888888888,\"#fdca26\"],[1.0,\"#f0f921\"]],\"type\":\"heatmap\"}],\"heatmapgl\":[{\"colorbar\":{\"outlinewidth\":0,\"ticks\":\"\"},\"colorscale\":[[0.0,\"#0d0887\"],[0.1111111111111111,\"#46039f\"],[0.2222222222222222,\"#7201a8\"],[0.3333333333333333,\"#9c179e\"],[0.4444444444444444,\"#bd3786\"],[0.5555555555555556,\"#d8576b\"],[0.6666666666666666,\"#ed7953\"],[0.7777777777777778,\"#fb9f3a\"],[0.8888888888888888,\"#fdca26\"],[1.0,\"#f0f921\"]],\"type\":\"heatmapgl\"}],\"histogram\":[{\"marker\":{\"pattern\":{\"fillmode\":\"overlay\",\"size\":10,\"solidity\":0.2}},\"type\":\"histogram\"}],\"histogram2d\":[{\"colorbar\":{\"outlinewidth\":0,\"ticks\":\"\"},\"colorscale\":[[0.0,\"#0d0887\"],[0.1111111111111111,\"#46039f\"],[0.2222222222222222,\"#7201a8\"],[0.3333333333333333,\"#9c179e\"],[0.4444444444444444,\"#bd3786\"],[0.5555555555555556,\"#d8576b\"],[0.6666666666666666,\"#ed7953\"],[0.7777777777777778,\"#fb9f3a\"],[0.8888888888888888,\"#fdca26\"],[1.0,\"#f0f921\"]],\"type\":\"histogram2d\"}],\"histogram2dcontour\":[{\"colorbar\":{\"outlinewidth\":0,\"ticks\":\"\"},\"colorscale\":[[0.0,\"#0d0887\"],[0.1111111111111111,\"#46039f\"],[0.2222222222222222,\"#7201a8\"],[0.3333333333333333,\"#9c179e\"],[0.4444444444444444,\"#bd3786\"],[0.5555555555555556,\"#d8576b\"],[0.6666666666666666,\"#ed7953\"],[0.7777777777777778,\"#fb9f3a\"],[0.8888888888888888,\"#fdca26\"],[1.0,\"#f0f921\"]],\"type\":\"histogram2dcontour\"}],\"mesh3d\":[{\"colorbar\":{\"outlinewidth\":0,\"ticks\":\"\"},\"type\":\"mesh3d\"}],\"parcoords\":[{\"line\":{\"colorbar\":{\"outlinewidth\":0,\"ticks\":\"\"}},\"type\":\"parcoords\"}],\"pie\":[{\"automargin\":true,\"type\":\"pie\"}],\"scatter\":[{\"marker\":{\"colorbar\":{\"outlinewidth\":0,\"ticks\":\"\"}},\"type\":\"scatter\"}],\"scatter3d\":[{\"line\":{\"colorbar\":{\"outlinewidth\":0,\"ticks\":\"\"}},\"marker\":{\"colorbar\":{\"outlinewidth\":0,\"ticks\":\"\"}},\"type\":\"scatter3d\"}],\"scattercarpet\":[{\"marker\":{\"colorbar\":{\"outlinewidth\":0,\"ticks\":\"\"}},\"type\":\"scattercarpet\"}],\"scattergeo\":[{\"marker\":{\"colorbar\":{\"outlinewidth\":0,\"ticks\":\"\"}},\"type\":\"scattergeo\"}],\"scattergl\":[{\"marker\":{\"colorbar\":{\"outlinewidth\":0,\"ticks\":\"\"}},\"type\":\"scattergl\"}],\"scattermapbox\":[{\"marker\":{\"colorbar\":{\"outlinewidth\":0,\"ticks\":\"\"}},\"type\":\"scattermapbox\"}],\"scatterpolar\":[{\"marker\":{\"colorbar\":{\"outlinewidth\":0,\"ticks\":\"\"}},\"type\":\"scatterpolar\"}],\"scatterpolargl\":[{\"marker\":{\"colorbar\":{\"outlinewidth\":0,\"ticks\":\"\"}},\"type\":\"scatterpolargl\"}],\"scatterternary\":[{\"marker\":{\"colorbar\":{\"outlinewidth\":0,\"ticks\":\"\"}},\"type\":\"scatterternary\"}],\"surface\":[{\"colorbar\":{\"outlinewidth\":0,\"ticks\":\"\"},\"colorscale\":[[0.0,\"#0d0887\"],[0.1111111111111111,\"#46039f\"],[0.2222222222222222,\"#7201a8\"],[0.3333333333333333,\"#9c179e\"],[0.4444444444444444,\"#bd3786\"],[0.5555555555555556,\"#d8576b\"],[0.6666666666666666,\"#ed7953\"],[0.7777777777777778,\"#fb9f3a\"],[0.8888888888888888,\"#fdca26\"],[1.0,\"#f0f921\"]],\"type\":\"surface\"}],\"table\":[{\"cells\":{\"fill\":{\"color\":\"#EBF0F8\"},\"line\":{\"color\":\"white\"}},\"header\":{\"fill\":{\"color\":\"#C8D4E3\"},\"line\":{\"color\":\"white\"}},\"type\":\"table\"}]},\"layout\":{\"annotationdefaults\":{\"arrowcolor\":\"#2a3f5f\",\"arrowhead\":0,\"arrowwidth\":1},\"autotypenumbers\":\"strict\",\"coloraxis\":{\"colorbar\":{\"outlinewidth\":0,\"ticks\":\"\"}},\"colorscale\":{\"diverging\":[[0,\"#8e0152\"],[0.1,\"#c51b7d\"],[0.2,\"#de77ae\"],[0.3,\"#f1b6da\"],[0.4,\"#fde0ef\"],[0.5,\"#f7f7f7\"],[0.6,\"#e6f5d0\"],[0.7,\"#b8e186\"],[0.8,\"#7fbc41\"],[0.9,\"#4d9221\"],[1,\"#276419\"]],\"sequential\":[[0.0,\"#0d0887\"],[0.1111111111111111,\"#46039f\"],[0.2222222222222222,\"#7201a8\"],[0.3333333333333333,\"#9c179e\"],[0.4444444444444444,\"#bd3786\"],[0.5555555555555556,\"#d8576b\"],[0.6666666666666666,\"#ed7953\"],[0.7777777777777778,\"#fb9f3a\"],[0.8888888888888888,\"#fdca26\"],[1.0,\"#f0f921\"]],\"sequentialminus\":[[0.0,\"#0d0887\"],[0.1111111111111111,\"#46039f\"],[0.2222222222222222,\"#7201a8\"],[0.3333333333333333,\"#9c179e\"],[0.4444444444444444,\"#bd3786\"],[0.5555555555555556,\"#d8576b\"],[0.6666666666666666,\"#ed7953\"],[0.7777777777777778,\"#fb9f3a\"],[0.8888888888888888,\"#fdca26\"],[1.0,\"#f0f921\"]]},\"colorway\":[\"#636efa\",\"#EF553B\",\"#00cc96\",\"#ab63fa\",\"#FFA15A\",\"#19d3f3\",\"#FF6692\",\"#B6E880\",\"#FF97FF\",\"#FECB52\"],\"font\":{\"color\":\"#2a3f5f\"},\"geo\":{\"bgcolor\":\"white\",\"lakecolor\":\"white\",\"landcolor\":\"#E5ECF6\",\"showlakes\":true,\"showland\":true,\"subunitcolor\":\"white\"},\"hoverlabel\":{\"align\":\"left\"},\"hovermode\":\"closest\",\"mapbox\":{\"style\":\"light\"},\"paper_bgcolor\":\"white\",\"plot_bgcolor\":\"#E5ECF6\",\"polar\":{\"angularaxis\":{\"gridcolor\":\"white\",\"linecolor\":\"white\",\"ticks\":\"\"},\"bgcolor\":\"#E5ECF6\",\"radialaxis\":{\"gridcolor\":\"white\",\"linecolor\":\"white\",\"ticks\":\"\"}},\"scene\":{\"xaxis\":{\"backgroundcolor\":\"#E5ECF6\",\"gridcolor\":\"white\",\"gridwidth\":2,\"linecolor\":\"white\",\"showbackground\":true,\"ticks\":\"\",\"zerolinecolor\":\"white\"},\"yaxis\":{\"backgroundcolor\":\"#E5ECF6\",\"gridcolor\":\"white\",\"gridwidth\":2,\"linecolor\":\"white\",\"showbackground\":true,\"ticks\":\"\",\"zerolinecolor\":\"white\"},\"zaxis\":{\"backgroundcolor\":\"#E5ECF6\",\"gridcolor\":\"white\",\"gridwidth\":2,\"linecolor\":\"white\",\"showbackground\":true,\"ticks\":\"\",\"zerolinecolor\":\"white\"}},\"shapedefaults\":{\"line\":{\"color\":\"#2a3f5f\"}},\"ternary\":{\"aaxis\":{\"gridcolor\":\"white\",\"linecolor\":\"white\",\"ticks\":\"\"},\"baxis\":{\"gridcolor\":\"white\",\"linecolor\":\"white\",\"ticks\":\"\"},\"bgcolor\":\"#E5ECF6\",\"caxis\":{\"gridcolor\":\"white\",\"linecolor\":\"white\",\"ticks\":\"\"}},\"title\":{\"x\":0.05},\"xaxis\":{\"automargin\":true,\"gridcolor\":\"white\",\"linecolor\":\"white\",\"ticks\":\"\",\"title\":{\"standoff\":15},\"zerolinecolor\":\"white\",\"zerolinewidth\":2},\"yaxis\":{\"automargin\":true,\"gridcolor\":\"white\",\"linecolor\":\"white\",\"ticks\":\"\",\"title\":{\"standoff\":15},\"zerolinecolor\":\"white\",\"zerolinewidth\":2}}},\"title\":{\"font\":{\"size\":24,\"color\":\"white\"},\"text\":\"Credit Card Transactions by Gender\"},\"legend\":{\"title\":{\"font\":{\"size\":20,\"color\":\"yellow\"}}},\"font\":{\"color\":\"white\",\"size\":16},\"paper_bgcolor\":\"black\",\"plot_bgcolor\":\"black\"},                        {\"responsive\": true}                    ).then(function(){\n",
              "                            \n",
              "var gd = document.getElementById('2c6d959c-7b22-4618-b484-85c129c58f5a');\n",
              "var x = new MutationObserver(function (mutations, observer) {{\n",
              "        var display = window.getComputedStyle(gd).display;\n",
              "        if (!display || display === 'none') {{\n",
              "            console.log([gd, 'removed!']);\n",
              "            Plotly.purge(gd);\n",
              "            observer.disconnect();\n",
              "        }}\n",
              "}});\n",
              "\n",
              "// Listen for the removal of the full notebook cells\n",
              "var notebookContainer = gd.closest('#notebook-container');\n",
              "if (notebookContainer) {{\n",
              "    x.observe(notebookContainer, {childList: true});\n",
              "}}\n",
              "\n",
              "// Listen for the clearing of the current output cell\n",
              "var outputEl = gd.closest('.output');\n",
              "if (outputEl) {{\n",
              "    x.observe(outputEl, {childList: true});\n",
              "}}\n",
              "\n",
              "                        })                };                            </script>        </div>\n",
              "</body>\n",
              "</html>"
            ]
          },
          "metadata": {}
        }
      ]
    },
    {
      "cell_type": "code",
      "source": [
        "gender_counts"
      ],
      "metadata": {
        "colab": {
          "base_uri": "https://localhost:8080/"
        },
        "id": "BxS0ViCXX5J_",
        "outputId": "19b1a80a-7dc1-4c9c-9dc7-e34c0f7f2de6"
      },
      "execution_count": null,
      "outputs": [
        {
          "output_type": "execute_result",
          "data": {
            "text/plain": [
              "F    60301\n",
              "M    51663\n",
              "Name: gender, dtype: int64"
            ]
          },
          "metadata": {},
          "execution_count": 77
        }
      ]
    },
    {
      "cell_type": "markdown",
      "source": [
        "Fraud Analysis based on the amount"
      ],
      "metadata": {
        "id": "hBPw_7oG7x17"
      }
    },
    {
      "cell_type": "code",
      "source": [
        "# Create a histogram of transaction amounts for non-fraudulent transactions\n",
        "plt.hist(df[df['is_fraud']==0]['amt'], bins=25, alpha=0.5, label='Not Fraud', density=True)\n",
        "\n",
        "# Create a histogram of transaction amounts for fraudulent transactions\n",
        "plt.hist(df[df['is_fraud']==1]['amt'], bins=25, alpha=0.5, label='Fraud', density=True)\n",
        "\n",
        "# Add labels and legend to the plot\n",
        "plt.ylabel('Density')\n",
        "plt.xlabel('Transaction Amount in USD')\n",
        "plt.xscale('log')\n",
        "plt.legend(title='Fraud Status')"
      ],
      "metadata": {
        "id": "zbwPaLsL3_HV",
        "outputId": "0ecaefa3-0f1f-45be-fd2c-b946ec4956ea",
        "colab": {
          "base_uri": "https://localhost:8080/",
          "height": 301
        }
      },
      "execution_count": null,
      "outputs": [
        {
          "output_type": "execute_result",
          "data": {
            "text/plain": [
              "<matplotlib.legend.Legend at 0x7fda00553c10>"
            ]
          },
          "metadata": {},
          "execution_count": 78
        },
        {
          "output_type": "display_data",
          "data": {
            "text/plain": [
              "<Figure size 432x288 with 1 Axes>"
            ],
            "image/png": "[encoded data removed]"
          },
          "metadata": {
            "needs_background": "light"
          }
        }
      ]
    },
    {
      "cell_type": "code",
      "source": [
        "#calculate the percentage difference\n",
        "a=df[df['is_fraud']==0]['category'].value_counts(normalize=True).to_frame().reset_index()\n",
        "a.columns=['category','not fraud percentage']\n",
        "\n",
        "b=df[df['is_fraud']==1]['category'].value_counts(normalize=True).to_frame().reset_index()\n",
        "b.columns=['category','fraud percentage']\n",
        "ab=a.merge(b,on='category')\n",
        "ab['diff']=ab['fraud percentage']-ab['not fraud percentage']\n",
        "\n",
        "ax=sns.barplot(y='category',x='diff',data=ab.sort_values('diff',ascending=False))\n",
        "ax.set_xlabel('Percentage Difference')\n",
        "ax.set_ylabel('Transaction Category')\n",
        "plt.title('The Percentage Difference of Fraudulent over Non-Fraudulent Transations in Each Spending Category ')"
      ],
      "metadata": {
        "id": "QPi9r0cA73e5",
        "outputId": "aa6dd37c-6e03-4a7f-90df-d06f0ba059f2",
        "colab": {
          "base_uri": "https://localhost:8080/",
          "height": 313
        }
      },
      "execution_count": null,
      "outputs": [
        {
          "output_type": "execute_result",
          "data": {
            "text/plain": [
              "Text(0.5, 1.0, 'The Percentage Difference of Fraudulent over Non-Fraudulent Transations in Each Spending Category ')"
            ]
          },
          "metadata": {},
          "execution_count": 79
        },
        {
          "output_type": "display_data",
          "data": {
            "text/plain": [
              "<Figure size 432x288 with 1 Axes>"
            ],
            "image/png": "[encoded data removed]"
          },
          "metadata": {
            "needs_background": "light"
          }
        }
      ]
    },
    {
      "cell_type": "markdown",
      "source": [
        "Certain categories of spending experience a higher incidence of fraud compared to others. Transactions categorized as 'Shopping_net', 'Grocery_pos', and 'misc_net' are more susceptible to fraud, whereas transactions categorized as 'home' and 'grocery_net' are more likely to be genuine than fraudulent."
      ],
      "metadata": {
        "id": "N4xNbmja8SyN"
      }
    },
    {
      "cell_type": "markdown",
      "source": [
        "This clearly shows fraud usually happens during late night hours"
      ],
      "metadata": {
        "id": "yTnjUDNe9qCI"
      }
    },
    {
      "cell_type": "code",
      "source": [
        "df['hour'] = pd.to_datetime(df['trans_time']).dt.hour\n",
        "plt.figure(figsize=(10, 6))\n",
        "\n",
        "ax = sns.histplot(data=df, x=\"hour\", hue=\"is_fraud\", common_norm=False, stat='percent', multiple='dodge')\n",
        "ax.set_ylabel('Percentage')\n",
        "ax.set_xlabel('Time (Hour) in a Day')\n",
        "plt.xticks(np.arange(0,24,1))\n",
        "plt.title(\"Hourly Trend\")\n",
        "plt.legend(title='Type', labels=['Fraud', 'Not Fraud'])\n",
        "\n",
        "# Show the plot\n",
        "plt.show()\n"
      ],
      "metadata": {
        "id": "-CW-jJdu8kUF",
        "outputId": "c31e62df-9b1c-4039-b32a-65c8dc7c38ea",
        "colab": {
          "base_uri": "https://localhost:8080/",
          "height": 404
        }
      },
      "execution_count": 83,
      "outputs": [
        {
          "output_type": "display_data",
          "data": {
            "text/plain": [
              "<Figure size 720x432 with 1 Axes>"
            ],
            "image/png": "[encoded data removed]"
          },
          "metadata": {
            "needs_background": "light"
          }
        }
      ]
    },
    {
      "cell_type": "markdown",
      "source": [
        "Based on gender, payments from males are more fradualent"
      ],
      "metadata": {
        "id": "6Iqy_ICg-CKO"
      }
    },
    {
      "cell_type": "code",
      "source": [
        "colors = ['blue', 'red']\n",
        "plt.figure(figsize=(10, 6))\n",
        "\n",
        "# Create a histogram of fraud counts by gender\n",
        "ax = sns.histplot(x='gender', data=df, hue='is_fraud', stat='percent', multiple='dodge', common_norm=False, palette=colors)\n",
        "\n",
        "# Add labels and legend to the plot\n",
        "ax.set_ylabel('Percentage')\n",
        "ax.set_xlabel('Credit Card Holder Gender')\n",
        "plt.legend(title='Type', labels=['Fraud', 'Not Fraud'])\n"
      ],
      "metadata": {
        "id": "fSBaizsm9yBn",
        "outputId": "eac2e91e-214c-4471-a23f-d70b26209e8a",
        "colab": {
          "base_uri": "https://localhost:8080/",
          "height": 406
        }
      },
      "execution_count": null,
      "outputs": [
        {
          "output_type": "execute_result",
          "data": {
            "text/plain": [
              "<matplotlib.legend.Legend at 0x7fd9f360cb20>"
            ]
          },
          "metadata": {},
          "execution_count": 81
        },
        {
          "output_type": "display_data",
          "data": {
            "text/plain": [
              "<Figure size 720x432 with 1 Axes>"
            ],
            "image/png": "[encoded data removed]"
          },
          "metadata": {
            "needs_background": "light"
          }
        }
      ]
    },
    {
      "cell_type": "code",
      "source": [
        "#day of week vs fraud\n",
        "df['day']=pd.to_datetime(df['trans_date']).dt.dayofweek\n",
        "plt.figure(figsize=(10, 6))\n",
        "ax=sns.histplot(data=df, x=\"day\", hue=\"is_fraud\", common_norm=False,stat='percent',multiple='dodge')\n",
        "ax.set_xticklabels(['',\"Mon\",\"Tue\",\"Wed\",\"Thu\",\"Fri\",\"Sat\",\"Sun\"])\n",
        "ax.set_ylabel('Percentage')\n",
        "ax.set_xlabel('Day of Week')\n",
        "plt.title('Daily Trend')\n",
        "plt.legend(title='Type', labels=['Fraud', 'Not Fraud'])"
      ],
      "metadata": {
        "id": "hyF_XM5rATdD",
        "outputId": "c6cfabe1-ecd1-47e8-d49e-d58360c680c1",
        "colab": {
          "base_uri": "https://localhost:8080/",
          "height": 493
        }
      },
      "execution_count": 89,
      "outputs": [
        {
          "output_type": "stream",
          "name": "stderr",
          "text": [
            "<ipython-input-89-3ed3b6064aaf>:5: UserWarning:\n",
            "\n",
            "FixedFormatter should only be used together with FixedLocator\n",
            "\n"
          ]
        },
        {
          "output_type": "execute_result",
          "data": {
            "text/plain": [
              "<matplotlib.legend.Legend at 0x7fd9f661d5e0>"
            ]
          },
          "metadata": {},
          "execution_count": 89
        },
        {
          "output_type": "display_data",
          "data": {
            "text/plain": [
              "<Figure size 720x432 with 1 Axes>"
            ],
            "image/png": "[encoded data removed]"
          },
          "metadata": {
            "needs_background": "light"
          }
        }
      ]
    },
    {
      "cell_type": "code",
      "source": [
        "#month vs fraud\n",
        "df['month']=pd.to_datetime(df['trans_date']).dt.month\n",
        "plt.figure(figsize=(10, 6))\n",
        "ax=sns.histplot(data=df, x=\"month\", hue=\"is_fraud\", common_norm=False,stat='percent',multiple='dodge')\n",
        "ax.set_ylabel('Percentage')\n",
        "ax.set_xlabel('Month')\n",
        "plt.title('Monthly Trend')\n",
        "plt.xticks(np.arange(1,13,1))\n",
        "ax.set_xticklabels([\"Jan\",\"Feb\",\"Mar\",\"Apr\",\"May\",\"Jun\",\"Jul\",'Aug','Sep','Oct','Nov','Dec'])\n",
        "plt.legend(title='Type', labels=['Fraud', 'Not Fraud'])"
      ],
      "metadata": {
        "id": "9ZQzB62nAX4y",
        "outputId": "920987fb-90b0-4bf8-8206-95c3b1fc371a",
        "colab": {
          "base_uri": "https://localhost:8080/",
          "height": 422
        }
      },
      "execution_count": 90,
      "outputs": [
        {
          "output_type": "execute_result",
          "data": {
            "text/plain": [
              "<matplotlib.legend.Legend at 0x7fda002f56a0>"
            ]
          },
          "metadata": {},
          "execution_count": 90
        },
        {
          "output_type": "display_data",
          "data": {
            "text/plain": [
              "<Figure size 720x432 with 1 Axes>"
            ],
            "image/png": "[encoded data removed]"
          },
          "metadata": {
            "needs_background": "light"
          }
        }
      ]
    },
    {
      "cell_type": "markdown",
      "source": [
        "# **Prediction**"
      ],
      "metadata": {
        "id": "ND3aufplBNb5"
      }
    },
    {
      "cell_type": "code",
      "source": [
        "df.columns"
      ],
      "metadata": {
        "id": "edaDoM_9BtGJ",
        "outputId": "92794bde-85f1-4baa-e05b-312395671291",
        "colab": {
          "base_uri": "https://localhost:8080/"
        }
      },
      "execution_count": 123,
      "outputs": [
        {
          "output_type": "execute_result",
          "data": {
            "text/plain": [
              "Index(['ssn', 'cc_num', 'first', 'last', 'gender', 'street', 'city', 'state',\n",
              "       'zip', 'lat', 'long', 'city_pop', 'job', 'dob', 'acct_num', 'profile',\n",
              "       'trans_num', 'trans_date', 'trans_time', 'unix_time', 'category', 'amt',\n",
              "       'is_fraud', 'merchant', 'merch_lat', 'hour', 'day', 'month'],\n",
              "      dtype='object')"
            ]
          },
          "metadata": {},
          "execution_count": 123
        }
      ]
    },
    {
      "cell_type": "code",
      "source": [
        "train=df[['category','amt','zip','lat','long','city_pop','merch_lat','merchant','hour','day','month','is_fraud']]\n",
        "\n",
        "#convert category to dummy variables\n",
        "train=pd.get_dummies(train, drop_first=True)\n",
        "y=train['is_fraud'].values\n",
        "X=train.drop(\"is_fraud\", axis='columns')"
      ],
      "metadata": {
        "id": "Zvh-SFFeBQ8S"
      },
      "execution_count": 124,
      "outputs": []
    },
    {
      "cell_type": "code",
      "source": [
        "# Split the dataset into a training set and a testing set\n",
        "X_train, X_test, y_train, y_test = train_test_split(X, y, test_size=0.2, random_state=42)"
      ],
      "metadata": {
        "id": "vksya1l0B--f"
      },
      "execution_count": 125,
      "outputs": []
    },
    {
      "cell_type": "markdown",
      "source": [
        "Random Forest"
      ],
      "metadata": {
        "id": "Q08R5EbgCj3C"
      }
    },
    {
      "cell_type": "code",
      "source": [
        "#random forest \n",
        "method= SMOTE()\n",
        "X_resampled, y_resampled = method.fit_resample(X_train, y_train)\n",
        "rf = RandomForestClassifier(random_state=36)\n",
        "rf.fit(X_resampled,y_resampled)\n",
        "predicted=rf.predict(X_test)\n",
        "print('Classification report:\\n', classification_report(y_test, predicted))\n",
        "conf_mat = confusion_matrix(y_true=y_test, y_pred=predicted)\n",
        "print('Confusion matrix:\\n', conf_mat)\n",
        "print('Share of Non-Fraud in Test Data:', 1-round(y_test.sum()/len(y_test),4))"
      ],
      "metadata": {
        "id": "CvteHWP8ChJN",
        "outputId": "6a5b2e84-bd30-42f1-a164-3cd444b096a6",
        "colab": {
          "base_uri": "https://localhost:8080/"
        }
      },
      "execution_count": 126,
      "outputs": [
        {
          "output_type": "stream",
          "name": "stdout",
          "text": [
            "Classification report:\n",
            "               precision    recall  f1-score   support\n",
            "\n",
            "           0       1.00      1.00      1.00     22237\n",
            "           1       0.91      0.62      0.74       156\n",
            "\n",
            "    accuracy                           1.00     22393\n",
            "   macro avg       0.96      0.81      0.87     22393\n",
            "weighted avg       1.00      1.00      1.00     22393\n",
            "\n",
            "Confusion matrix:\n",
            " [[22228     9]\n",
            " [   60    96]]\n",
            "Share of Non-Fraud in Test Data: 0.993\n"
          ]
        }
      ]
    },
    {
      "cell_type": "code",
      "source": [
        "def plot_confusion_matrix(cm, classes,\n",
        "                          normalize=False,\n",
        "                          title='Confusion matrix',\n",
        "                          cmap=plt.cm.Blues,\n",
        "                          ax=None):\n",
        "    \"\"\"\n",
        "    This function prints and plots the confusion matrix.\n",
        "    Normalization can be applied by setting `normalize=True`.\n",
        "    \"\"\"\n",
        "    if normalize:\n",
        "        cm = cm.astype('float') / cm.sum(axis=1)[:, np.newaxis]\n",
        "        print(\"Normalized confusion matrix\")\n",
        "    else:\n",
        "        print('Confusion matrix, without normalization')\n",
        "\n",
        "    print(cm)\n",
        "\n",
        "    if ax is None:\n",
        "        fig, ax = plt.subplots()\n",
        "    im = ax.imshow(cm, interpolation='nearest', cmap=cmap)\n",
        "    ax.set_title(title)\n",
        "\n",
        "    tick_marks = np.arange(len(classes))\n",
        "    ax.set_xticks(tick_marks)\n",
        "    ax.set_xticklabels(classes, rotation=45)\n",
        "    ax.set_yticks(tick_marks)\n",
        "    ax.set_yticklabels(classes)\n",
        "    ax.grid(False)\n",
        "\n",
        "\n",
        "    fmt = '.2f' if normalize else 'd'\n",
        "    thresh = cm.max() / 2.\n",
        "    for i, j in itertools.product(range(cm.shape[0]), range(cm.shape[1])):\n",
        "        ax.text(j, i, format(cm[i, j], fmt),\n",
        "                 horizontalalignment=\"center\",\n",
        "                 color=\"white\" if cm[i, j] > thresh else \"black\")\n",
        "\n",
        "    ax.set_ylabel('True label')\n",
        "    ax.set_xlabel('Predicted label')"
      ],
      "metadata": {
        "id": "1933k-XnD0NX"
      },
      "execution_count": 127,
      "outputs": []
    },
    {
      "cell_type": "code",
      "source": [
        "labels = ['No Fraud', 'Fraud']\n",
        "# Plot the confusion matrix \n",
        "plot_confusion_matrix(conf_mat,labels,title=\"Confusion Matrix\",cmap=plt.cm.Greens)"
      ],
      "metadata": {
        "id": "SeSAPyIrD4cU",
        "outputId": "a5d2cd78-4e61-4f6d-d83b-8d978658ffc9",
        "colab": {
          "base_uri": "https://localhost:8080/",
          "height": 378
        }
      },
      "execution_count": 128,
      "outputs": [
        {
          "output_type": "stream",
          "name": "stdout",
          "text": [
            "Confusion matrix, without normalization\n",
            "[[22228     9]\n",
            " [   60    96]]\n"
          ]
        },
        {
          "output_type": "display_data",
          "data": {
            "text/plain": [
              "<Figure size 432x288 with 1 Axes>"
            ],
            "image/png": "[encoded data removed]"
          },
          "metadata": {
            "needs_background": "light"
          }
        }
      ]
    },
    {
      "cell_type": "code",
      "source": [
        "mcc = matthews_corrcoef(y_test, predicted)\n",
        "cba = (conf_mat[0][0] / (conf_mat[0][0] + conf_mat[0][1])) * (conf_mat[1][1] / (conf_mat[1][0] + conf_mat[1][1]))\n",
        "print(\"MCC value: \" + str(mcc))\n",
        "print(\"CBA value: \" + str(cba))"
      ],
      "metadata": {
        "id": "lp1OlpupEaeV",
        "outputId": "5655d63a-1d3e-4937-8066-a7ec9d2b51f5",
        "colab": {
          "base_uri": "https://localhost:8080/"
        }
      },
      "execution_count": 129,
      "outputs": [
        {
          "output_type": "stream",
          "name": "stdout",
          "text": [
            "MCC value: 0.7487401269634313\n",
            "CBA value: 0.6151355502437034\n"
          ]
        }
      ]
    },
    {
      "cell_type": "code",
      "source": [
        "# Get feature importances from the trained model\n",
        "importances = rf.feature_importances_\n",
        "\n",
        "# Get the indices that would sort the array in descending order\n",
        "sorted_idx = importances.argsort()[::-1]\n",
        "\n",
        "# Get the top 10 features\n",
        "top_10_features = sorted_idx[:10]\n",
        "\n",
        "# Get the names of the top 10 features\n",
        "feature_names = X.columns[top_10_features]\n",
        "\n",
        "# Plot a bar chart of the top 10 features\n",
        "plt.bar(feature_names, importances[top_10_features])\n",
        "plt.xticks(rotation=90)\n",
        "plt.xlabel('Features')\n",
        "plt.ylabel('Feature Importance')\n",
        "plt.title('Top 10 Features')\n",
        "plt.show()\n"
      ],
      "metadata": {
        "id": "SC6NOj1uFZ9z",
        "outputId": "b2c659a2-163c-43d3-de22-94093661bee0",
        "colab": {
          "base_uri": "https://localhost:8080/",
          "height": 403
        }
      },
      "execution_count": 130,
      "outputs": [
        {
          "output_type": "display_data",
          "data": {
            "text/plain": [
              "<Figure size 432x288 with 1 Axes>"
            ],
            "image/png": "[encoded data removed]"
          },
          "metadata": {
            "needs_background": "light"
          }
        }
      ]
    },
    {
      "cell_type": "markdown",
      "source": [
        "According to the feature importances, the most importantt feature is the amount, followed by its month,hour abd category being shopping_net and grocery."
      ],
      "metadata": {
        "id": "G_zP_1v4IHYm"
      }
    }
  ]
}