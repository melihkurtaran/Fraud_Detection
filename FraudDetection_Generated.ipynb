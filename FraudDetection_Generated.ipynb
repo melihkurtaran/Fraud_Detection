{
  "nbformat": 4,
  "nbformat_minor": 0,
  "metadata": {
    "colab": {
      "provenance": [],
      "toc_visible": true,
      "authorship_tag": "ABX9TyNvXT+mAK3aFrjBk36c9vFa",
      "include_colab_link": true
    },
    "kernelspec": {
      "name": "python3",
      "display_name": "Python 3"
    },
    "language_info": {
      "name": "python"
    }
  },
  "cells": [
    {
      "cell_type": "markdown",
      "metadata": {
        "id": "view-in-github",
        "colab_type": "text"
      },
      "source": [
        "<a href=\"https://colab.research.google.com/github/melihkurtaran/Fraud_Detection/blob/main/FraudDetection_Generated.ipynb\" target=\"_parent\"><img src=\"https://colab.research.google.com/assets/colab-badge.svg\" alt=\"Open In Colab\"/></a>"
      ]
    },
    {
      "cell_type": "markdown",
      "source": [
        "**Fraud Detection Project**"
      ],
      "metadata": {
        "id": "oukoSeyRLsot"
      }
    },
    {
      "cell_type": "code",
      "source": [
        "#Load libraries\n",
        "import pandas as pd\n",
        "import numpy as np\n",
        "import matplotlib.pyplot as plt\n",
        "import seaborn as sns\n",
        "from sklearn.preprocessing import StandardScaler, RobustScaler\n",
        "from sklearn.model_selection import KFold, StratifiedKFold\n",
        "from imblearn.under_sampling import RandomUnderSampler\n",
        "from sklearn.linear_model import LogisticRegression\n",
        "from sklearn.metrics import classification_report\n",
        "from sklearn.metrics import confusion_matrix\n",
        "import itertools\n",
        "from imblearn.over_sampling import SMOTE\n",
        "from keras.models import Sequential\n",
        "from keras.layers import Dense\n",
        "import xgboost as xgb"
      ],
      "metadata": {
        "id": "mPR9g2ZOLwBM"
      },
      "execution_count": 1,
      "outputs": []
    },
    {
      "cell_type": "code",
      "source": [
        "#Connect to GitHub for faster access\n",
        "!git clone https://github.com/melihkurtaran/Fraud_Detection.git"
      ],
      "metadata": {
        "colab": {
          "base_uri": "https://localhost:8080/"
        },
        "id": "sOhOWK2uMCXv",
        "outputId": "575792b7-fcb7-47ef-a2ee-4d5bb5f45a0e"
      },
      "execution_count": 2,
      "outputs": [
        {
          "output_type": "stream",
          "name": "stdout",
          "text": [
            "Cloning into 'Fraud_Detection'...\n",
            "remote: Enumerating objects: 91, done.\u001b[K\n",
            "remote: Counting objects: 100% (21/21), done.\u001b[K\n",
            "remote: Compressing objects: 100% (21/21), done.\u001b[K\n",
            "remote: Total 91 (delta 9), reused 0 (delta 0), pack-reused 70\u001b[K\n",
            "Unpacking objects: 100% (91/91), 112.29 MiB | 3.17 MiB/s, done.\n",
            "Updating files: 100% (27/27), done.\n"
          ]
        }
      ]
    },
    {
      "cell_type": "code",
      "source": [
        "# Upload the gendered datasets\n",
        "female = pd.read_csv(\"Fraud_Detection/datasets/generated_datasets/adults_2550_female_urban.csv\", delimiter='|')\n",
        "male = pd.read_csv(\"Fraud_Detection/datasets/generated_datasets/adults_2550_male_urban.csv\", delimiter='|')"
      ],
      "metadata": {
        "id": "PiVafxfSMME2"
      },
      "execution_count": 3,
      "outputs": []
    },
    {
      "cell_type": "code",
      "source": [
        "female = female.rename(columns={'merch_long,,': 'merch_long'})\n",
        "\n",
        "# Merge the dataframes\n",
        "df = pd.concat([female, male])\n",
        "\n",
        "df = df.reset_index(drop=True)"
      ],
      "metadata": {
        "id": "MesvwJARJo0c"
      },
      "execution_count": 4,
      "outputs": []
    },
    {
      "cell_type": "code",
      "source": [
        "df = df.drop(['merch_long'], axis=1)\n",
        "df = df.drop(['lat','long','zip','merch_lat'], axis=1)"
      ],
      "metadata": {
        "id": "myESotLgNQto"
      },
      "execution_count": 5,
      "outputs": []
    },
    {
      "cell_type": "code",
      "source": [
        "# Check for null values\n",
        "null_df = df.isnull()\n",
        "\n",
        "# Check if there are any null values in the original dataframe\n",
        "if null_df.any().any():\n",
        "    print(\"There are null values in the dataframe\")\n",
        "else:\n",
        "    print(\"There are no null values in the dataframe\")"
      ],
      "metadata": {
        "colab": {
          "base_uri": "https://localhost:8080/"
        },
        "id": "nxd4_9VrJ0cl",
        "outputId": "964c0921-ab3c-4a23-cf5e-f571d6ef724e"
      },
      "execution_count": 6,
      "outputs": [
        {
          "output_type": "stream",
          "name": "stdout",
          "text": [
            "There are no null values in the dataframe\n"
          ]
        }
      ]
    },
    {
      "cell_type": "code",
      "source": [
        "df"
      ],
      "metadata": {
        "colab": {
          "base_uri": "https://localhost:8080/",
          "height": 835
        },
        "id": "PWKkGoRjKDj4",
        "outputId": "0a4973ec-195d-4a23-a547-8a4898dfcfc9"
      },
      "execution_count": 8,
      "outputs": [
        {
          "output_type": "execute_result",
          "data": {
            "text/plain": [
              "                ssn           cc_num   first     last gender  \\\n",
              "0       115-04-4507    4218196001337   Kathy  Johnson      F   \n",
              "1       115-04-4507    4218196001337   Kathy  Johnson      F   \n",
              "2       115-04-4507    4218196001337   Kathy  Johnson      F   \n",
              "3       115-04-4507    4218196001337   Kathy  Johnson      F   \n",
              "4       115-04-4507    4218196001337   Kathy  Johnson      F   \n",
              "...             ...              ...     ...      ...    ...   \n",
              "111959  521-67-0496  347507819735446  Thomas   Howard      M   \n",
              "111960  521-67-0496  347507819735446  Thomas   Howard      M   \n",
              "111961  521-67-0496  347507819735446  Thomas   Howard      M   \n",
              "111962  521-67-0496  347507819735446  Thomas   Howard      M   \n",
              "111963  521-67-0496  347507819735446  Thomas   Howard      M   \n",
              "\n",
              "                           street       city state  city_pop  \\\n",
              "0            863 Lawrence Valleys  Homosassa    FL     27123   \n",
              "1            863 Lawrence Valleys  Homosassa    FL     27123   \n",
              "2            863 Lawrence Valleys  Homosassa    FL     27123   \n",
              "3            863 Lawrence Valleys  Homosassa    FL     27123   \n",
              "4            863 Lawrence Valleys  Homosassa    FL     27123   \n",
              "...                           ...        ...   ...       ...   \n",
              "111959  777 King Tunnel Suite 964    Turlock    CA     77377   \n",
              "111960  777 King Tunnel Suite 964    Turlock    CA     77377   \n",
              "111961  777 King Tunnel Suite 964    Turlock    CA     77377   \n",
              "111962  777 King Tunnel Suite 964    Turlock    CA     77377   \n",
              "111963  777 King Tunnel Suite 964    Turlock    CA     77377   \n",
              "\n",
              "                          job  ...      acct_num  \\\n",
              "0       Accounting technician  ...  888022315787   \n",
              "1       Accounting technician  ...  888022315787   \n",
              "2       Accounting technician  ...  888022315787   \n",
              "3       Accounting technician  ...  888022315787   \n",
              "4       Accounting technician  ...  888022315787   \n",
              "...                       ...  ...           ...   \n",
              "111959        Theatre manager  ...   35413216676   \n",
              "111960        Theatre manager  ...   35413216676   \n",
              "111961        Theatre manager  ...   35413216676   \n",
              "111962        Theatre manager  ...   35413216676   \n",
              "111963        Theatre manager  ...   35413216676   \n",
              "\n",
              "                              profile                         trans_num  \\\n",
              "0       adults_2550_female_urban.json  59f060ee29e40979a362acdb04315f6e   \n",
              "1       adults_2550_female_urban.json  faec1d6969fc4ed9b5182be0d4a0f15b   \n",
              "2       adults_2550_female_urban.json  53fa6924f0c85c2a9eeee8e5a1f604fd   \n",
              "3       adults_2550_female_urban.json  9869951e93f3dcf1ce8f8a1677741c3e   \n",
              "4       adults_2550_female_urban.json  6e037c9b466baf60e97b7eb63bfe6e49   \n",
              "...                               ...                               ...   \n",
              "111959    adults_2550_male_urban.json  74c50c93ba6df3b74e0290102d87b1c9   \n",
              "111960    adults_2550_male_urban.json  1a2547ce36029c75aca5fcce440c3673   \n",
              "111961    adults_2550_male_urban.json  6fb3ba131d9bea78bed7cf78d3ca8fc7   \n",
              "111962    adults_2550_male_urban.json  532d383268e8fa9de8720d59dc92d388   \n",
              "111963    adults_2550_male_urban.json  8e3f0ecf672b22642ba2d95791f0eca2   \n",
              "\n",
              "        trans_date trans_time   unix_time       category      amt  is_fraud  \\\n",
              "0       2022-12-12   01:47:59  1670806079   shopping_net    10.13         1   \n",
              "1       2022-12-12   03:39:36  1670812776   shopping_pos   814.04         1   \n",
              "2       2022-12-12   02:33:53  1670808833  gas_transport   969.16         1   \n",
              "3       2022-12-13   03:36:20  1670898980   shopping_pos   743.97         1   \n",
              "4       2022-12-13   01:04:54  1670889894   shopping_pos   791.05         1   \n",
              "...            ...        ...         ...            ...      ...       ...   \n",
              "111959  2022-12-13   18:32:07  1670952727      kids_pets     3.30         0   \n",
              "111960  2022-09-18   23:05:58  1663535158    food_dining     9.89         0   \n",
              "111961  2022-06-08   13:51:13  1654689073       misc_pos  1203.06         0   \n",
              "111962  2022-12-19   14:14:45  1671455685  personal_care     2.44         0   \n",
              "111963  2022-05-26   20:42:24  1653590544       misc_pos     2.94         0   \n",
              "\n",
              "                                  merchant  \n",
              "0                  fraud_Fisher-Schowalter  \n",
              "1                          fraud_Lynch Ltd  \n",
              "2                    fraud_Cummerata-Jones  \n",
              "3                         fraud_Dooley Inc  \n",
              "4                 fraud_Stoltenberg-Beatty  \n",
              "...                                    ...  \n",
              "111959                   fraud_Ullrich Ltd  \n",
              "111960                  fraud_Ernser-Lynch  \n",
              "111961               fraud_Hermann-Gaylord  \n",
              "111962                   fraud_Yost-Rogahn  \n",
              "111963  fraud_Turner, Ruecker and Parisian  \n",
              "\n",
              "[111964 rows x 21 columns]"
            ],
            "text/html": [
              "\n",
              "  <div id=\"df-ce04c720-5bdb-4470-970e-44fb76a5b38d\">\n",
              "    <div class=\"colab-df-container\">\n",
              "      <div>\n",
              "<style scoped>\n",
              "    .dataframe tbody tr th:only-of-type {\n",
              "        vertical-align: middle;\n",
              "    }\n",
              "\n",
              "    .dataframe tbody tr th {\n",
              "        vertical-align: top;\n",
              "    }\n",
              "\n",
              "    .dataframe thead th {\n",
              "        text-align: right;\n",
              "    }\n",
              "</style>\n",
              "<table border=\"1\" class=\"dataframe\">\n",
              "  <thead>\n",
              "    <tr style=\"text-align: right;\">\n",
              "      <th></th>\n",
              "      <th>ssn</th>\n",
              "      <th>cc_num</th>\n",
              "      <th>first</th>\n",
              "      <th>last</th>\n",
              "      <th>gender</th>\n",
              "      <th>street</th>\n",
              "      <th>city</th>\n",
              "      <th>state</th>\n",
              "      <th>city_pop</th>\n",
              "      <th>job</th>\n",
              "      <th>...</th>\n",
              "      <th>acct_num</th>\n",
              "      <th>profile</th>\n",
              "      <th>trans_num</th>\n",
              "      <th>trans_date</th>\n",
              "      <th>trans_time</th>\n",
              "      <th>unix_time</th>\n",
              "      <th>category</th>\n",
              "      <th>amt</th>\n",
              "      <th>is_fraud</th>\n",
              "      <th>merchant</th>\n",
              "    </tr>\n",
              "  </thead>\n",
              "  <tbody>\n",
              "    <tr>\n",
              "      <th>0</th>\n",
              "      <td>115-04-4507</td>\n",
              "      <td>4218196001337</td>\n",
              "      <td>Kathy</td>\n",
              "      <td>Johnson</td>\n",
              "      <td>F</td>\n",
              "      <td>863 Lawrence Valleys</td>\n",
              "      <td>Homosassa</td>\n",
              "      <td>FL</td>\n",
              "      <td>27123</td>\n",
              "      <td>Accounting technician</td>\n",
              "      <td>...</td>\n",
              "      <td>888022315787</td>\n",
              "      <td>adults_2550_female_urban.json</td>\n",
              "      <td>59f060ee29e40979a362acdb04315f6e</td>\n",
              "      <td>2022-12-12</td>\n",
              "      <td>01:47:59</td>\n",
              "      <td>1670806079</td>\n",
              "      <td>shopping_net</td>\n",
              "      <td>10.13</td>\n",
              "      <td>1</td>\n",
              "      <td>fraud_Fisher-Schowalter</td>\n",
              "    </tr>\n",
              "    <tr>\n",
              "      <th>1</th>\n",
              "      <td>115-04-4507</td>\n",
              "      <td>4218196001337</td>\n",
              "      <td>Kathy</td>\n",
              "      <td>Johnson</td>\n",
              "      <td>F</td>\n",
              "      <td>863 Lawrence Valleys</td>\n",
              "      <td>Homosassa</td>\n",
              "      <td>FL</td>\n",
              "      <td>27123</td>\n",
              "      <td>Accounting technician</td>\n",
              "      <td>...</td>\n",
              "      <td>888022315787</td>\n",
              "      <td>adults_2550_female_urban.json</td>\n",
              "      <td>faec1d6969fc4ed9b5182be0d4a0f15b</td>\n",
              "      <td>2022-12-12</td>\n",
              "      <td>03:39:36</td>\n",
              "      <td>1670812776</td>\n",
              "      <td>shopping_pos</td>\n",
              "      <td>814.04</td>\n",
              "      <td>1</td>\n",
              "      <td>fraud_Lynch Ltd</td>\n",
              "    </tr>\n",
              "    <tr>\n",
              "      <th>2</th>\n",
              "      <td>115-04-4507</td>\n",
              "      <td>4218196001337</td>\n",
              "      <td>Kathy</td>\n",
              "      <td>Johnson</td>\n",
              "      <td>F</td>\n",
              "      <td>863 Lawrence Valleys</td>\n",
              "      <td>Homosassa</td>\n",
              "      <td>FL</td>\n",
              "      <td>27123</td>\n",
              "      <td>Accounting technician</td>\n",
              "      <td>...</td>\n",
              "      <td>888022315787</td>\n",
              "      <td>adults_2550_female_urban.json</td>\n",
              "      <td>53fa6924f0c85c2a9eeee8e5a1f604fd</td>\n",
              "      <td>2022-12-12</td>\n",
              "      <td>02:33:53</td>\n",
              "      <td>1670808833</td>\n",
              "      <td>gas_transport</td>\n",
              "      <td>969.16</td>\n",
              "      <td>1</td>\n",
              "      <td>fraud_Cummerata-Jones</td>\n",
              "    </tr>\n",
              "    <tr>\n",
              "      <th>3</th>\n",
              "      <td>115-04-4507</td>\n",
              "      <td>4218196001337</td>\n",
              "      <td>Kathy</td>\n",
              "      <td>Johnson</td>\n",
              "      <td>F</td>\n",
              "      <td>863 Lawrence Valleys</td>\n",
              "      <td>Homosassa</td>\n",
              "      <td>FL</td>\n",
              "      <td>27123</td>\n",
              "      <td>Accounting technician</td>\n",
              "      <td>...</td>\n",
              "      <td>888022315787</td>\n",
              "      <td>adults_2550_female_urban.json</td>\n",
              "      <td>9869951e93f3dcf1ce8f8a1677741c3e</td>\n",
              "      <td>2022-12-13</td>\n",
              "      <td>03:36:20</td>\n",
              "      <td>1670898980</td>\n",
              "      <td>shopping_pos</td>\n",
              "      <td>743.97</td>\n",
              "      <td>1</td>\n",
              "      <td>fraud_Dooley Inc</td>\n",
              "    </tr>\n",
              "    <tr>\n",
              "      <th>4</th>\n",
              "      <td>115-04-4507</td>\n",
              "      <td>4218196001337</td>\n",
              "      <td>Kathy</td>\n",
              "      <td>Johnson</td>\n",
              "      <td>F</td>\n",
              "      <td>863 Lawrence Valleys</td>\n",
              "      <td>Homosassa</td>\n",
              "      <td>FL</td>\n",
              "      <td>27123</td>\n",
              "      <td>Accounting technician</td>\n",
              "      <td>...</td>\n",
              "      <td>888022315787</td>\n",
              "      <td>adults_2550_female_urban.json</td>\n",
              "      <td>6e037c9b466baf60e97b7eb63bfe6e49</td>\n",
              "      <td>2022-12-13</td>\n",
              "      <td>01:04:54</td>\n",
              "      <td>1670889894</td>\n",
              "      <td>shopping_pos</td>\n",
              "      <td>791.05</td>\n",
              "      <td>1</td>\n",
              "      <td>fraud_Stoltenberg-Beatty</td>\n",
              "    </tr>\n",
              "    <tr>\n",
              "      <th>...</th>\n",
              "      <td>...</td>\n",
              "      <td>...</td>\n",
              "      <td>...</td>\n",
              "      <td>...</td>\n",
              "      <td>...</td>\n",
              "      <td>...</td>\n",
              "      <td>...</td>\n",
              "      <td>...</td>\n",
              "      <td>...</td>\n",
              "      <td>...</td>\n",
              "      <td>...</td>\n",
              "      <td>...</td>\n",
              "      <td>...</td>\n",
              "      <td>...</td>\n",
              "      <td>...</td>\n",
              "      <td>...</td>\n",
              "      <td>...</td>\n",
              "      <td>...</td>\n",
              "      <td>...</td>\n",
              "      <td>...</td>\n",
              "      <td>...</td>\n",
              "    </tr>\n",
              "    <tr>\n",
              "      <th>111959</th>\n",
              "      <td>521-67-0496</td>\n",
              "      <td>347507819735446</td>\n",
              "      <td>Thomas</td>\n",
              "      <td>Howard</td>\n",
              "      <td>M</td>\n",
              "      <td>777 King Tunnel Suite 964</td>\n",
              "      <td>Turlock</td>\n",
              "      <td>CA</td>\n",
              "      <td>77377</td>\n",
              "      <td>Theatre manager</td>\n",
              "      <td>...</td>\n",
              "      <td>35413216676</td>\n",
              "      <td>adults_2550_male_urban.json</td>\n",
              "      <td>74c50c93ba6df3b74e0290102d87b1c9</td>\n",
              "      <td>2022-12-13</td>\n",
              "      <td>18:32:07</td>\n",
              "      <td>1670952727</td>\n",
              "      <td>kids_pets</td>\n",
              "      <td>3.30</td>\n",
              "      <td>0</td>\n",
              "      <td>fraud_Ullrich Ltd</td>\n",
              "    </tr>\n",
              "    <tr>\n",
              "      <th>111960</th>\n",
              "      <td>521-67-0496</td>\n",
              "      <td>347507819735446</td>\n",
              "      <td>Thomas</td>\n",
              "      <td>Howard</td>\n",
              "      <td>M</td>\n",
              "      <td>777 King Tunnel Suite 964</td>\n",
              "      <td>Turlock</td>\n",
              "      <td>CA</td>\n",
              "      <td>77377</td>\n",
              "      <td>Theatre manager</td>\n",
              "      <td>...</td>\n",
              "      <td>35413216676</td>\n",
              "      <td>adults_2550_male_urban.json</td>\n",
              "      <td>1a2547ce36029c75aca5fcce440c3673</td>\n",
              "      <td>2022-09-18</td>\n",
              "      <td>23:05:58</td>\n",
              "      <td>1663535158</td>\n",
              "      <td>food_dining</td>\n",
              "      <td>9.89</td>\n",
              "      <td>0</td>\n",
              "      <td>fraud_Ernser-Lynch</td>\n",
              "    </tr>\n",
              "    <tr>\n",
              "      <th>111961</th>\n",
              "      <td>521-67-0496</td>\n",
              "      <td>347507819735446</td>\n",
              "      <td>Thomas</td>\n",
              "      <td>Howard</td>\n",
              "      <td>M</td>\n",
              "      <td>777 King Tunnel Suite 964</td>\n",
              "      <td>Turlock</td>\n",
              "      <td>CA</td>\n",
              "      <td>77377</td>\n",
              "      <td>Theatre manager</td>\n",
              "      <td>...</td>\n",
              "      <td>35413216676</td>\n",
              "      <td>adults_2550_male_urban.json</td>\n",
              "      <td>6fb3ba131d9bea78bed7cf78d3ca8fc7</td>\n",
              "      <td>2022-06-08</td>\n",
              "      <td>13:51:13</td>\n",
              "      <td>1654689073</td>\n",
              "      <td>misc_pos</td>\n",
              "      <td>1203.06</td>\n",
              "      <td>0</td>\n",
              "      <td>fraud_Hermann-Gaylord</td>\n",
              "    </tr>\n",
              "    <tr>\n",
              "      <th>111962</th>\n",
              "      <td>521-67-0496</td>\n",
              "      <td>347507819735446</td>\n",
              "      <td>Thomas</td>\n",
              "      <td>Howard</td>\n",
              "      <td>M</td>\n",
              "      <td>777 King Tunnel Suite 964</td>\n",
              "      <td>Turlock</td>\n",
              "      <td>CA</td>\n",
              "      <td>77377</td>\n",
              "      <td>Theatre manager</td>\n",
              "      <td>...</td>\n",
              "      <td>35413216676</td>\n",
              "      <td>adults_2550_male_urban.json</td>\n",
              "      <td>532d383268e8fa9de8720d59dc92d388</td>\n",
              "      <td>2022-12-19</td>\n",
              "      <td>14:14:45</td>\n",
              "      <td>1671455685</td>\n",
              "      <td>personal_care</td>\n",
              "      <td>2.44</td>\n",
              "      <td>0</td>\n",
              "      <td>fraud_Yost-Rogahn</td>\n",
              "    </tr>\n",
              "    <tr>\n",
              "      <th>111963</th>\n",
              "      <td>521-67-0496</td>\n",
              "      <td>347507819735446</td>\n",
              "      <td>Thomas</td>\n",
              "      <td>Howard</td>\n",
              "      <td>M</td>\n",
              "      <td>777 King Tunnel Suite 964</td>\n",
              "      <td>Turlock</td>\n",
              "      <td>CA</td>\n",
              "      <td>77377</td>\n",
              "      <td>Theatre manager</td>\n",
              "      <td>...</td>\n",
              "      <td>35413216676</td>\n",
              "      <td>adults_2550_male_urban.json</td>\n",
              "      <td>8e3f0ecf672b22642ba2d95791f0eca2</td>\n",
              "      <td>2022-05-26</td>\n",
              "      <td>20:42:24</td>\n",
              "      <td>1653590544</td>\n",
              "      <td>misc_pos</td>\n",
              "      <td>2.94</td>\n",
              "      <td>0</td>\n",
              "      <td>fraud_Turner, Ruecker and Parisian</td>\n",
              "    </tr>\n",
              "  </tbody>\n",
              "</table>\n",
              "<p>111964 rows × 21 columns</p>\n",
              "</div>\n",
              "      <button class=\"colab-df-convert\" onclick=\"convertToInteractive('df-ce04c720-5bdb-4470-970e-44fb76a5b38d')\"\n",
              "              title=\"Convert this dataframe to an interactive table.\"\n",
              "              style=\"display:none;\">\n",
              "        \n",
              "  <svg xmlns=\"http://www.w3.org/2000/svg\" height=\"24px\"viewBox=\"0 0 24 24\"\n",
              "       width=\"24px\">\n",
              "    <path d=\"M0 0h24v24H0V0z\" fill=\"none\"/>\n",
              "    <path d=\"M18.56 5.44l.94 2.06.94-2.06 2.06-.94-2.06-.94-.94-2.06-.94 2.06-2.06.94zm-11 1L8.5 8.5l.94-2.06 2.06-.94-2.06-.94L8.5 2.5l-.94 2.06-2.06.94zm10 10l.94 2.06.94-2.06 2.06-.94-2.06-.94-.94-2.06-.94 2.06-2.06.94z\"/><path d=\"M17.41 7.96l-1.37-1.37c-.4-.4-.92-.59-1.43-.59-.52 0-1.04.2-1.43.59L10.3 9.45l-7.72 7.72c-.78.78-.78 2.05 0 2.83L4 21.41c.39.39.9.59 1.41.59.51 0 1.02-.2 1.41-.59l7.78-7.78 2.81-2.81c.8-.78.8-2.07 0-2.86zM5.41 20L4 18.59l7.72-7.72 1.47 1.35L5.41 20z\"/>\n",
              "  </svg>\n",
              "      </button>\n",
              "      \n",
              "  <style>\n",
              "    .colab-df-container {\n",
              "      display:flex;\n",
              "      flex-wrap:wrap;\n",
              "      gap: 12px;\n",
              "    }\n",
              "\n",
              "    .colab-df-convert {\n",
              "      background-color: #E8F0FE;\n",
              "      border: none;\n",
              "      border-radius: 50%;\n",
              "      cursor: pointer;\n",
              "      display: none;\n",
              "      fill: #1967D2;\n",
              "      height: 32px;\n",
              "      padding: 0 0 0 0;\n",
              "      width: 32px;\n",
              "    }\n",
              "\n",
              "    .colab-df-convert:hover {\n",
              "      background-color: #E2EBFA;\n",
              "      box-shadow: 0px 1px 2px rgba(60, 64, 67, 0.3), 0px 1px 3px 1px rgba(60, 64, 67, 0.15);\n",
              "      fill: #174EA6;\n",
              "    }\n",
              "\n",
              "    [theme=dark] .colab-df-convert {\n",
              "      background-color: #3B4455;\n",
              "      fill: #D2E3FC;\n",
              "    }\n",
              "\n",
              "    [theme=dark] .colab-df-convert:hover {\n",
              "      background-color: #434B5C;\n",
              "      box-shadow: 0px 1px 3px 1px rgba(0, 0, 0, 0.15);\n",
              "      filter: drop-shadow(0px 1px 2px rgba(0, 0, 0, 0.3));\n",
              "      fill: #FFFFFF;\n",
              "    }\n",
              "  </style>\n",
              "\n",
              "      <script>\n",
              "        const buttonEl =\n",
              "          document.querySelector('#df-ce04c720-5bdb-4470-970e-44fb76a5b38d button.colab-df-convert');\n",
              "        buttonEl.style.display =\n",
              "          google.colab.kernel.accessAllowed ? 'block' : 'none';\n",
              "\n",
              "        async function convertToInteractive(key) {\n",
              "          const element = document.querySelector('#df-ce04c720-5bdb-4470-970e-44fb76a5b38d');\n",
              "          const dataTable =\n",
              "            await google.colab.kernel.invokeFunction('convertToInteractive',\n",
              "                                                     [key], {});\n",
              "          if (!dataTable) return;\n",
              "\n",
              "          const docLinkHtml = 'Like what you see? Visit the ' +\n",
              "            '<a target=\"_blank\" href=https://colab.research.google.com/notebooks/data_table.ipynb>data table notebook</a>'\n",
              "            + ' to learn more about interactive tables.';\n",
              "          element.innerHTML = '';\n",
              "          dataTable['output_type'] = 'display_data';\n",
              "          await google.colab.output.renderOutput(dataTable, element);\n",
              "          const docLink = document.createElement('div');\n",
              "          docLink.innerHTML = docLinkHtml;\n",
              "          element.appendChild(docLink);\n",
              "        }\n",
              "      </script>\n",
              "    </div>\n",
              "  </div>\n",
              "  "
            ]
          },
          "metadata": {},
          "execution_count": 8
        }
      ]
    },
    {
      "cell_type": "markdown",
      "source": [
        "Checking Imbalance"
      ],
      "metadata": {
        "id": "zlvXJMtUNjH2"
      }
    },
    {
      "cell_type": "code",
      "source": [
        "# Check the class balance in the dataset\n",
        "class_counts = df['is_fraud'].value_counts()\n",
        "no_frauds = class_counts[0]\n",
        "frauds = class_counts[1]\n",
        "total = len(df)\n",
        "no_frauds_pct = round(no_frauds / total * 100, 2)\n",
        "frauds_pct = round(frauds / total * 100, 2)\n",
        "\n",
        "# Print the class distribution\n",
        "print('Class distribution in the dataset:')\n",
        "print(f'No Frauds: {no_frauds} ({no_frauds_pct}%)')\n",
        "print(f'Frauds: {frauds} ({frauds_pct}%)')"
      ],
      "metadata": {
        "colab": {
          "base_uri": "https://localhost:8080/"
        },
        "id": "etlGBTqeNXDH",
        "outputId": "c5f9ee35-2541-4d2b-ff29-59fa2065fe6a"
      },
      "execution_count": 9,
      "outputs": [
        {
          "output_type": "stream",
          "name": "stdout",
          "text": [
            "Class distribution in the dataset:\n",
            "No Frauds: 111095 (99.22%)\n",
            "Frauds: 869 (0.78%)\n"
          ]
        }
      ]
    },
    {
      "cell_type": "code",
      "source": [
        "y = df['is_fraud']\n",
        "df = df.drop('is_fraud', axis=1)"
      ],
      "metadata": {
        "id": "IzdKgPmwL-MF"
      },
      "execution_count": 18,
      "outputs": []
    },
    {
      "cell_type": "markdown",
      "source": [
        "PCA"
      ],
      "metadata": {
        "id": "3M35hhywKTE1"
      }
    },
    {
      "cell_type": "code",
      "source": [
        "import numpy as np\n",
        "import pandas as pd\n",
        "import matplotlib.pyplot as plt\n",
        "from sklearn.decomposition import PCA\n",
        "\n",
        "# Assuming you have a DataFrame named 'df' containing your data\n",
        "\n",
        "# Step 1: Data Preparation\n",
        "# Extract the numeric features from the DataFrame\n",
        "numeric_features = df.select_dtypes(include=[np.number])\n",
        "\n",
        "# Step 2: Standardize the dataset\n",
        "standardized_data = (numeric_features - numeric_features.mean()) / numeric_features.std()\n",
        "\n",
        "# Step 3: Perform PCA\n",
        "pca = PCA()\n",
        "pca.fit(standardized_data)\n",
        "\n",
        "# Step 4: Determine the optimal number of components\n",
        "explained_variance_ratio = pca.explained_variance_ratio_\n",
        "cumulative_variance_ratio = np.cumsum(explained_variance_ratio)\n",
        "n_components = np.argmax(cumulative_variance_ratio >= 0.99) + 1\n",
        "\n",
        "# Plot the cumulative explained variance ratio\n",
        "plt.plot(range(1, len(cumulative_variance_ratio) + 1), cumulative_variance_ratio, marker='o')\n",
        "plt.xlabel('Number of Components')\n",
        "plt.ylabel('Cumulative Explained Variance Ratio')\n",
        "plt.title('Cumulative Explained Variance Ratio')\n",
        "plt.show()\n",
        "\n",
        "# Step 5: Perform PCA with the selected number of components\n",
        "pca = PCA(n_components=n_components)\n",
        "pca_data = pca.fit_transform(standardized_data)\n",
        "\n",
        "# Step 6: Interpret the results\n",
        "# Print the explained variance ratio of each principal component\n",
        "print(\"Explained Variance Ratio:\")\n",
        "print(explained_variance_ratio)\n",
        "\n",
        "# Print the cumulative explained variance ratio\n",
        "print(\"Cumulative Explained Variance Ratio:\")\n",
        "print(cumulative_variance_ratio)\n",
        "\n",
        "# Optionally, you can access the principal components themselves\n",
        "principal_components = pd.DataFrame(\n",
        "    data=pca.components_,\n",
        "    columns=standardized_data.columns,\n",
        "    index=[f\"PC{i+1}\" for i in range(n_components)]\n",
        ")\n",
        "\n",
        "# The transformed data after PCA can be stored in a DataFrame\n",
        "pca_df = pd.DataFrame(data=pca_data, columns=[f\"PC{i+1}\" for i in range(n_components)])\n"
      ],
      "metadata": {
        "colab": {
          "base_uri": "https://localhost:8080/",
          "height": 543
        },
        "id": "TxT34iVnKSk3",
        "outputId": "5fac2417-d0ec-45f6-fc36-be72f92c2e05"
      },
      "execution_count": 20,
      "outputs": [
        {
          "output_type": "display_data",
          "data": {
            "text/plain": [
              "<Figure size 640x480 with 1 Axes>"
            ],
            "image/png": "[encoded data removed]"
          },
          "metadata": {}
        },
        {
          "output_type": "stream",
          "name": "stdout",
          "text": [
            "Explained Variance Ratio:\n",
            "[0.22244938 0.21148036 0.19851167 0.18842897 0.17912961]\n",
            "Cumulative Explained Variance Ratio:\n",
            "[0.22244938 0.43392975 0.63244141 0.82087039 1.        ]\n"
          ]
        }
      ]
    },
    {
      "cell_type": "code",
      "source": [
        "pca_df"
      ],
      "metadata": {
        "colab": {
          "base_uri": "https://localhost:8080/",
          "height": 424
        },
        "id": "JUq8o1uVKhZp",
        "outputId": "25b284a1-2cab-410d-bbb5-8178dd1e4707"
      },
      "execution_count": 21,
      "outputs": [
        {
          "output_type": "execute_result",
          "data": {
            "text/plain": [
              "             PC1       PC2       PC3       PC4       PC5\n",
              "0       0.368348 -1.318356  0.020816  0.868969 -1.143343\n",
              "1       1.272501  2.103935 -0.010257  4.338697 -0.336384\n",
              "2       1.446994  2.764690 -0.016375  5.007816 -0.180741\n",
              "3       1.193192  1.799007 -0.005509  4.042715 -0.405638\n",
              "4       1.246198  2.000154 -0.007552  4.245211 -0.358497\n",
              "...          ...       ...       ...       ...       ...\n",
              "111959 -1.689884 -1.024013  0.431430  0.513764  1.192083\n",
              "111960 -1.639595 -0.428811  0.256914 -0.008590  1.106236\n",
              "111961 -0.246450  5.327709  0.002742  4.483603  2.193540\n",
              "111962 -1.693759 -1.066131  0.443280  0.547400  1.197489\n",
              "111963 -1.589926  0.301958  0.023556 -0.777022  0.975299\n",
              "\n",
              "[111964 rows x 5 columns]"
            ],
            "text/html": [
              "\n",
              "  <div id=\"df-5e17b996-597a-4d8a-85ac-0bbe7a2cd178\">\n",
              "    <div class=\"colab-df-container\">\n",
              "      <div>\n",
              "<style scoped>\n",
              "    .dataframe tbody tr th:only-of-type {\n",
              "        vertical-align: middle;\n",
              "    }\n",
              "\n",
              "    .dataframe tbody tr th {\n",
              "        vertical-align: top;\n",
              "    }\n",
              "\n",
              "    .dataframe thead th {\n",
              "        text-align: right;\n",
              "    }\n",
              "</style>\n",
              "<table border=\"1\" class=\"dataframe\">\n",
              "  <thead>\n",
              "    <tr style=\"text-align: right;\">\n",
              "      <th></th>\n",
              "      <th>PC1</th>\n",
              "      <th>PC2</th>\n",
              "      <th>PC3</th>\n",
              "      <th>PC4</th>\n",
              "      <th>PC5</th>\n",
              "    </tr>\n",
              "  </thead>\n",
              "  <tbody>\n",
              "    <tr>\n",
              "      <th>0</th>\n",
              "      <td>0.368348</td>\n",
              "      <td>-1.318356</td>\n",
              "      <td>0.020816</td>\n",
              "      <td>0.868969</td>\n",
              "      <td>-1.143343</td>\n",
              "    </tr>\n",
              "    <tr>\n",
              "      <th>1</th>\n",
              "      <td>1.272501</td>\n",
              "      <td>2.103935</td>\n",
              "      <td>-0.010257</td>\n",
              "      <td>4.338697</td>\n",
              "      <td>-0.336384</td>\n",
              "    </tr>\n",
              "    <tr>\n",
              "      <th>2</th>\n",
              "      <td>1.446994</td>\n",
              "      <td>2.764690</td>\n",
              "      <td>-0.016375</td>\n",
              "      <td>5.007816</td>\n",
              "      <td>-0.180741</td>\n",
              "    </tr>\n",
              "    <tr>\n",
              "      <th>3</th>\n",
              "      <td>1.193192</td>\n",
              "      <td>1.799007</td>\n",
              "      <td>-0.005509</td>\n",
              "      <td>4.042715</td>\n",
              "      <td>-0.405638</td>\n",
              "    </tr>\n",
              "    <tr>\n",
              "      <th>4</th>\n",
              "      <td>1.246198</td>\n",
              "      <td>2.000154</td>\n",
              "      <td>-0.007552</td>\n",
              "      <td>4.245211</td>\n",
              "      <td>-0.358497</td>\n",
              "    </tr>\n",
              "    <tr>\n",
              "      <th>...</th>\n",
              "      <td>...</td>\n",
              "      <td>...</td>\n",
              "      <td>...</td>\n",
              "      <td>...</td>\n",
              "      <td>...</td>\n",
              "    </tr>\n",
              "    <tr>\n",
              "      <th>111959</th>\n",
              "      <td>-1.689884</td>\n",
              "      <td>-1.024013</td>\n",
              "      <td>0.431430</td>\n",
              "      <td>0.513764</td>\n",
              "      <td>1.192083</td>\n",
              "    </tr>\n",
              "    <tr>\n",
              "      <th>111960</th>\n",
              "      <td>-1.639595</td>\n",
              "      <td>-0.428811</td>\n",
              "      <td>0.256914</td>\n",
              "      <td>-0.008590</td>\n",
              "      <td>1.106236</td>\n",
              "    </tr>\n",
              "    <tr>\n",
              "      <th>111961</th>\n",
              "      <td>-0.246450</td>\n",
              "      <td>5.327709</td>\n",
              "      <td>0.002742</td>\n",
              "      <td>4.483603</td>\n",
              "      <td>2.193540</td>\n",
              "    </tr>\n",
              "    <tr>\n",
              "      <th>111962</th>\n",
              "      <td>-1.693759</td>\n",
              "      <td>-1.066131</td>\n",
              "      <td>0.443280</td>\n",
              "      <td>0.547400</td>\n",
              "      <td>1.197489</td>\n",
              "    </tr>\n",
              "    <tr>\n",
              "      <th>111963</th>\n",
              "      <td>-1.589926</td>\n",
              "      <td>0.301958</td>\n",
              "      <td>0.023556</td>\n",
              "      <td>-0.777022</td>\n",
              "      <td>0.975299</td>\n",
              "    </tr>\n",
              "  </tbody>\n",
              "</table>\n",
              "<p>111964 rows × 5 columns</p>\n",
              "</div>\n",
              "      <button class=\"colab-df-convert\" onclick=\"convertToInteractive('df-5e17b996-597a-4d8a-85ac-0bbe7a2cd178')\"\n",
              "              title=\"Convert this dataframe to an interactive table.\"\n",
              "              style=\"display:none;\">\n",
              "        \n",
              "  <svg xmlns=\"http://www.w3.org/2000/svg\" height=\"24px\"viewBox=\"0 0 24 24\"\n",
              "       width=\"24px\">\n",
              "    <path d=\"M0 0h24v24H0V0z\" fill=\"none\"/>\n",
              "    <path d=\"M18.56 5.44l.94 2.06.94-2.06 2.06-.94-2.06-.94-.94-2.06-.94 2.06-2.06.94zm-11 1L8.5 8.5l.94-2.06 2.06-.94-2.06-.94L8.5 2.5l-.94 2.06-2.06.94zm10 10l.94 2.06.94-2.06 2.06-.94-2.06-.94-.94-2.06-.94 2.06-2.06.94z\"/><path d=\"M17.41 7.96l-1.37-1.37c-.4-.4-.92-.59-1.43-.59-.52 0-1.04.2-1.43.59L10.3 9.45l-7.72 7.72c-.78.78-.78 2.05 0 2.83L4 21.41c.39.39.9.59 1.41.59.51 0 1.02-.2 1.41-.59l7.78-7.78 2.81-2.81c.8-.78.8-2.07 0-2.86zM5.41 20L4 18.59l7.72-7.72 1.47 1.35L5.41 20z\"/>\n",
              "  </svg>\n",
              "      </button>\n",
              "      \n",
              "  <style>\n",
              "    .colab-df-container {\n",
              "      display:flex;\n",
              "      flex-wrap:wrap;\n",
              "      gap: 12px;\n",
              "    }\n",
              "\n",
              "    .colab-df-convert {\n",
              "      background-color: #E8F0FE;\n",
              "      border: none;\n",
              "      border-radius: 50%;\n",
              "      cursor: pointer;\n",
              "      display: none;\n",
              "      fill: #1967D2;\n",
              "      height: 32px;\n",
              "      padding: 0 0 0 0;\n",
              "      width: 32px;\n",
              "    }\n",
              "\n",
              "    .colab-df-convert:hover {\n",
              "      background-color: #E2EBFA;\n",
              "      box-shadow: 0px 1px 2px rgba(60, 64, 67, 0.3), 0px 1px 3px 1px rgba(60, 64, 67, 0.15);\n",
              "      fill: #174EA6;\n",
              "    }\n",
              "\n",
              "    [theme=dark] .colab-df-convert {\n",
              "      background-color: #3B4455;\n",
              "      fill: #D2E3FC;\n",
              "    }\n",
              "\n",
              "    [theme=dark] .colab-df-convert:hover {\n",
              "      background-color: #434B5C;\n",
              "      box-shadow: 0px 1px 3px 1px rgba(0, 0, 0, 0.15);\n",
              "      filter: drop-shadow(0px 1px 2px rgba(0, 0, 0, 0.3));\n",
              "      fill: #FFFFFF;\n",
              "    }\n",
              "  </style>\n",
              "\n",
              "      <script>\n",
              "        const buttonEl =\n",
              "          document.querySelector('#df-5e17b996-597a-4d8a-85ac-0bbe7a2cd178 button.colab-df-convert');\n",
              "        buttonEl.style.display =\n",
              "          google.colab.kernel.accessAllowed ? 'block' : 'none';\n",
              "\n",
              "        async function convertToInteractive(key) {\n",
              "          const element = document.querySelector('#df-5e17b996-597a-4d8a-85ac-0bbe7a2cd178');\n",
              "          const dataTable =\n",
              "            await google.colab.kernel.invokeFunction('convertToInteractive',\n",
              "                                                     [key], {});\n",
              "          if (!dataTable) return;\n",
              "\n",
              "          const docLinkHtml = 'Like what you see? Visit the ' +\n",
              "            '<a target=\"_blank\" href=https://colab.research.google.com/notebooks/data_table.ipynb>data table notebook</a>'\n",
              "            + ' to learn more about interactive tables.';\n",
              "          element.innerHTML = '';\n",
              "          dataTable['output_type'] = 'display_data';\n",
              "          await google.colab.output.renderOutput(dataTable, element);\n",
              "          const docLink = document.createElement('div');\n",
              "          docLink.innerHTML = docLinkHtml;\n",
              "          element.appendChild(docLink);\n",
              "        }\n",
              "      </script>\n",
              "    </div>\n",
              "  </div>\n",
              "  "
            ]
          },
          "metadata": {},
          "execution_count": 21
        }
      ]
    },
    {
      "cell_type": "markdown",
      "source": [
        "This code splits the data into features and target variable, uses StratifiedKFold to generate training and testing sets, and then checks the distribution of the target variable in each set. Finally, it prints the percentage of non-fraudulent and fraudulent transactions in the dataset."
      ],
      "metadata": {
        "id": "_R2wHa8-Tcmu"
      }
    },
    {
      "cell_type": "code",
      "source": [
        "# Split data into features and target variable\n",
        "X = pca_df\n",
        "\n",
        "# Use StratifiedKFold to split data into five folds\n",
        "sss = StratifiedKFold(n_splits=5, random_state=None, shuffle=False)\n",
        "\n",
        "# Iterate over each fold and generate training and testing sets\n",
        "for train_index, test_index in sss.split(X, y):\n",
        "    original_Xtrain, original_Xtest = X.iloc[train_index], X.iloc[test_index]\n",
        "    original_ytrain, original_ytest = y.iloc[train_index], y.iloc[test_index]\n",
        "\n",
        "# Convert training and testing sets to arrays and check distribution of target variable\n",
        "original_Xtrain = original_Xtrain.values\n",
        "original_Xtest = original_Xtest.values\n",
        "original_ytrain = original_ytrain.values\n",
        "original_ytest = original_ytest.values\n",
        "train_counts_label = np.unique(original_ytrain, return_counts=True)[1]\n",
        "test_counts_label = np.unique(original_ytest, return_counts=True)[1]\n",
        "\n",
        "# Print percentage of non-fraudulent and fraudulent transactions in dataset\n",
        "print('No Frauds', round(y.value_counts()[0]/len(df) * 100,2), '% of the dataset')\n",
        "print('Frauds', round(y.value_counts()[1]/len(df) * 100,2), '% of the dataset')\n",
        "\n",
        "# Print distribution of target variable in training and testing sets\n",
        "print('-' * 100)\n",
        "print('Label Distributions: \\n')\n",
        "print(train_counts_label/ len(original_ytrain))\n",
        "print(test_counts_label/ len(original_ytest))\n"
      ],
      "metadata": {
        "colab": {
          "base_uri": "https://localhost:8080/"
        },
        "id": "iIWQDf0qTB9J",
        "outputId": "7e7415df-d0c6-410c-d00e-a11f79479971"
      },
      "execution_count": 23,
      "outputs": [
        {
          "output_type": "stream",
          "name": "stdout",
          "text": [
            "No Frauds 99.22 % of the dataset\n",
            "Frauds 0.78 % of the dataset\n",
            "----------------------------------------------------------------------------------------------------\n",
            "Label Distributions: \n",
            "\n",
            "[0.99222971 0.00777029]\n",
            "[0.99227403 0.00772597]\n"
          ]
        }
      ]
    },
    {
      "cell_type": "markdown",
      "source": [
        "Function for plotting confusion matrix"
      ],
      "metadata": {
        "id": "vneAny_H1ku0"
      }
    },
    {
      "cell_type": "code",
      "source": [
        "def plot_confusion_matrix(cm, classes,\n",
        "                          normalize=False,\n",
        "                          title='Confusion matrix',\n",
        "                          cmap=plt.cm.Blues,\n",
        "                          ax=None):\n",
        "    \"\"\"\n",
        "    This function prints and plots the confusion matrix.\n",
        "    Normalization can be applied by setting `normalize=True`.\n",
        "    \"\"\"\n",
        "    if normalize:\n",
        "        cm = cm.astype('float') / cm.sum(axis=1)[:, np.newaxis]\n",
        "        print(\"Normalized confusion matrix\")\n",
        "    else:\n",
        "        print('Confusion matrix, without normalization')\n",
        "\n",
        "    print(cm)\n",
        "\n",
        "    if ax is None:\n",
        "        fig, ax = plt.subplots()\n",
        "    im = ax.imshow(cm, interpolation='nearest', cmap=cmap)\n",
        "    ax.set_title(title)\n",
        "\n",
        "    tick_marks = np.arange(len(classes))\n",
        "    ax.set_xticks(tick_marks)\n",
        "    ax.set_xticklabels(classes, rotation=45)\n",
        "    ax.set_yticks(tick_marks)\n",
        "    ax.set_yticklabels(classes)\n",
        "    ax.grid(False)\n",
        "\n",
        "\n",
        "    fmt = '.2f' if normalize else 'd'\n",
        "    thresh = cm.max() / 2.\n",
        "    for i, j in itertools.product(range(cm.shape[0]), range(cm.shape[1])):\n",
        "        ax.text(j, i, format(cm[i, j], fmt),\n",
        "                 horizontalalignment=\"center\",\n",
        "                 color=\"white\" if cm[i, j] > thresh else \"black\")\n",
        "\n",
        "    ax.set_ylabel('True label')\n",
        "    ax.set_xlabel('Predicted label')\n"
      ],
      "metadata": {
        "id": "1ZKQ1z9C1oZL"
      },
      "execution_count": 24,
      "outputs": []
    },
    {
      "cell_type": "markdown",
      "source": [
        "# **Undersampling**"
      ],
      "metadata": {
        "id": "OmyC_Xy5U2md"
      }
    },
    {
      "cell_type": "code",
      "source": [
        "# Apply undersampling to balance the dataset\n",
        "undersampler = RandomUnderSampler(random_state=4521)\n",
        "X_train_und, y_train_und = undersampler.fit_resample(original_Xtrain, original_ytrain)"
      ],
      "metadata": {
        "id": "yPrb-D4dU_ft"
      },
      "execution_count": 25,
      "outputs": []
    },
    {
      "cell_type": "markdown",
      "source": [
        "Logistic Regression"
      ],
      "metadata": {
        "id": "76Mf_v14xGPZ"
      }
    },
    {
      "cell_type": "code",
      "source": [
        "# Create a logistic regression model and fit it on the training data\n",
        "lr_model = LogisticRegression()\n",
        "lr_model.fit(X_train_und, y_train_und)\n",
        "\n",
        "# Predict the target variable on the testing data\n",
        "y_pred_lr_und = lr_model.predict(original_Xtest)\n",
        "\n",
        "# Print the classification report to evaluate the model performance\n",
        "print(classification_report(original_ytest, y_pred_lr_und))"
      ],
      "metadata": {
        "id": "pI_gEqMGw3mJ",
        "outputId": "ed9db657-6584-48e9-f8ea-02f3660d74c4",
        "colab": {
          "base_uri": "https://localhost:8080/"
        }
      },
      "execution_count": 26,
      "outputs": [
        {
          "output_type": "stream",
          "name": "stdout",
          "text": [
            "              precision    recall  f1-score   support\n",
            "\n",
            "           0       1.00      0.96      0.98     22219\n",
            "           1       0.14      0.75      0.23       173\n",
            "\n",
            "    accuracy                           0.96     22392\n",
            "   macro avg       0.57      0.86      0.61     22392\n",
            "weighted avg       0.99      0.96      0.97     22392\n",
            "\n"
          ]
        }
      ]
    },
    {
      "cell_type": "code",
      "source": [
        "# Create a confusion matrix\n",
        "cm_und = confusion_matrix(original_ytest, y_pred_lr_und)\n",
        "\n",
        "labels = ['No Fraud', 'Fraud']\n",
        "\n",
        "# Plot the confusion matrix\n",
        "plot_confusion_matrix(cm_und,labels,title=\"Confusion Matrix\",cmap=plt.cm.Greens)"
      ],
      "metadata": {
        "id": "7hFO7RbFy-ZC",
        "outputId": "21a742f9-f148-458c-d439-15aadab0a246",
        "colab": {
          "base_uri": "https://localhost:8080/",
          "height": 566
        }
      },
      "execution_count": 27,
      "outputs": [
        {
          "output_type": "stream",
          "name": "stdout",
          "text": [
            "Confusion matrix, without normalization\n",
            "[[21395   824]\n",
            " [   43   130]]\n"
          ]
        },
        {
          "output_type": "display_data",
          "data": {
            "text/plain": [
              "<Figure size 640x480 with 1 Axes>"
            ],
            "image/png": "[encoded data removed]"
          },
          "metadata": {}
        }
      ]
    },
    {
      "cell_type": "markdown",
      "source": [
        "# **Oversampling**"
      ],
      "metadata": {
        "id": "otyd_9pqVA95"
      }
    },
    {
      "cell_type": "markdown",
      "source": [
        "by SMOTE"
      ],
      "metadata": {
        "id": "u61oIyfW3rkw"
      }
    },
    {
      "cell_type": "markdown",
      "source": [
        "Synthetic Minority Over-sampling Technique (SMOTE) for oversampling in Python. SMOTE is a popular oversampling technique that generates synthetic samples for the minority class by interpolating between neighboring instances."
      ],
      "metadata": {
        "id": "roLuRhzW3tYe"
      }
    },
    {
      "cell_type": "code",
      "source": [
        "# Instantiate the SMOTE oversampler\n",
        "oversampler = SMOTE(random_state=42)\n",
        "\n",
        "# Fit and transform the data using the oversampler\n",
        "X_train_over, y_train_over = oversampler.fit_resample(original_Xtrain, original_ytrain)"
      ],
      "metadata": {
        "id": "RPsYK1vkVDz1"
      },
      "execution_count": 28,
      "outputs": []
    },
    {
      "cell_type": "markdown",
      "source": [
        "Logistic Regression"
      ],
      "metadata": {
        "id": "WPIKbTYo4W1d"
      }
    },
    {
      "cell_type": "code",
      "source": [
        "# Create a logistic regression model and fit it on the training data\n",
        "lr_model = LogisticRegression()\n",
        "lr_model.fit(X_train_over, y_train_over)\n",
        "\n",
        "# Predict the target variable on the testing data\n",
        "y_pred_lr_over = lr_model.predict(original_Xtest)\n",
        "\n",
        "# Print the classification report to evaluate the model performance\n",
        "print(classification_report(original_ytest, y_pred_lr_over))"
      ],
      "metadata": {
        "id": "urwwY3mQ4Gm0",
        "outputId": "90ae579c-b1e5-4540-8341-fe4fa3505ba4",
        "colab": {
          "base_uri": "https://localhost:8080/"
        }
      },
      "execution_count": 29,
      "outputs": [
        {
          "output_type": "stream",
          "name": "stdout",
          "text": [
            "              precision    recall  f1-score   support\n",
            "\n",
            "           0       1.00      0.96      0.98     22219\n",
            "           1       0.14      0.75      0.24       173\n",
            "\n",
            "    accuracy                           0.96     22392\n",
            "   macro avg       0.57      0.86      0.61     22392\n",
            "weighted avg       0.99      0.96      0.97     22392\n",
            "\n"
          ]
        }
      ]
    },
    {
      "cell_type": "code",
      "source": [
        "# Create a confusion matrix\n",
        "cm_over = confusion_matrix(original_ytest, y_pred_lr_over)\n",
        "\n",
        "labels = ['No Fraud', 'Fraud']\n",
        "# Plot the confusion matrix\n",
        "plot_confusion_matrix(cm_over,labels,title=\"Confusion Matrix\",cmap=plt.cm.Greens)"
      ],
      "metadata": {
        "id": "whaQD_EK4ZdU",
        "outputId": "63bddf2d-8aa6-4aa4-ecc9-7277467b4ec3",
        "colab": {
          "base_uri": "https://localhost:8080/",
          "height": 566
        }
      },
      "execution_count": 30,
      "outputs": [
        {
          "output_type": "stream",
          "name": "stdout",
          "text": [
            "Confusion matrix, without normalization\n",
            "[[21421   798]\n",
            " [   43   130]]\n"
          ]
        },
        {
          "output_type": "display_data",
          "data": {
            "text/plain": [
              "<Figure size 640x480 with 1 Axes>"
            ],
            "image/png": "[encoded data removed]"
          },
          "metadata": {}
        }
      ]
    },
    {
      "cell_type": "markdown",
      "source": [
        "# **Neural Networks**"
      ],
      "metadata": {
        "id": "P5gzJM0J44ir"
      }
    },
    {
      "cell_type": "markdown",
      "source": [
        "Undersampling"
      ],
      "metadata": {
        "id": "iZOYc_4-8NYe"
      }
    },
    {
      "cell_type": "code",
      "source": [
        "from tensorflow.keras.layers import Dropout\n",
        "\n",
        "# Define the neural network model with dropout layers\n",
        "model_und = Sequential()\n",
        "model_und.add(Dense(64, activation='relu', input_dim=X_train_over.shape[1]))\n",
        "model_und.add(Dropout(0.2))\n",
        "model_und.add(Dense(64, activation='relu'))\n",
        "model_und.add(Dropout(0.2))\n",
        "model_und.add(Dense(1, activation='sigmoid'))\n",
        "\n",
        "# Compile the model with binary crossentropy and Adam optimizer\n",
        "model_und.compile(optimizer='adam', loss='binary_crossentropy', metrics=['accuracy'])\n",
        "\n",
        "# Train the model with 10 epochs, batch size of 4, and validation split of 0.1\n",
        "history = model_und.fit(X_train_und, y_train_und, epochs=10, batch_size=4, validation_split=0.1)\n",
        "\n",
        "# Plot the training and validation accuracy over time\n",
        "plt.plot(history.history['accuracy'], label='Training Accuracy')\n",
        "plt.plot(history.history['val_accuracy'], label='Validation Accuracy')\n",
        "plt.xlabel('Epoch')\n",
        "plt.ylabel('Accuracy')\n",
        "plt.legend()\n",
        "plt.show()\n"
      ],
      "metadata": {
        "id": "Pi6wfQN08Q0S",
        "outputId": "d9bb8452-a50d-4909-c9b7-49d7713d45bf",
        "colab": {
          "base_uri": "https://localhost:8080/",
          "height": 830
        }
      },
      "execution_count": 31,
      "outputs": [
        {
          "output_type": "stream",
          "name": "stdout",
          "text": [
            "Epoch 1/10\n",
            "313/313 [==============================] - 2s 3ms/step - loss: 0.5614 - accuracy: 0.7436 - val_loss: 0.3647 - val_accuracy: 0.7857\n",
            "Epoch 2/10\n",
            "313/313 [==============================] - 1s 2ms/step - loss: 0.5223 - accuracy: 0.7796 - val_loss: 0.4091 - val_accuracy: 0.7857\n",
            "Epoch 3/10\n",
            "313/313 [==============================] - 1s 3ms/step - loss: 0.5125 - accuracy: 0.7804 - val_loss: 0.4125 - val_accuracy: 0.7786\n",
            "Epoch 4/10\n",
            "313/313 [==============================] - 1s 3ms/step - loss: 0.5120 - accuracy: 0.7859 - val_loss: 0.3386 - val_accuracy: 0.8071\n",
            "Epoch 5/10\n",
            "313/313 [==============================] - 1s 3ms/step - loss: 0.5005 - accuracy: 0.7835 - val_loss: 0.3881 - val_accuracy: 0.7786\n",
            "Epoch 6/10\n",
            "313/313 [==============================] - 1s 3ms/step - loss: 0.5018 - accuracy: 0.7788 - val_loss: 0.3746 - val_accuracy: 0.8071\n",
            "Epoch 7/10\n",
            "313/313 [==============================] - 1s 2ms/step - loss: 0.4962 - accuracy: 0.7835 - val_loss: 0.3787 - val_accuracy: 0.7786\n",
            "Epoch 8/10\n",
            "313/313 [==============================] - 1s 2ms/step - loss: 0.5010 - accuracy: 0.7875 - val_loss: 0.3418 - val_accuracy: 0.8071\n",
            "Epoch 9/10\n",
            "313/313 [==============================] - 1s 2ms/step - loss: 0.4952 - accuracy: 0.7772 - val_loss: 0.3648 - val_accuracy: 0.8000\n",
            "Epoch 10/10\n",
            "313/313 [==============================] - 1s 2ms/step - loss: 0.4851 - accuracy: 0.7971 - val_loss: 0.4381 - val_accuracy: 0.7786\n"
          ]
        },
        {
          "output_type": "display_data",
          "data": {
            "text/plain": [
              "<Figure size 640x480 with 1 Axes>"
            ],
            "image/png": "[encoded data removed]"
          },
          "metadata": {}
        }
      ]
    },
    {
      "cell_type": "code",
      "source": [
        "# Predict the labels of the test data using the trained model\n",
        "y_pred = model_und.predict(original_Xtest)\n",
        "y_pred_nn_und = (y_pred > 0.5).astype('int')\n",
        "\n",
        "labels = ['No Fraud', 'Fraud']\n",
        "\n",
        "# Calculate the confusion matrix\n",
        "cm_und_nn = confusion_matrix(original_ytest, y_pred_nn_und)\n",
        "\n",
        "# Plot the confusion matrix\n",
        "plot_confusion_matrix(cm_und_nn,labels,title=\"Confusion Matrix\",cmap=plt.cm.Greens)"
      ],
      "metadata": {
        "id": "9vTXiC1m8euo",
        "outputId": "3de5ab07-28f2-427f-81d8-8e0523e7418e",
        "colab": {
          "base_uri": "https://localhost:8080/",
          "height": 583
        }
      },
      "execution_count": 32,
      "outputs": [
        {
          "output_type": "stream",
          "name": "stdout",
          "text": [
            "700/700 [==============================] - 1s 1ms/step\n",
            "Confusion matrix, without normalization\n",
            "[[21560   659]\n",
            " [   50   123]]\n"
          ]
        },
        {
          "output_type": "display_data",
          "data": {
            "text/plain": [
              "<Figure size 640x480 with 1 Axes>"
            ],
            "image/png": "[encoded data removed]"
          },
          "metadata": {}
        }
      ]
    },
    {
      "cell_type": "markdown",
      "source": [
        "Oversampling"
      ],
      "metadata": {
        "id": "egYrUXXN8Lnm"
      }
    },
    {
      "cell_type": "code",
      "source": [
        "# Define the neural network model\n",
        "model_over = Sequential()\n",
        "model_over.add(Dense(64, activation='relu', input_dim=X_train_over.shape[1]))\n",
        "model_over.add(Dense(32, activation='relu'))\n",
        "model_over.add(Dense(1, activation='sigmoid'))\n",
        "\n",
        "# Compile the model\n",
        "model_over.compile(optimizer='adam', loss='binary_crossentropy', metrics=['accuracy'])\n",
        "\n",
        "# Train the model\n",
        "history = model_over.fit(X_train_over, y_train_over, epochs=10, batch_size=128, validation_split=0.2)\n",
        "\n",
        "# Plot the training and validation accuracy over time\n",
        "plt.plot(history.history['accuracy'], label='Training Accuracy')\n",
        "plt.plot(history.history['val_accuracy'], label='Validation Accuracy')\n",
        "plt.xlabel('Epoch')\n",
        "plt.ylabel('Accuracy')\n",
        "plt.legend()\n",
        "plt.show()"
      ],
      "metadata": {
        "id": "SsGhdQRd49Py",
        "outputId": "28e027d1-20da-4826-cf2f-1677f609e1c0",
        "colab": {
          "base_uri": "https://localhost:8080/",
          "height": 826
        }
      },
      "execution_count": 33,
      "outputs": [
        {
          "output_type": "stream",
          "name": "stdout",
          "text": [
            "Epoch 1/10\n",
            "1111/1111 [==============================] - 4s 3ms/step - loss: 0.4273 - accuracy: 0.8296 - val_loss: 0.5251 - val_accuracy: 0.6764\n",
            "Epoch 2/10\n",
            "1111/1111 [==============================] - 4s 3ms/step - loss: 0.3503 - accuracy: 0.8495 - val_loss: 0.5281 - val_accuracy: 0.6859\n",
            "Epoch 3/10\n",
            "1111/1111 [==============================] - 3s 3ms/step - loss: 0.3195 - accuracy: 0.8605 - val_loss: 0.4392 - val_accuracy: 0.7606\n",
            "Epoch 4/10\n",
            "1111/1111 [==============================] - 3s 3ms/step - loss: 0.2986 - accuracy: 0.8703 - val_loss: 0.4493 - val_accuracy: 0.7564\n",
            "Epoch 5/10\n",
            "1111/1111 [==============================] - 3s 3ms/step - loss: 0.2827 - accuracy: 0.8769 - val_loss: 0.4687 - val_accuracy: 0.7619\n",
            "Epoch 6/10\n",
            "1111/1111 [==============================] - 3s 3ms/step - loss: 0.2696 - accuracy: 0.8834 - val_loss: 0.3641 - val_accuracy: 0.8325\n",
            "Epoch 7/10\n",
            "1111/1111 [==============================] - 3s 3ms/step - loss: 0.2578 - accuracy: 0.8907 - val_loss: 0.3646 - val_accuracy: 0.8271\n",
            "Epoch 8/10\n",
            "1111/1111 [==============================] - 4s 4ms/step - loss: 0.2468 - accuracy: 0.8963 - val_loss: 0.3680 - val_accuracy: 0.8168\n",
            "Epoch 9/10\n",
            "1111/1111 [==============================] - 3s 2ms/step - loss: 0.2373 - accuracy: 0.9015 - val_loss: 0.3264 - val_accuracy: 0.8650\n",
            "Epoch 10/10\n",
            "1111/1111 [==============================] - 3s 3ms/step - loss: 0.2284 - accuracy: 0.9059 - val_loss: 0.2951 - val_accuracy: 0.8800\n"
          ]
        },
        {
          "output_type": "display_data",
          "data": {
            "text/plain": [
              "<Figure size 640x480 with 1 Axes>"
            ],
            "image/png": "[encoded data removed]"
          },
          "metadata": {}
        }
      ]
    },
    {
      "cell_type": "code",
      "source": [
        "# Predict the labels of the test data using the trained model\n",
        "y_pred = model_over.predict(original_Xtest)\n",
        "y_pred_nn_over = (y_pred > 0.5).astype('int')\n",
        "\n",
        "labels = ['No Fraud', 'Fraud']\n",
        "\n",
        "# Calculate the confusion matrix\n",
        "cm_over_nn = confusion_matrix(original_ytest, y_pred_nn_over)\n",
        "\n",
        "# Plot the confusion matrix\n",
        "plot_confusion_matrix(cm_over_nn,labels,title=\"Confusion Matrix\",cmap=plt.cm.Greens)"
      ],
      "metadata": {
        "id": "x4hDBiki6NEe",
        "outputId": "01104143-39bf-4c13-cc96-573a49e45992",
        "colab": {
          "base_uri": "https://localhost:8080/",
          "height": 583
        }
      },
      "execution_count": 34,
      "outputs": [
        {
          "output_type": "stream",
          "name": "stdout",
          "text": [
            "700/700 [==============================] - 1s 1ms/step\n",
            "Confusion matrix, without normalization\n",
            "[[20869  1350]\n",
            " [   54   119]]\n"
          ]
        },
        {
          "output_type": "display_data",
          "data": {
            "text/plain": [
              "<Figure size 640x480 with 1 Axes>"
            ],
            "image/png": "[encoded data removed]"
          },
          "metadata": {}
        }
      ]
    },
    {
      "cell_type": "markdown",
      "source": [
        "Comparison of All"
      ],
      "metadata": {
        "id": "9jz68tiE9say"
      }
    },
    {
      "cell_type": "code",
      "source": [
        "# Initialize the figure\n",
        "fig = plt.figure(figsize=(12, 12))\n",
        "\n",
        "# Create the subplots\n",
        "ax1 = fig.add_subplot(221)\n",
        "ax2 = fig.add_subplot(222)\n",
        "ax3 = fig.add_subplot(223)\n",
        "ax4 = fig.add_subplot(224)\n",
        "\n",
        "# Plot Undersampling LR\n",
        "plot_confusion_matrix(cm_und, labels, title=\"UnderSampling Logistic Regression\", cmap=plt.cm.Blues, ax=ax1)\n",
        "\n",
        "# Plot Undersampling NN\n",
        "plot_confusion_matrix(cm_und_nn, labels, title=\"UnderSampling Neural Network\", cmap=plt.cm.Reds, ax=ax2)\n",
        "\n",
        "# Plot Oversampling LR\n",
        "plot_confusion_matrix(cm_over, labels, title=\"OverSampling Logistic Regression\", cmap=plt.cm.Oranges, ax=ax3)\n",
        "\n",
        "# Plot Oversampling NN\n",
        "plot_confusion_matrix(cm_over_nn, labels, title=\"OverSampling Neural Network\", cmap=plt.cm.Greens, ax=ax4)\n",
        "\n",
        "plt.tight_layout()\n",
        "plt.show()\n"
      ],
      "metadata": {
        "id": "eDOTRtRG9vtK",
        "outputId": "552b8b7d-8a81-4436-d101-fc05cd34a8d8",
        "colab": {
          "base_uri": "https://localhost:8080/",
          "height": 1000
        }
      },
      "execution_count": 35,
      "outputs": [
        {
          "output_type": "stream",
          "name": "stdout",
          "text": [
            "Confusion matrix, without normalization\n",
            "[[21395   824]\n",
            " [   43   130]]\n",
            "Confusion matrix, without normalization\n",
            "[[21560   659]\n",
            " [   50   123]]\n",
            "Confusion matrix, without normalization\n",
            "[[21421   798]\n",
            " [   43   130]]\n",
            "Confusion matrix, without normalization\n",
            "[[20869  1350]\n",
            " [   54   119]]\n"
          ]
        },
        {
          "output_type": "display_data",
          "data": {
            "text/plain": [
              "<Figure size 1200x1200 with 4 Axes>"
            ],
            "image/png": "[encoded data removed]"
          },
          "metadata": {}
        }
      ]
    },
    {
      "cell_type": "markdown",
      "source": [
        "CBA and MCC"
      ],
      "metadata": {
        "id": "HcwMG1xOk5eG"
      }
    },
    {
      "cell_type": "code",
      "source": [
        "from sklearn.metrics import matthews_corrcoef, confusion_matrix\n",
        "\n",
        "# Calculate the confusion matrix and MCC for each set of predicted labels\n",
        "cm_1 = cm_und\n",
        "cm_2 = cm_und_nn\n",
        "cm_3 = cm_over\n",
        "cm_4 = cm_over_nn\n",
        "\n",
        "mcc_1 = matthews_corrcoef(original_ytest, y_pred_lr_und)\n",
        "mcc_2 = matthews_corrcoef(original_ytest, y_pred_nn_und)\n",
        "mcc_3 = matthews_corrcoef(original_ytest, y_pred_lr_over)\n",
        "mcc_4 = matthews_corrcoef(original_ytest, y_pred_nn_over)\n",
        "\n",
        "# Calculate the CBA for each set of predicted labels\n",
        "cba_1 = (cm_1[0][0] / (cm_1[0][0] + cm_1[0][1])) * (cm_1[1][1] / (cm_1[1][0] + cm_1[1][1]))\n",
        "cba_2 = (cm_2[0][0] / (cm_2[0][0] + cm_2[0][1])) * (cm_2[1][1] / (cm_2[1][0] + cm_2[1][1]))\n",
        "cba_3 = (cm_3[0][0] / (cm_3[0][0] + cm_3[0][1])) * (cm_3[1][1] / (cm_3[1][0] + cm_3[1][1]))\n",
        "cba_4 = (cm_4[0][0] / (cm_4[0][0] + cm_4[0][1])) * (cm_4[1][1] / (cm_4[1][0] + cm_4[1][1]))\n",
        "\n",
        "# Print the CBA and MCC values for each set of predicted labels\n",
        "print(\"Set 1 - CBA: {:.4f}, MCC: {:.4f}\".format(cba_1, mcc_1))\n",
        "print(\"Set 2 - CBA: {:.4f}, MCC: {:.4f}\".format(cba_2, mcc_2))\n",
        "print(\"Set 3 - CBA: {:.4f}, MCC: {:.4f}\".format(cba_3, mcc_3))\n",
        "print(\"Set 4 - CBA: {:.4f}, MCC: {:.4f}\".format(cba_4, mcc_4))"
      ],
      "metadata": {
        "colab": {
          "base_uri": "https://localhost:8080/"
        },
        "id": "QCVOaocvkO6W",
        "outputId": "523703d6-8d69-4a4a-d502-c4de97f83e07"
      },
      "execution_count": 36,
      "outputs": [
        {
          "output_type": "stream",
          "name": "stdout",
          "text": [
            "Set 1 - CBA: 0.7236, MCC: 0.3097\n",
            "Set 2 - CBA: 0.6899, MCC: 0.3249\n",
            "Set 3 - CBA: 0.7245, MCC: 0.3143\n",
            "Set 4 - CBA: 0.6461, MCC: 0.2218\n"
          ]
        }
      ]
    },
    {
      "cell_type": "code",
      "source": [
        "from sklearn.metrics import f1_score\n",
        "from sklearn.metrics import accuracy_score\n",
        "\n",
        "# Calculate the F1 score for each set of predicted labels\n",
        "f1_1 = f1_score(original_ytest, y_pred_lr_und)\n",
        "f1_2 = f1_score(original_ytest, y_pred_nn_und)\n",
        "f1_3 = f1_score(original_ytest, y_pred_lr_over)\n",
        "f1_4 = f1_score(original_ytest, y_pred_nn_over)\n",
        "\n",
        "# Calculate the accuracy score for each set of predicted labels\n",
        "acc_1 = accuracy_score(original_ytest, y_pred_lr_und)\n",
        "acc_2 = accuracy_score(original_ytest, y_pred_nn_und)\n",
        "acc_3 = accuracy_score(original_ytest, y_pred_lr_over)\n",
        "acc_4 = accuracy_score(original_ytest, y_pred_nn_over)\n",
        "\n",
        "# Print the CBA, MCC, F1 score, and accuracy values for each set of predicted labels\n",
        "print(\"Set 1 - CBA: {:.4f}, MCC: {:.4f}, F1 score: {:.4f}, Accuracy: {:.4f}\".format(cba_1, mcc_1, f1_1, acc_1))\n",
        "print(\"Set 2 - CBA: {:.4f}, MCC: {:.4f}, F1 score: {:.4f}, Accuracy: {:.4f}\".format(cba_2, mcc_2, f1_2, acc_2))\n",
        "print(\"Set 3 - CBA: {:.4f}, MCC: {:.4f}, F1 score: {:.4f}, Accuracy: {:.4f}\".format(cba_3, mcc_3, f1_3, acc_3))\n",
        "print(\"Set 4 - CBA: {:.4f}, MCC: {:.4f}, F1 score: {:.4f}, Accuracy: {:.4f}\".format(cba_4, mcc_4, f1_4, acc_4))\n",
        "\n"
      ],
      "metadata": {
        "id": "E--RFHJGKIgc",
        "outputId": "35d6c58a-29c4-4f46-8933-50b216d46381",
        "colab": {
          "base_uri": "https://localhost:8080/"
        }
      },
      "execution_count": 37,
      "outputs": [
        {
          "output_type": "stream",
          "name": "stdout",
          "text": [
            "Set 1 - CBA: 0.7236, MCC: 0.3097, F1 score: 0.2307, Accuracy: 0.9613\n",
            "Set 2 - CBA: 0.6899, MCC: 0.3249, F1 score: 0.2576, Accuracy: 0.9683\n",
            "Set 3 - CBA: 0.7245, MCC: 0.3143, F1 score: 0.2361, Accuracy: 0.9624\n",
            "Set 4 - CBA: 0.6461, MCC: 0.2218, F1 score: 0.1449, Accuracy: 0.9373\n"
          ]
        }
      ]
    },
    {
      "cell_type": "code",
      "source": [
        "# Plot the CBA and MCC values for each set of predicted\n",
        "# Define the CBA and MCC values\n",
        "cba_values = [cba_1, cba_2, cba_3, cba_4]\n",
        "mcc_values = [mcc_1, mcc_2, mcc_3, mcc_4]\n",
        "\n",
        "# Define the x-axis labels\n",
        "x_labels = [\"Set 1\", \"Set 2\", \"Set 3\", \"Set 4\"]\n",
        "\n",
        "# Create a figure with two subplots\n",
        "fig, (ax1, ax2) = plt.subplots(1, 2, figsize=(10, 5))\n",
        "\n",
        "# Plot the CBA values\n",
        "ax1.bar(x_labels, cba_values)\n",
        "ax1.set_title(\"CBA Values\")\n",
        "ax1.set_ylim(0, 1)\n",
        "\n",
        "# Plot the MCC values\n",
        "ax2.bar(x_labels, mcc_values)\n",
        "ax2.set_title(\"MCC Values\")\n",
        "ax2.set_ylim(0, 1)\n",
        "\n",
        "# Show the plot\n",
        "plt.show()\n"
      ],
      "metadata": {
        "colab": {
          "base_uri": "https://localhost:8080/",
          "height": 468
        },
        "id": "uV-75z5OmHPz",
        "outputId": "1ddf5ae9-16fd-4102-94e4-1bc84dba503f"
      },
      "execution_count": 38,
      "outputs": [
        {
          "output_type": "display_data",
          "data": {
            "text/plain": [
              "<Figure size 1000x500 with 2 Axes>"
            ],
            "image/png": "[encoded data removed]"
          },
          "metadata": {}
        }
      ]
    },
    {
      "cell_type": "markdown",
      "source": [
        "The CBA metric is defined as the product of the precision and recall, both of which are ratios between the correctly classified instances and the total instances. The precision measures the accuracy of the positive predictions made by the classifier, while the recall measures the completeness of the positive predictions.\n",
        "\n",
        "The CBA metric is a good way to evaluate the overall performance of a binary classifier because it takes into account both the accuracy and completeness of the predictions."
      ],
      "metadata": {
        "id": "rROb2FlYx0Ne"
      }
    },
    {
      "cell_type": "markdown",
      "source": [
        "MCC stands for Matthews Correlation Coefficient and is a metric used to evaluate the performance of binary classifiers. It takes into account all four values in the confusion matrix, i.e., true positives, true negatives, false positives, and false negatives.\n",
        "\n",
        "The MCC metric is defined as the covariance between the predicted binary labels and the true binary labels, divided by the product of their standard deviations. It ranges from -1 to 1, where a score of 1 indicates perfect classification, 0 indicates a random classification, and -1 indicates perfect inverse classification.\n",
        "\n",
        "MCC is a useful metric because it is not affected by imbalanced class distributions, unlike some other metrics such as accuracy or precision. It is also useful when the classes are not equally important, as it considers all four values in the confusion matrix."
      ],
      "metadata": {
        "id": "79g1YvKByVoG"
      }
    },
    {
      "cell_type": "markdown",
      "source": [
        "So MCC will be the main criteria for comparing algorithms"
      ],
      "metadata": {
        "id": "4FI9OpeNyeqg"
      }
    },
    {
      "cell_type": "markdown",
      "source": [
        "# **XGBoost**"
      ],
      "metadata": {
        "id": "U0zfU2V5MHH4"
      }
    },
    {
      "cell_type": "code",
      "source": [
        "# Compute the ratio of negative to positive examples\n",
        "neg_pos_ratio = len(original_ytrain[original_ytrain==0]) / len(original_ytrain[original_ytrain==1])\n",
        "\n",
        "# Create the XGBClassifier with scale_pos_weight\n",
        "xgb_clf = xgb.XGBClassifier(n_estimators=500, learning_rate=0.01, max_depth=5, scale_pos_weight=neg_pos_ratio, random_state=42)\n",
        "\n",
        "# Fit the model to the training data\n",
        "xgb_clf.fit(original_Xtrain, original_ytrain)\n"
      ],
      "metadata": {
        "id": "ozPGPDwSMLDp",
        "outputId": "814fe429-7e45-4796-9750-ca200ae39fef",
        "colab": {
          "base_uri": "https://localhost:8080/",
          "height": 248
        }
      },
      "execution_count": 39,
      "outputs": [
        {
          "output_type": "execute_result",
          "data": {
            "text/plain": [
              "XGBClassifier(base_score=None, booster=None, callbacks=None,\n",
              "              colsample_bylevel=None, colsample_bynode=None,\n",
              "              colsample_bytree=None, early_stopping_rounds=None,\n",
              "              enable_categorical=False, eval_metric=None, feature_types=None,\n",
              "              gamma=None, gpu_id=None, grow_policy=None, importance_type=None,\n",
              "              interaction_constraints=None, learning_rate=0.01, max_bin=None,\n",
              "              max_cat_threshold=None, max_cat_to_onehot=None,\n",
              "              max_delta_step=None, max_depth=5, max_leaves=None,\n",
              "              min_child_weight=None, missing=nan, monotone_constraints=None,\n",
              "              n_estimators=500, n_jobs=None, num_parallel_tree=None,\n",
              "              predictor=None, random_state=42, ...)"
            ],
            "text/html": [
              "<style>#sk-container-id-1 {color: black;background-color: white;}#sk-container-id-1 pre{padding: 0;}#sk-container-id-1 div.sk-toggleable {background-color: white;}#sk-container-id-1 label.sk-toggleable__label {cursor: pointer;display: block;width: 100%;margin-bottom: 0;padding: 0.3em;box-sizing: border-box;text-align: center;}#sk-container-id-1 label.sk-toggleable__label-arrow:before {content: \"▸\";float: left;margin-right: 0.25em;color: #696969;}#sk-container-id-1 label.sk-toggleable__label-arrow:hover:before {color: black;}#sk-container-id-1 div.sk-estimator:hover label.sk-toggleable__label-arrow:before {color: black;}#sk-container-id-1 div.sk-toggleable__content {max-height: 0;max-width: 0;overflow: hidden;text-align: left;background-color: #f0f8ff;}#sk-container-id-1 div.sk-toggleable__content pre {margin: 0.2em;color: black;border-radius: 0.25em;background-color: #f0f8ff;}#sk-container-id-1 input.sk-toggleable__control:checked~div.sk-toggleable__content {max-height: 200px;max-width: 100%;overflow: auto;}#sk-container-id-1 input.sk-toggleable__control:checked~label.sk-toggleable__label-arrow:before {content: \"▾\";}#sk-container-id-1 div.sk-estimator input.sk-toggleable__control:checked~label.sk-toggleable__label {background-color: #d4ebff;}#sk-container-id-1 div.sk-label input.sk-toggleable__control:checked~label.sk-toggleable__label {background-color: #d4ebff;}#sk-container-id-1 input.sk-hidden--visually {border: 0;clip: rect(1px 1px 1px 1px);clip: rect(1px, 1px, 1px, 1px);height: 1px;margin: -1px;overflow: hidden;padding: 0;position: absolute;width: 1px;}#sk-container-id-1 div.sk-estimator {font-family: monospace;background-color: #f0f8ff;border: 1px dotted black;border-radius: 0.25em;box-sizing: border-box;margin-bottom: 0.5em;}#sk-container-id-1 div.sk-estimator:hover {background-color: #d4ebff;}#sk-container-id-1 div.sk-parallel-item::after {content: \"\";width: 100%;border-bottom: 1px solid gray;flex-grow: 1;}#sk-container-id-1 div.sk-label:hover label.sk-toggleable__label {background-color: #d4ebff;}#sk-container-id-1 div.sk-serial::before {content: \"\";position: absolute;border-left: 1px solid gray;box-sizing: border-box;top: 0;bottom: 0;left: 50%;z-index: 0;}#sk-container-id-1 div.sk-serial {display: flex;flex-direction: column;align-items: center;background-color: white;padding-right: 0.2em;padding-left: 0.2em;position: relative;}#sk-container-id-1 div.sk-item {position: relative;z-index: 1;}#sk-container-id-1 div.sk-parallel {display: flex;align-items: stretch;justify-content: center;background-color: white;position: relative;}#sk-container-id-1 div.sk-item::before, #sk-container-id-1 div.sk-parallel-item::before {content: \"\";position: absolute;border-left: 1px solid gray;box-sizing: border-box;top: 0;bottom: 0;left: 50%;z-index: -1;}#sk-container-id-1 div.sk-parallel-item {display: flex;flex-direction: column;z-index: 1;position: relative;background-color: white;}#sk-container-id-1 div.sk-parallel-item:first-child::after {align-self: flex-end;width: 50%;}#sk-container-id-1 div.sk-parallel-item:last-child::after {align-self: flex-start;width: 50%;}#sk-container-id-1 div.sk-parallel-item:only-child::after {width: 0;}#sk-container-id-1 div.sk-dashed-wrapped {border: 1px dashed gray;margin: 0 0.4em 0.5em 0.4em;box-sizing: border-box;padding-bottom: 0.4em;background-color: white;}#sk-container-id-1 div.sk-label label {font-family: monospace;font-weight: bold;display: inline-block;line-height: 1.2em;}#sk-container-id-1 div.sk-label-container {text-align: center;}#sk-container-id-1 div.sk-container {/* jupyter's `normalize.less` sets `[hidden] { display: none; }` but bootstrap.min.css set `[hidden] { display: none !important; }` so we also need the `!important` here to be able to override the default hidden behavior on the sphinx rendered scikit-learn.org. See: https://github.com/scikit-learn/scikit-learn/issues/21755 */display: inline-block !important;position: relative;}#sk-container-id-1 div.sk-text-repr-fallback {display: none;}</style><div id=\"sk-container-id-1\" class=\"sk-top-container\"><div class=\"sk-text-repr-fallback\"><pre>XGBClassifier(base_score=None, booster=None, callbacks=None,\n",
              "              colsample_bylevel=None, colsample_bynode=None,\n",
              "              colsample_bytree=None, early_stopping_rounds=None,\n",
              "              enable_categorical=False, eval_metric=None, feature_types=None,\n",
              "              gamma=None, gpu_id=None, grow_policy=None, importance_type=None,\n",
              "              interaction_constraints=None, learning_rate=0.01, max_bin=None,\n",
              "              max_cat_threshold=None, max_cat_to_onehot=None,\n",
              "              max_delta_step=None, max_depth=5, max_leaves=None,\n",
              "              min_child_weight=None, missing=nan, monotone_constraints=None,\n",
              "              n_estimators=500, n_jobs=None, num_parallel_tree=None,\n",
              "              predictor=None, random_state=42, ...)</pre><b>In a Jupyter environment, please rerun this cell to show the HTML representation or trust the notebook. <br />On GitHub, the HTML representation is unable to render, please try loading this page with nbviewer.org.</b></div><div class=\"sk-container\" hidden><div class=\"sk-item\"><div class=\"sk-estimator sk-toggleable\"><input class=\"sk-toggleable__control sk-hidden--visually\" id=\"sk-estimator-id-1\" type=\"checkbox\" checked><label for=\"sk-estimator-id-1\" class=\"sk-toggleable__label sk-toggleable__label-arrow\">XGBClassifier</label><div class=\"sk-toggleable__content\"><pre>XGBClassifier(base_score=None, booster=None, callbacks=None,\n",
              "              colsample_bylevel=None, colsample_bynode=None,\n",
              "              colsample_bytree=None, early_stopping_rounds=None,\n",
              "              enable_categorical=False, eval_metric=None, feature_types=None,\n",
              "              gamma=None, gpu_id=None, grow_policy=None, importance_type=None,\n",
              "              interaction_constraints=None, learning_rate=0.01, max_bin=None,\n",
              "              max_cat_threshold=None, max_cat_to_onehot=None,\n",
              "              max_delta_step=None, max_depth=5, max_leaves=None,\n",
              "              min_child_weight=None, missing=nan, monotone_constraints=None,\n",
              "              n_estimators=500, n_jobs=None, num_parallel_tree=None,\n",
              "              predictor=None, random_state=42, ...)</pre></div></div></div></div></div>"
            ]
          },
          "metadata": {},
          "execution_count": 39
        }
      ]
    },
    {
      "cell_type": "code",
      "source": [
        "# Predict the labels of the test data using the trained model\n",
        "y_pred = xgb_clf.predict(original_Xtest)\n",
        "y_pred_xgb = (y_pred > 0.5).astype('int')\n",
        "\n",
        "labels = ['No Fraud', 'Fraud']\n",
        "\n",
        "# Calculate the confusion matrix\n",
        "cm_xgb = confusion_matrix(original_ytest, y_pred_xgb)\n",
        "\n",
        "# Plot the confusion matrix\n",
        "plot_confusion_matrix(cm_xgb,labels,title=\"XGBoost\",cmap=plt.cm.Greys)"
      ],
      "metadata": {
        "id": "Gzf0yWT2NrNi",
        "outputId": "e000900e-6c81-4f06-cead-8eecd26a56d9",
        "colab": {
          "base_uri": "https://localhost:8080/",
          "height": 566
        }
      },
      "execution_count": 40,
      "outputs": [
        {
          "output_type": "stream",
          "name": "stdout",
          "text": [
            "Confusion matrix, without normalization\n",
            "[[21661   558]\n",
            " [   55   118]]\n"
          ]
        },
        {
          "output_type": "display_data",
          "data": {
            "text/plain": [
              "<Figure size 640x480 with 1 Axes>"
            ],
            "image/png": "[encoded data removed]"
          },
          "metadata": {}
        }
      ]
    },
    {
      "cell_type": "code",
      "source": [
        "mcc = matthews_corrcoef(original_ytest, y_pred_xgb)\n",
        "mcc"
      ],
      "metadata": {
        "id": "finw4Ly_N9yf",
        "outputId": "8e940a39-10ee-49f0-b08b-fc0a6b5f669e",
        "colab": {
          "base_uri": "https://localhost:8080/"
        }
      },
      "execution_count": 41,
      "outputs": [
        {
          "output_type": "execute_result",
          "data": {
            "text/plain": [
              "0.33617528679087355"
            ]
          },
          "metadata": {},
          "execution_count": 41
        }
      ]
    },
    {
      "cell_type": "code",
      "source": [
        "cba = (cm_1[0][0] / (cm_xgb[0][0] + cm_xgb[0][1])) * (cm_xgb[1][1] / (cm_xgb[1][0] + cm_xgb[1][1]))\n",
        "cba"
      ],
      "metadata": {
        "id": "N0j7tGCXRS41",
        "outputId": "b6dcbd07-62bc-4a4a-e224-148e80902171",
        "colab": {
          "base_uri": "https://localhost:8080/"
        }
      },
      "execution_count": 42,
      "outputs": [
        {
          "output_type": "execute_result",
          "data": {
            "text/plain": [
              "0.656785696353717"
            ]
          },
          "metadata": {},
          "execution_count": 42
        }
      ]
    },
    {
      "cell_type": "code",
      "source": [
        "f1 = f1_score(original_ytest, y_pred_xgb)\n",
        "acc = accuracy_score(original_ytest, y_pred_xgb)\n",
        "print(f1)\n",
        "print(acc)"
      ],
      "metadata": {
        "id": "HbdceeovL1An",
        "outputId": "060f83f2-dd7a-4cf1-bc20-ac5f6a04915f",
        "colab": {
          "base_uri": "https://localhost:8080/"
        }
      },
      "execution_count": 43,
      "outputs": [
        {
          "output_type": "stream",
          "name": "stdout",
          "text": [
            "0.2779740871613663\n",
            "0.9726241514826723\n"
          ]
        }
      ]
    },
    {
      "cell_type": "markdown",
      "source": [
        "# **Random Forest**"
      ],
      "metadata": {
        "id": "AHRStGvaHChV"
      }
    },
    {
      "cell_type": "code",
      "source": [
        "from sklearn.ensemble import RandomForestClassifier\n",
        "\n",
        "rf = RandomForestClassifier(random_state=36)\n",
        "rf.fit(X_train_over,y_train_over)\n",
        "predicted=rf.predict(original_Xtest)\n",
        "print('Classification report:\\n', classification_report(original_ytest, predicted))\n",
        "conf_mat = confusion_matrix(y_true=original_ytest, y_pred=predicted)\n",
        "print('Confusion matrix:\\n', conf_mat)\n",
        "print('Share of Non-Fraud in Test Data:', 1-round(original_ytest.sum()/len(original_ytest),4))"
      ],
      "metadata": {
        "id": "UK24xU-VHFfW",
        "colab": {
          "base_uri": "https://localhost:8080/"
        },
        "outputId": "2180931c-548a-4380-a2ad-fc92d000e276"
      },
      "execution_count": 44,
      "outputs": [
        {
          "output_type": "stream",
          "name": "stdout",
          "text": [
            "Classification report:\n",
            "               precision    recall  f1-score   support\n",
            "\n",
            "           0       0.99      0.98      0.99     22219\n",
            "           1       0.13      0.36      0.19       173\n",
            "\n",
            "    accuracy                           0.98     22392\n",
            "   macro avg       0.56      0.67      0.59     22392\n",
            "weighted avg       0.99      0.98      0.98     22392\n",
            "\n",
            "Confusion matrix:\n",
            " [[21783   436]\n",
            " [  110    63]]\n",
            "Share of Non-Fraud in Test Data: 0.9923\n"
          ]
        }
      ]
    },
    {
      "cell_type": "code",
      "source": [
        "# Predict the labels of the test data using the trained model\n",
        "predicted\n",
        "y_pred_rf = (predicted > 0.5).astype('int')\n",
        "\n",
        "labels = ['No Fraud', 'Fraud']\n",
        "\n",
        "# Calculate the confusion matrix\n",
        "cm_rf = confusion_matrix(original_ytest, y_pred_rf)\n",
        "\n",
        "# Plot the confusion matrix\n",
        "plot_confusion_matrix(cm_rf,labels,title=\"Random Forest\",cmap=plt.cm.Greys)"
      ],
      "metadata": {
        "id": "7q0kTbrpIrfm",
        "colab": {
          "base_uri": "https://localhost:8080/",
          "height": 566
        },
        "outputId": "be057179-1c87-4566-9b40-a8ab545d009f"
      },
      "execution_count": 45,
      "outputs": [
        {
          "output_type": "stream",
          "name": "stdout",
          "text": [
            "Confusion matrix, without normalization\n",
            "[[21783   436]\n",
            " [  110    63]]\n"
          ]
        },
        {
          "output_type": "display_data",
          "data": {
            "text/plain": [
              "<Figure size 640x480 with 1 Axes>"
            ],
            "image/png": "[encoded data removed]"
          },
          "metadata": {}
        }
      ]
    },
    {
      "cell_type": "code",
      "source": [
        "from sklearn.metrics import matthews_corrcoef, confusion_matrix\n",
        "mcc = matthews_corrcoef(original_ytest, y_pred_rf)\n",
        "mcc"
      ],
      "metadata": {
        "id": "bYdLCXH4Il9m",
        "colab": {
          "base_uri": "https://localhost:8080/"
        },
        "outputId": "6e18c05f-25bd-44a7-9347-ab2354dc3413"
      },
      "execution_count": 47,
      "outputs": [
        {
          "output_type": "execute_result",
          "data": {
            "text/plain": [
              "0.20437171488581934"
            ]
          },
          "metadata": {},
          "execution_count": 47
        }
      ]
    },
    {
      "cell_type": "code",
      "source": [
        "cba = (cm_rf[0][0] / (cm_rf[0][0] + cm_rf[0][1])) * (cm_rf[1][1] / (cm_rf[1][0] + cm_rf[1][1]))\n",
        "cba"
      ],
      "metadata": {
        "colab": {
          "base_uri": "https://localhost:8080/"
        },
        "id": "jKSV6IWaM8yz",
        "outputId": "e5e441cd-501c-43ca-ee01-31ea90e9267f"
      },
      "execution_count": 46,
      "outputs": [
        {
          "output_type": "execute_result",
          "data": {
            "text/plain": [
              "0.35701595806536457"
            ]
          },
          "metadata": {},
          "execution_count": 46
        }
      ]
    },
    {
      "cell_type": "code",
      "source": [
        "from sklearn.metrics import f1_score\n",
        "from sklearn.metrics import accuracy_score\n",
        "\n",
        "f1 = f1_score(original_ytest, y_pred_rf)\n",
        "acc = accuracy_score(original_ytest, y_pred_rf)\n",
        "print(f1)\n",
        "print(acc)"
      ],
      "metadata": {
        "colab": {
          "base_uri": "https://localhost:8080/"
        },
        "id": "IFZ5YFUpM_An",
        "outputId": "717d22b6-d2a8-4dba-c9ac-85aa15d2f781"
      },
      "execution_count": 48,
      "outputs": [
        {
          "output_type": "stream",
          "name": "stdout",
          "text": [
            "0.18749999999999997\n",
            "0.9756162915326902\n"
          ]
        }
      ]
    }
  ]
}