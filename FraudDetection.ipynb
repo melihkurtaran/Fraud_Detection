{
  "nbformat": 4,
  "nbformat_minor": 0,
  "metadata": {
    "colab": {
      "provenance": [],
      "toc_visible": true,
      "authorship_tag": "ABX9TyORrS9NEhd6b+9X4TZ8RjTC",
      "include_colab_link": true
    },
    "kernelspec": {
      "name": "python3",
      "display_name": "Python 3"
    },
    "language_info": {
      "name": "python"
    }
  },
  "cells": [
    {
      "cell_type": "markdown",
      "metadata": {
        "id": "view-in-github",
        "colab_type": "text"
      },
      "source": [
        "<a href=\"https://colab.research.google.com/github/melihkurtaran/Fraud_Detection/blob/main/FraudDetection.ipynb\" target=\"_parent\"><img src=\"https://colab.research.google.com/assets/colab-badge.svg\" alt=\"Open In Colab\"/></a>"
      ]
    },
    {
      "cell_type": "markdown",
      "source": [
        "**Fraud Detection Project**"
      ],
      "metadata": {
        "id": "oukoSeyRLsot"
      }
    },
    {
      "cell_type": "code",
      "source": [
        "#Load libraries\n",
        "import pandas as pd\n",
        "import numpy as np\n",
        "import matplotlib.pyplot as plt\n",
        "import seaborn as sns\n",
        "from sklearn.preprocessing import StandardScaler, RobustScaler\n",
        "from sklearn.model_selection import KFold, StratifiedKFold\n",
        "from imblearn.under_sampling import RandomUnderSampler\n",
        "from sklearn.linear_model import LogisticRegression\n",
        "from sklearn.metrics import classification_report\n",
        "from sklearn.metrics import confusion_matrix\n",
        "import itertools\n",
        "from imblearn.over_sampling import SMOTE\n",
        "from keras.models import Sequential\n",
        "from keras.layers import Dense\n",
        "import xgboost as xgb"
      ],
      "metadata": {
        "id": "mPR9g2ZOLwBM"
      },
      "execution_count": 1,
      "outputs": []
    },
    {
      "cell_type": "code",
      "source": [
        "#Connect to GitHub for faster access\n",
        "!git clone https://github.com/melihkurtaran/Fraud_Detection.git"
      ],
      "metadata": {
        "colab": {
          "base_uri": "https://localhost:8080/"
        },
        "id": "sOhOWK2uMCXv",
        "outputId": "34e82e48-2d5d-4ece-bbed-77aba799d45c"
      },
      "execution_count": 2,
      "outputs": [
        {
          "output_type": "stream",
          "name": "stdout",
          "text": [
            "Cloning into 'Fraud_Detection'...\n",
            "remote: Enumerating objects: 91, done.\u001b[K\n",
            "remote: Counting objects: 100% (21/21), done.\u001b[K\n",
            "remote: Compressing objects: 100% (21/21), done.\u001b[K\n",
            "remote: Total 91 (delta 9), reused 0 (delta 0), pack-reused 70\u001b[K\n",
            "Unpacking objects: 100% (91/91), 112.29 MiB | 4.58 MiB/s, done.\n",
            "Updating files: 100% (27/27), done.\n"
          ]
        }
      ]
    },
    {
      "cell_type": "code",
      "source": [
        "# Upload splits to DataFrames\n",
        "df_sp1 = pd.read_csv(\"Fraud_Detection/datasets/realTransactions_2013Sep_sp_1.csv\")\n",
        "df_sp2 = pd.read_csv(\"Fraud_Detection/datasets/realTransactions_2013Sep_sp_2.csv\")\n",
        "\n",
        "# Merge the dataframes\n",
        "df = pd.concat([df_sp1, df_sp2])\n",
        "df.head(10)"
      ],
      "metadata": {
        "colab": {
          "base_uri": "https://localhost:8080/",
          "height": 456
        },
        "id": "PiVafxfSMME2",
        "outputId": "479f3cfd-95fa-40e5-a8a6-5fc39d8c01eb"
      },
      "execution_count": 3,
      "outputs": [
        {
          "output_type": "execute_result",
          "data": {
            "text/plain": [
              "   Time        V1        V2        V3        V4        V5        V6        V7  \\\n",
              "0   0.0 -1.359807 -0.072781  2.536347  1.378155 -0.338321  0.462388  0.239599   \n",
              "1   0.0  1.191857  0.266151  0.166480  0.448154  0.060018 -0.082361 -0.078803   \n",
              "2   1.0 -1.358354 -1.340163  1.773209  0.379780 -0.503198  1.800499  0.791461   \n",
              "3   1.0 -0.966272 -0.185226  1.792993 -0.863291 -0.010309  1.247203  0.237609   \n",
              "4   2.0 -1.158233  0.877737  1.548718  0.403034 -0.407193  0.095921  0.592941   \n",
              "5   2.0 -0.425966  0.960523  1.141109 -0.168252  0.420987 -0.029728  0.476201   \n",
              "6   4.0  1.229658  0.141004  0.045371  1.202613  0.191881  0.272708 -0.005159   \n",
              "7   7.0 -0.644269  1.417964  1.074380 -0.492199  0.948934  0.428118  1.120631   \n",
              "8   7.0 -0.894286  0.286157 -0.113192 -0.271526  2.669599  3.721818  0.370145   \n",
              "9   9.0 -0.338262  1.119593  1.044367 -0.222187  0.499361 -0.246761  0.651583   \n",
              "\n",
              "         V8        V9  ...       V21       V22       V23       V24       V25  \\\n",
              "0  0.098698  0.363787  ... -0.018307  0.277838 -0.110474  0.066928  0.128539   \n",
              "1  0.085102 -0.255425  ... -0.225775 -0.638672  0.101288 -0.339846  0.167170   \n",
              "2  0.247676 -1.514654  ...  0.247998  0.771679  0.909412 -0.689281 -0.327642   \n",
              "3  0.377436 -1.387024  ... -0.108300  0.005274 -0.190321 -1.175575  0.647376   \n",
              "4 -0.270533  0.817739  ... -0.009431  0.798278 -0.137458  0.141267 -0.206010   \n",
              "5  0.260314 -0.568671  ... -0.208254 -0.559825 -0.026398 -0.371427 -0.232794   \n",
              "6  0.081213  0.464960  ... -0.167716 -0.270710 -0.154104 -0.780055  0.750137   \n",
              "7 -3.807864  0.615375  ...  1.943465 -1.015455  0.057504 -0.649709 -0.415267   \n",
              "8  0.851084 -0.392048  ... -0.073425 -0.268092 -0.204233  1.011592  0.373205   \n",
              "9  0.069539 -0.736727  ... -0.246914 -0.633753 -0.120794 -0.385050 -0.069733   \n",
              "\n",
              "        V26       V27       V28  Amount  Class  \n",
              "0 -0.189115  0.133558 -0.021053  149.62      0  \n",
              "1  0.125895 -0.008983  0.014724    2.69      0  \n",
              "2 -0.139097 -0.055353 -0.059752  378.66      0  \n",
              "3 -0.221929  0.062723  0.061458  123.50      0  \n",
              "4  0.502292  0.219422  0.215153   69.99      0  \n",
              "5  0.105915  0.253844  0.081080    3.67      0  \n",
              "6 -0.257237  0.034507  0.005168    4.99      0  \n",
              "7 -0.051634 -1.206921 -1.085339   40.80      0  \n",
              "8 -0.384157  0.011747  0.142404   93.20      0  \n",
              "9  0.094199  0.246219  0.083076    3.68      0  \n",
              "\n",
              "[10 rows x 31 columns]"
            ],
            "text/html": [
              "\n",
              "  <div id=\"df-82be0594-3490-41db-b477-75aa3b311473\">\n",
              "    <div class=\"colab-df-container\">\n",
              "      <div>\n",
              "<style scoped>\n",
              "    .dataframe tbody tr th:only-of-type {\n",
              "        vertical-align: middle;\n",
              "    }\n",
              "\n",
              "    .dataframe tbody tr th {\n",
              "        vertical-align: top;\n",
              "    }\n",
              "\n",
              "    .dataframe thead th {\n",
              "        text-align: right;\n",
              "    }\n",
              "</style>\n",
              "<table border=\"1\" class=\"dataframe\">\n",
              "  <thead>\n",
              "    <tr style=\"text-align: right;\">\n",
              "      <th></th>\n",
              "      <th>Time</th>\n",
              "      <th>V1</th>\n",
              "      <th>V2</th>\n",
              "      <th>V3</th>\n",
              "      <th>V4</th>\n",
              "      <th>V5</th>\n",
              "      <th>V6</th>\n",
              "      <th>V7</th>\n",
              "      <th>V8</th>\n",
              "      <th>V9</th>\n",
              "      <th>...</th>\n",
              "      <th>V21</th>\n",
              "      <th>V22</th>\n",
              "      <th>V23</th>\n",
              "      <th>V24</th>\n",
              "      <th>V25</th>\n",
              "      <th>V26</th>\n",
              "      <th>V27</th>\n",
              "      <th>V28</th>\n",
              "      <th>Amount</th>\n",
              "      <th>Class</th>\n",
              "    </tr>\n",
              "  </thead>\n",
              "  <tbody>\n",
              "    <tr>\n",
              "      <th>0</th>\n",
              "      <td>0.0</td>\n",
              "      <td>-1.359807</td>\n",
              "      <td>-0.072781</td>\n",
              "      <td>2.536347</td>\n",
              "      <td>1.378155</td>\n",
              "      <td>-0.338321</td>\n",
              "      <td>0.462388</td>\n",
              "      <td>0.239599</td>\n",
              "      <td>0.098698</td>\n",
              "      <td>0.363787</td>\n",
              "      <td>...</td>\n",
              "      <td>-0.018307</td>\n",
              "      <td>0.277838</td>\n",
              "      <td>-0.110474</td>\n",
              "      <td>0.066928</td>\n",
              "      <td>0.128539</td>\n",
              "      <td>-0.189115</td>\n",
              "      <td>0.133558</td>\n",
              "      <td>-0.021053</td>\n",
              "      <td>149.62</td>\n",
              "      <td>0</td>\n",
              "    </tr>\n",
              "    <tr>\n",
              "      <th>1</th>\n",
              "      <td>0.0</td>\n",
              "      <td>1.191857</td>\n",
              "      <td>0.266151</td>\n",
              "      <td>0.166480</td>\n",
              "      <td>0.448154</td>\n",
              "      <td>0.060018</td>\n",
              "      <td>-0.082361</td>\n",
              "      <td>-0.078803</td>\n",
              "      <td>0.085102</td>\n",
              "      <td>-0.255425</td>\n",
              "      <td>...</td>\n",
              "      <td>-0.225775</td>\n",
              "      <td>-0.638672</td>\n",
              "      <td>0.101288</td>\n",
              "      <td>-0.339846</td>\n",
              "      <td>0.167170</td>\n",
              "      <td>0.125895</td>\n",
              "      <td>-0.008983</td>\n",
              "      <td>0.014724</td>\n",
              "      <td>2.69</td>\n",
              "      <td>0</td>\n",
              "    </tr>\n",
              "    <tr>\n",
              "      <th>2</th>\n",
              "      <td>1.0</td>\n",
              "      <td>-1.358354</td>\n",
              "      <td>-1.340163</td>\n",
              "      <td>1.773209</td>\n",
              "      <td>0.379780</td>\n",
              "      <td>-0.503198</td>\n",
              "      <td>1.800499</td>\n",
              "      <td>0.791461</td>\n",
              "      <td>0.247676</td>\n",
              "      <td>-1.514654</td>\n",
              "      <td>...</td>\n",
              "      <td>0.247998</td>\n",
              "      <td>0.771679</td>\n",
              "      <td>0.909412</td>\n",
              "      <td>-0.689281</td>\n",
              "      <td>-0.327642</td>\n",
              "      <td>-0.139097</td>\n",
              "      <td>-0.055353</td>\n",
              "      <td>-0.059752</td>\n",
              "      <td>378.66</td>\n",
              "      <td>0</td>\n",
              "    </tr>\n",
              "    <tr>\n",
              "      <th>3</th>\n",
              "      <td>1.0</td>\n",
              "      <td>-0.966272</td>\n",
              "      <td>-0.185226</td>\n",
              "      <td>1.792993</td>\n",
              "      <td>-0.863291</td>\n",
              "      <td>-0.010309</td>\n",
              "      <td>1.247203</td>\n",
              "      <td>0.237609</td>\n",
              "      <td>0.377436</td>\n",
              "      <td>-1.387024</td>\n",
              "      <td>...</td>\n",
              "      <td>-0.108300</td>\n",
              "      <td>0.005274</td>\n",
              "      <td>-0.190321</td>\n",
              "      <td>-1.175575</td>\n",
              "      <td>0.647376</td>\n",
              "      <td>-0.221929</td>\n",
              "      <td>0.062723</td>\n",
              "      <td>0.061458</td>\n",
              "      <td>123.50</td>\n",
              "      <td>0</td>\n",
              "    </tr>\n",
              "    <tr>\n",
              "      <th>4</th>\n",
              "      <td>2.0</td>\n",
              "      <td>-1.158233</td>\n",
              "      <td>0.877737</td>\n",
              "      <td>1.548718</td>\n",
              "      <td>0.403034</td>\n",
              "      <td>-0.407193</td>\n",
              "      <td>0.095921</td>\n",
              "      <td>0.592941</td>\n",
              "      <td>-0.270533</td>\n",
              "      <td>0.817739</td>\n",
              "      <td>...</td>\n",
              "      <td>-0.009431</td>\n",
              "      <td>0.798278</td>\n",
              "      <td>-0.137458</td>\n",
              "      <td>0.141267</td>\n",
              "      <td>-0.206010</td>\n",
              "      <td>0.502292</td>\n",
              "      <td>0.219422</td>\n",
              "      <td>0.215153</td>\n",
              "      <td>69.99</td>\n",
              "      <td>0</td>\n",
              "    </tr>\n",
              "    <tr>\n",
              "      <th>5</th>\n",
              "      <td>2.0</td>\n",
              "      <td>-0.425966</td>\n",
              "      <td>0.960523</td>\n",
              "      <td>1.141109</td>\n",
              "      <td>-0.168252</td>\n",
              "      <td>0.420987</td>\n",
              "      <td>-0.029728</td>\n",
              "      <td>0.476201</td>\n",
              "      <td>0.260314</td>\n",
              "      <td>-0.568671</td>\n",
              "      <td>...</td>\n",
              "      <td>-0.208254</td>\n",
              "      <td>-0.559825</td>\n",
              "      <td>-0.026398</td>\n",
              "      <td>-0.371427</td>\n",
              "      <td>-0.232794</td>\n",
              "      <td>0.105915</td>\n",
              "      <td>0.253844</td>\n",
              "      <td>0.081080</td>\n",
              "      <td>3.67</td>\n",
              "      <td>0</td>\n",
              "    </tr>\n",
              "    <tr>\n",
              "      <th>6</th>\n",
              "      <td>4.0</td>\n",
              "      <td>1.229658</td>\n",
              "      <td>0.141004</td>\n",
              "      <td>0.045371</td>\n",
              "      <td>1.202613</td>\n",
              "      <td>0.191881</td>\n",
              "      <td>0.272708</td>\n",
              "      <td>-0.005159</td>\n",
              "      <td>0.081213</td>\n",
              "      <td>0.464960</td>\n",
              "      <td>...</td>\n",
              "      <td>-0.167716</td>\n",
              "      <td>-0.270710</td>\n",
              "      <td>-0.154104</td>\n",
              "      <td>-0.780055</td>\n",
              "      <td>0.750137</td>\n",
              "      <td>-0.257237</td>\n",
              "      <td>0.034507</td>\n",
              "      <td>0.005168</td>\n",
              "      <td>4.99</td>\n",
              "      <td>0</td>\n",
              "    </tr>\n",
              "    <tr>\n",
              "      <th>7</th>\n",
              "      <td>7.0</td>\n",
              "      <td>-0.644269</td>\n",
              "      <td>1.417964</td>\n",
              "      <td>1.074380</td>\n",
              "      <td>-0.492199</td>\n",
              "      <td>0.948934</td>\n",
              "      <td>0.428118</td>\n",
              "      <td>1.120631</td>\n",
              "      <td>-3.807864</td>\n",
              "      <td>0.615375</td>\n",
              "      <td>...</td>\n",
              "      <td>1.943465</td>\n",
              "      <td>-1.015455</td>\n",
              "      <td>0.057504</td>\n",
              "      <td>-0.649709</td>\n",
              "      <td>-0.415267</td>\n",
              "      <td>-0.051634</td>\n",
              "      <td>-1.206921</td>\n",
              "      <td>-1.085339</td>\n",
              "      <td>40.80</td>\n",
              "      <td>0</td>\n",
              "    </tr>\n",
              "    <tr>\n",
              "      <th>8</th>\n",
              "      <td>7.0</td>\n",
              "      <td>-0.894286</td>\n",
              "      <td>0.286157</td>\n",
              "      <td>-0.113192</td>\n",
              "      <td>-0.271526</td>\n",
              "      <td>2.669599</td>\n",
              "      <td>3.721818</td>\n",
              "      <td>0.370145</td>\n",
              "      <td>0.851084</td>\n",
              "      <td>-0.392048</td>\n",
              "      <td>...</td>\n",
              "      <td>-0.073425</td>\n",
              "      <td>-0.268092</td>\n",
              "      <td>-0.204233</td>\n",
              "      <td>1.011592</td>\n",
              "      <td>0.373205</td>\n",
              "      <td>-0.384157</td>\n",
              "      <td>0.011747</td>\n",
              "      <td>0.142404</td>\n",
              "      <td>93.20</td>\n",
              "      <td>0</td>\n",
              "    </tr>\n",
              "    <tr>\n",
              "      <th>9</th>\n",
              "      <td>9.0</td>\n",
              "      <td>-0.338262</td>\n",
              "      <td>1.119593</td>\n",
              "      <td>1.044367</td>\n",
              "      <td>-0.222187</td>\n",
              "      <td>0.499361</td>\n",
              "      <td>-0.246761</td>\n",
              "      <td>0.651583</td>\n",
              "      <td>0.069539</td>\n",
              "      <td>-0.736727</td>\n",
              "      <td>...</td>\n",
              "      <td>-0.246914</td>\n",
              "      <td>-0.633753</td>\n",
              "      <td>-0.120794</td>\n",
              "      <td>-0.385050</td>\n",
              "      <td>-0.069733</td>\n",
              "      <td>0.094199</td>\n",
              "      <td>0.246219</td>\n",
              "      <td>0.083076</td>\n",
              "      <td>3.68</td>\n",
              "      <td>0</td>\n",
              "    </tr>\n",
              "  </tbody>\n",
              "</table>\n",
              "<p>10 rows × 31 columns</p>\n",
              "</div>\n",
              "      <button class=\"colab-df-convert\" onclick=\"convertToInteractive('df-82be0594-3490-41db-b477-75aa3b311473')\"\n",
              "              title=\"Convert this dataframe to an interactive table.\"\n",
              "              style=\"display:none;\">\n",
              "        \n",
              "  <svg xmlns=\"http://www.w3.org/2000/svg\" height=\"24px\"viewBox=\"0 0 24 24\"\n",
              "       width=\"24px\">\n",
              "    <path d=\"M0 0h24v24H0V0z\" fill=\"none\"/>\n",
              "    <path d=\"M18.56 5.44l.94 2.06.94-2.06 2.06-.94-2.06-.94-.94-2.06-.94 2.06-2.06.94zm-11 1L8.5 8.5l.94-2.06 2.06-.94-2.06-.94L8.5 2.5l-.94 2.06-2.06.94zm10 10l.94 2.06.94-2.06 2.06-.94-2.06-.94-.94-2.06-.94 2.06-2.06.94z\"/><path d=\"M17.41 7.96l-1.37-1.37c-.4-.4-.92-.59-1.43-.59-.52 0-1.04.2-1.43.59L10.3 9.45l-7.72 7.72c-.78.78-.78 2.05 0 2.83L4 21.41c.39.39.9.59 1.41.59.51 0 1.02-.2 1.41-.59l7.78-7.78 2.81-2.81c.8-.78.8-2.07 0-2.86zM5.41 20L4 18.59l7.72-7.72 1.47 1.35L5.41 20z\"/>\n",
              "  </svg>\n",
              "      </button>\n",
              "      \n",
              "  <style>\n",
              "    .colab-df-container {\n",
              "      display:flex;\n",
              "      flex-wrap:wrap;\n",
              "      gap: 12px;\n",
              "    }\n",
              "\n",
              "    .colab-df-convert {\n",
              "      background-color: #E8F0FE;\n",
              "      border: none;\n",
              "      border-radius: 50%;\n",
              "      cursor: pointer;\n",
              "      display: none;\n",
              "      fill: #1967D2;\n",
              "      height: 32px;\n",
              "      padding: 0 0 0 0;\n",
              "      width: 32px;\n",
              "    }\n",
              "\n",
              "    .colab-df-convert:hover {\n",
              "      background-color: #E2EBFA;\n",
              "      box-shadow: 0px 1px 2px rgba(60, 64, 67, 0.3), 0px 1px 3px 1px rgba(60, 64, 67, 0.15);\n",
              "      fill: #174EA6;\n",
              "    }\n",
              "\n",
              "    [theme=dark] .colab-df-convert {\n",
              "      background-color: #3B4455;\n",
              "      fill: #D2E3FC;\n",
              "    }\n",
              "\n",
              "    [theme=dark] .colab-df-convert:hover {\n",
              "      background-color: #434B5C;\n",
              "      box-shadow: 0px 1px 3px 1px rgba(0, 0, 0, 0.15);\n",
              "      filter: drop-shadow(0px 1px 2px rgba(0, 0, 0, 0.3));\n",
              "      fill: #FFFFFF;\n",
              "    }\n",
              "  </style>\n",
              "\n",
              "      <script>\n",
              "        const buttonEl =\n",
              "          document.querySelector('#df-82be0594-3490-41db-b477-75aa3b311473 button.colab-df-convert');\n",
              "        buttonEl.style.display =\n",
              "          google.colab.kernel.accessAllowed ? 'block' : 'none';\n",
              "\n",
              "        async function convertToInteractive(key) {\n",
              "          const element = document.querySelector('#df-82be0594-3490-41db-b477-75aa3b311473');\n",
              "          const dataTable =\n",
              "            await google.colab.kernel.invokeFunction('convertToInteractive',\n",
              "                                                     [key], {});\n",
              "          if (!dataTable) return;\n",
              "\n",
              "          const docLinkHtml = 'Like what you see? Visit the ' +\n",
              "            '<a target=\"_blank\" href=https://colab.research.google.com/notebooks/data_table.ipynb>data table notebook</a>'\n",
              "            + ' to learn more about interactive tables.';\n",
              "          element.innerHTML = '';\n",
              "          dataTable['output_type'] = 'display_data';\n",
              "          await google.colab.output.renderOutput(dataTable, element);\n",
              "          const docLink = document.createElement('div');\n",
              "          docLink.innerHTML = docLinkHtml;\n",
              "          element.appendChild(docLink);\n",
              "        }\n",
              "      </script>\n",
              "    </div>\n",
              "  </div>\n",
              "  "
            ]
          },
          "metadata": {},
          "execution_count": 3
        }
      ]
    },
    {
      "cell_type": "code",
      "source": [
        "# Simple Null check\n",
        "df.isnull().sum().max()"
      ],
      "metadata": {
        "colab": {
          "base_uri": "https://localhost:8080/"
        },
        "id": "myESotLgNQto",
        "outputId": "472e6ea3-2a9b-4512-9340-1d39651fd56c"
      },
      "execution_count": 4,
      "outputs": [
        {
          "output_type": "execute_result",
          "data": {
            "text/plain": [
              "0"
            ]
          },
          "metadata": {},
          "execution_count": 4
        }
      ]
    },
    {
      "cell_type": "markdown",
      "source": [
        "Checking Imbalance"
      ],
      "metadata": {
        "id": "zlvXJMtUNjH2"
      }
    },
    {
      "cell_type": "code",
      "source": [
        "# Check the class balance in the dataset\n",
        "class_counts = df['Class'].value_counts()\n",
        "no_frauds = class_counts[0]\n",
        "frauds = class_counts[1]\n",
        "total = len(df)\n",
        "no_frauds_pct = round(no_frauds / total * 100, 2)\n",
        "frauds_pct = round(frauds / total * 100, 2)\n",
        "\n",
        "# Print the class distribution\n",
        "print('Class distribution in the dataset:')\n",
        "print(f'No Frauds: {no_frauds} ({no_frauds_pct}%)')\n",
        "print(f'Frauds: {frauds} ({frauds_pct}%)')"
      ],
      "metadata": {
        "colab": {
          "base_uri": "https://localhost:8080/"
        },
        "id": "etlGBTqeNXDH",
        "outputId": "000c936d-3f25-46fc-f9ee-7689b79a0c2a"
      },
      "execution_count": 5,
      "outputs": [
        {
          "output_type": "stream",
          "name": "stdout",
          "text": [
            "Class distribution in the dataset:\n",
            "No Frauds: 284315 (99.83%)\n",
            "Frauds: 492 (0.17%)\n"
          ]
        }
      ]
    },
    {
      "cell_type": "markdown",
      "source": [
        "Considering that most of our data has already been scaled, it is advisable to scale the remaining columns (i.e. Amount and Time). To accomplish this, we will utilize the StandardScaler and RobustScaler classes from the Scikit-learn library.\n",
        "\n",
        "RobustScaler is recommended over StandardScaler because it is less sensitive to outliers."
      ],
      "metadata": {
        "id": "EU4A_Xc3R8E-"
      }
    },
    {
      "cell_type": "code",
      "source": [
        "rob_scaler = RobustScaler()\n",
        "df['scaled_amount'] = rob_scaler.fit_transform(df['Amount'].values.reshape(-1,1))\n",
        "df['scaled_time'] = rob_scaler.fit_transform(df['Time'].values.reshape(-1,1))\n",
        "df.drop(['Time','Amount'], axis=1, inplace=True)\n",
        "df.head(10)"
      ],
      "metadata": {
        "colab": {
          "base_uri": "https://localhost:8080/",
          "height": 456
        },
        "id": "HgMzTSr1RfIx",
        "outputId": "7ff1e511-69ee-4e70-e4fb-97c1db711476"
      },
      "execution_count": 6,
      "outputs": [
        {
          "output_type": "execute_result",
          "data": {
            "text/plain": [
              "         V1        V2        V3        V4        V5        V6        V7  \\\n",
              "0 -1.359807 -0.072781  2.536347  1.378155 -0.338321  0.462388  0.239599   \n",
              "1  1.191857  0.266151  0.166480  0.448154  0.060018 -0.082361 -0.078803   \n",
              "2 -1.358354 -1.340163  1.773209  0.379780 -0.503198  1.800499  0.791461   \n",
              "3 -0.966272 -0.185226  1.792993 -0.863291 -0.010309  1.247203  0.237609   \n",
              "4 -1.158233  0.877737  1.548718  0.403034 -0.407193  0.095921  0.592941   \n",
              "5 -0.425966  0.960523  1.141109 -0.168252  0.420987 -0.029728  0.476201   \n",
              "6  1.229658  0.141004  0.045371  1.202613  0.191881  0.272708 -0.005159   \n",
              "7 -0.644269  1.417964  1.074380 -0.492199  0.948934  0.428118  1.120631   \n",
              "8 -0.894286  0.286157 -0.113192 -0.271526  2.669599  3.721818  0.370145   \n",
              "9 -0.338262  1.119593  1.044367 -0.222187  0.499361 -0.246761  0.651583   \n",
              "\n",
              "         V8        V9       V10  ...       V22       V23       V24       V25  \\\n",
              "0  0.098698  0.363787  0.090794  ...  0.277838 -0.110474  0.066928  0.128539   \n",
              "1  0.085102 -0.255425 -0.166974  ... -0.638672  0.101288 -0.339846  0.167170   \n",
              "2  0.247676 -1.514654  0.207643  ...  0.771679  0.909412 -0.689281 -0.327642   \n",
              "3  0.377436 -1.387024 -0.054952  ...  0.005274 -0.190321 -1.175575  0.647376   \n",
              "4 -0.270533  0.817739  0.753074  ...  0.798278 -0.137458  0.141267 -0.206010   \n",
              "5  0.260314 -0.568671 -0.371407  ... -0.559825 -0.026398 -0.371427 -0.232794   \n",
              "6  0.081213  0.464960 -0.099254  ... -0.270710 -0.154104 -0.780055  0.750137   \n",
              "7 -3.807864  0.615375  1.249376  ... -1.015455  0.057504 -0.649709 -0.415267   \n",
              "8  0.851084 -0.392048 -0.410430  ... -0.268092 -0.204233  1.011592  0.373205   \n",
              "9  0.069539 -0.736727 -0.366846  ... -0.633753 -0.120794 -0.385050 -0.069733   \n",
              "\n",
              "        V26       V27       V28  Class  scaled_amount  scaled_time  \n",
              "0 -0.189115  0.133558 -0.021053      0       1.783274    -0.994983  \n",
              "1  0.125895 -0.008983  0.014724      0      -0.269825    -0.994983  \n",
              "2 -0.139097 -0.055353 -0.059752      0       4.983721    -0.994972  \n",
              "3 -0.221929  0.062723  0.061458      0       1.418291    -0.994972  \n",
              "4  0.502292  0.219422  0.215153      0       0.670579    -0.994960  \n",
              "5  0.105915  0.253844  0.081080      0      -0.256131    -0.994960  \n",
              "6 -0.257237  0.034507  0.005168      0      -0.237686    -0.994937  \n",
              "7 -0.051634 -1.206921 -1.085339      0       0.262698    -0.994901  \n",
              "8 -0.384157  0.011747  0.142404      0       0.994900    -0.994901  \n",
              "9  0.094199  0.246219  0.083076      0      -0.255991    -0.994878  \n",
              "\n",
              "[10 rows x 31 columns]"
            ],
            "text/html": [
              "\n",
              "  <div id=\"df-a8502567-ecde-4e04-a8e9-f4fa5cabb55f\">\n",
              "    <div class=\"colab-df-container\">\n",
              "      <div>\n",
              "<style scoped>\n",
              "    .dataframe tbody tr th:only-of-type {\n",
              "        vertical-align: middle;\n",
              "    }\n",
              "\n",
              "    .dataframe tbody tr th {\n",
              "        vertical-align: top;\n",
              "    }\n",
              "\n",
              "    .dataframe thead th {\n",
              "        text-align: right;\n",
              "    }\n",
              "</style>\n",
              "<table border=\"1\" class=\"dataframe\">\n",
              "  <thead>\n",
              "    <tr style=\"text-align: right;\">\n",
              "      <th></th>\n",
              "      <th>V1</th>\n",
              "      <th>V2</th>\n",
              "      <th>V3</th>\n",
              "      <th>V4</th>\n",
              "      <th>V5</th>\n",
              "      <th>V6</th>\n",
              "      <th>V7</th>\n",
              "      <th>V8</th>\n",
              "      <th>V9</th>\n",
              "      <th>V10</th>\n",
              "      <th>...</th>\n",
              "      <th>V22</th>\n",
              "      <th>V23</th>\n",
              "      <th>V24</th>\n",
              "      <th>V25</th>\n",
              "      <th>V26</th>\n",
              "      <th>V27</th>\n",
              "      <th>V28</th>\n",
              "      <th>Class</th>\n",
              "      <th>scaled_amount</th>\n",
              "      <th>scaled_time</th>\n",
              "    </tr>\n",
              "  </thead>\n",
              "  <tbody>\n",
              "    <tr>\n",
              "      <th>0</th>\n",
              "      <td>-1.359807</td>\n",
              "      <td>-0.072781</td>\n",
              "      <td>2.536347</td>\n",
              "      <td>1.378155</td>\n",
              "      <td>-0.338321</td>\n",
              "      <td>0.462388</td>\n",
              "      <td>0.239599</td>\n",
              "      <td>0.098698</td>\n",
              "      <td>0.363787</td>\n",
              "      <td>0.090794</td>\n",
              "      <td>...</td>\n",
              "      <td>0.277838</td>\n",
              "      <td>-0.110474</td>\n",
              "      <td>0.066928</td>\n",
              "      <td>0.128539</td>\n",
              "      <td>-0.189115</td>\n",
              "      <td>0.133558</td>\n",
              "      <td>-0.021053</td>\n",
              "      <td>0</td>\n",
              "      <td>1.783274</td>\n",
              "      <td>-0.994983</td>\n",
              "    </tr>\n",
              "    <tr>\n",
              "      <th>1</th>\n",
              "      <td>1.191857</td>\n",
              "      <td>0.266151</td>\n",
              "      <td>0.166480</td>\n",
              "      <td>0.448154</td>\n",
              "      <td>0.060018</td>\n",
              "      <td>-0.082361</td>\n",
              "      <td>-0.078803</td>\n",
              "      <td>0.085102</td>\n",
              "      <td>-0.255425</td>\n",
              "      <td>-0.166974</td>\n",
              "      <td>...</td>\n",
              "      <td>-0.638672</td>\n",
              "      <td>0.101288</td>\n",
              "      <td>-0.339846</td>\n",
              "      <td>0.167170</td>\n",
              "      <td>0.125895</td>\n",
              "      <td>-0.008983</td>\n",
              "      <td>0.014724</td>\n",
              "      <td>0</td>\n",
              "      <td>-0.269825</td>\n",
              "      <td>-0.994983</td>\n",
              "    </tr>\n",
              "    <tr>\n",
              "      <th>2</th>\n",
              "      <td>-1.358354</td>\n",
              "      <td>-1.340163</td>\n",
              "      <td>1.773209</td>\n",
              "      <td>0.379780</td>\n",
              "      <td>-0.503198</td>\n",
              "      <td>1.800499</td>\n",
              "      <td>0.791461</td>\n",
              "      <td>0.247676</td>\n",
              "      <td>-1.514654</td>\n",
              "      <td>0.207643</td>\n",
              "      <td>...</td>\n",
              "      <td>0.771679</td>\n",
              "      <td>0.909412</td>\n",
              "      <td>-0.689281</td>\n",
              "      <td>-0.327642</td>\n",
              "      <td>-0.139097</td>\n",
              "      <td>-0.055353</td>\n",
              "      <td>-0.059752</td>\n",
              "      <td>0</td>\n",
              "      <td>4.983721</td>\n",
              "      <td>-0.994972</td>\n",
              "    </tr>\n",
              "    <tr>\n",
              "      <th>3</th>\n",
              "      <td>-0.966272</td>\n",
              "      <td>-0.185226</td>\n",
              "      <td>1.792993</td>\n",
              "      <td>-0.863291</td>\n",
              "      <td>-0.010309</td>\n",
              "      <td>1.247203</td>\n",
              "      <td>0.237609</td>\n",
              "      <td>0.377436</td>\n",
              "      <td>-1.387024</td>\n",
              "      <td>-0.054952</td>\n",
              "      <td>...</td>\n",
              "      <td>0.005274</td>\n",
              "      <td>-0.190321</td>\n",
              "      <td>-1.175575</td>\n",
              "      <td>0.647376</td>\n",
              "      <td>-0.221929</td>\n",
              "      <td>0.062723</td>\n",
              "      <td>0.061458</td>\n",
              "      <td>0</td>\n",
              "      <td>1.418291</td>\n",
              "      <td>-0.994972</td>\n",
              "    </tr>\n",
              "    <tr>\n",
              "      <th>4</th>\n",
              "      <td>-1.158233</td>\n",
              "      <td>0.877737</td>\n",
              "      <td>1.548718</td>\n",
              "      <td>0.403034</td>\n",
              "      <td>-0.407193</td>\n",
              "      <td>0.095921</td>\n",
              "      <td>0.592941</td>\n",
              "      <td>-0.270533</td>\n",
              "      <td>0.817739</td>\n",
              "      <td>0.753074</td>\n",
              "      <td>...</td>\n",
              "      <td>0.798278</td>\n",
              "      <td>-0.137458</td>\n",
              "      <td>0.141267</td>\n",
              "      <td>-0.206010</td>\n",
              "      <td>0.502292</td>\n",
              "      <td>0.219422</td>\n",
              "      <td>0.215153</td>\n",
              "      <td>0</td>\n",
              "      <td>0.670579</td>\n",
              "      <td>-0.994960</td>\n",
              "    </tr>\n",
              "    <tr>\n",
              "      <th>5</th>\n",
              "      <td>-0.425966</td>\n",
              "      <td>0.960523</td>\n",
              "      <td>1.141109</td>\n",
              "      <td>-0.168252</td>\n",
              "      <td>0.420987</td>\n",
              "      <td>-0.029728</td>\n",
              "      <td>0.476201</td>\n",
              "      <td>0.260314</td>\n",
              "      <td>-0.568671</td>\n",
              "      <td>-0.371407</td>\n",
              "      <td>...</td>\n",
              "      <td>-0.559825</td>\n",
              "      <td>-0.026398</td>\n",
              "      <td>-0.371427</td>\n",
              "      <td>-0.232794</td>\n",
              "      <td>0.105915</td>\n",
              "      <td>0.253844</td>\n",
              "      <td>0.081080</td>\n",
              "      <td>0</td>\n",
              "      <td>-0.256131</td>\n",
              "      <td>-0.994960</td>\n",
              "    </tr>\n",
              "    <tr>\n",
              "      <th>6</th>\n",
              "      <td>1.229658</td>\n",
              "      <td>0.141004</td>\n",
              "      <td>0.045371</td>\n",
              "      <td>1.202613</td>\n",
              "      <td>0.191881</td>\n",
              "      <td>0.272708</td>\n",
              "      <td>-0.005159</td>\n",
              "      <td>0.081213</td>\n",
              "      <td>0.464960</td>\n",
              "      <td>-0.099254</td>\n",
              "      <td>...</td>\n",
              "      <td>-0.270710</td>\n",
              "      <td>-0.154104</td>\n",
              "      <td>-0.780055</td>\n",
              "      <td>0.750137</td>\n",
              "      <td>-0.257237</td>\n",
              "      <td>0.034507</td>\n",
              "      <td>0.005168</td>\n",
              "      <td>0</td>\n",
              "      <td>-0.237686</td>\n",
              "      <td>-0.994937</td>\n",
              "    </tr>\n",
              "    <tr>\n",
              "      <th>7</th>\n",
              "      <td>-0.644269</td>\n",
              "      <td>1.417964</td>\n",
              "      <td>1.074380</td>\n",
              "      <td>-0.492199</td>\n",
              "      <td>0.948934</td>\n",
              "      <td>0.428118</td>\n",
              "      <td>1.120631</td>\n",
              "      <td>-3.807864</td>\n",
              "      <td>0.615375</td>\n",
              "      <td>1.249376</td>\n",
              "      <td>...</td>\n",
              "      <td>-1.015455</td>\n",
              "      <td>0.057504</td>\n",
              "      <td>-0.649709</td>\n",
              "      <td>-0.415267</td>\n",
              "      <td>-0.051634</td>\n",
              "      <td>-1.206921</td>\n",
              "      <td>-1.085339</td>\n",
              "      <td>0</td>\n",
              "      <td>0.262698</td>\n",
              "      <td>-0.994901</td>\n",
              "    </tr>\n",
              "    <tr>\n",
              "      <th>8</th>\n",
              "      <td>-0.894286</td>\n",
              "      <td>0.286157</td>\n",
              "      <td>-0.113192</td>\n",
              "      <td>-0.271526</td>\n",
              "      <td>2.669599</td>\n",
              "      <td>3.721818</td>\n",
              "      <td>0.370145</td>\n",
              "      <td>0.851084</td>\n",
              "      <td>-0.392048</td>\n",
              "      <td>-0.410430</td>\n",
              "      <td>...</td>\n",
              "      <td>-0.268092</td>\n",
              "      <td>-0.204233</td>\n",
              "      <td>1.011592</td>\n",
              "      <td>0.373205</td>\n",
              "      <td>-0.384157</td>\n",
              "      <td>0.011747</td>\n",
              "      <td>0.142404</td>\n",
              "      <td>0</td>\n",
              "      <td>0.994900</td>\n",
              "      <td>-0.994901</td>\n",
              "    </tr>\n",
              "    <tr>\n",
              "      <th>9</th>\n",
              "      <td>-0.338262</td>\n",
              "      <td>1.119593</td>\n",
              "      <td>1.044367</td>\n",
              "      <td>-0.222187</td>\n",
              "      <td>0.499361</td>\n",
              "      <td>-0.246761</td>\n",
              "      <td>0.651583</td>\n",
              "      <td>0.069539</td>\n",
              "      <td>-0.736727</td>\n",
              "      <td>-0.366846</td>\n",
              "      <td>...</td>\n",
              "      <td>-0.633753</td>\n",
              "      <td>-0.120794</td>\n",
              "      <td>-0.385050</td>\n",
              "      <td>-0.069733</td>\n",
              "      <td>0.094199</td>\n",
              "      <td>0.246219</td>\n",
              "      <td>0.083076</td>\n",
              "      <td>0</td>\n",
              "      <td>-0.255991</td>\n",
              "      <td>-0.994878</td>\n",
              "    </tr>\n",
              "  </tbody>\n",
              "</table>\n",
              "<p>10 rows × 31 columns</p>\n",
              "</div>\n",
              "      <button class=\"colab-df-convert\" onclick=\"convertToInteractive('df-a8502567-ecde-4e04-a8e9-f4fa5cabb55f')\"\n",
              "              title=\"Convert this dataframe to an interactive table.\"\n",
              "              style=\"display:none;\">\n",
              "        \n",
              "  <svg xmlns=\"http://www.w3.org/2000/svg\" height=\"24px\"viewBox=\"0 0 24 24\"\n",
              "       width=\"24px\">\n",
              "    <path d=\"M0 0h24v24H0V0z\" fill=\"none\"/>\n",
              "    <path d=\"M18.56 5.44l.94 2.06.94-2.06 2.06-.94-2.06-.94-.94-2.06-.94 2.06-2.06.94zm-11 1L8.5 8.5l.94-2.06 2.06-.94-2.06-.94L8.5 2.5l-.94 2.06-2.06.94zm10 10l.94 2.06.94-2.06 2.06-.94-2.06-.94-.94-2.06-.94 2.06-2.06.94z\"/><path d=\"M17.41 7.96l-1.37-1.37c-.4-.4-.92-.59-1.43-.59-.52 0-1.04.2-1.43.59L10.3 9.45l-7.72 7.72c-.78.78-.78 2.05 0 2.83L4 21.41c.39.39.9.59 1.41.59.51 0 1.02-.2 1.41-.59l7.78-7.78 2.81-2.81c.8-.78.8-2.07 0-2.86zM5.41 20L4 18.59l7.72-7.72 1.47 1.35L5.41 20z\"/>\n",
              "  </svg>\n",
              "      </button>\n",
              "      \n",
              "  <style>\n",
              "    .colab-df-container {\n",
              "      display:flex;\n",
              "      flex-wrap:wrap;\n",
              "      gap: 12px;\n",
              "    }\n",
              "\n",
              "    .colab-df-convert {\n",
              "      background-color: #E8F0FE;\n",
              "      border: none;\n",
              "      border-radius: 50%;\n",
              "      cursor: pointer;\n",
              "      display: none;\n",
              "      fill: #1967D2;\n",
              "      height: 32px;\n",
              "      padding: 0 0 0 0;\n",
              "      width: 32px;\n",
              "    }\n",
              "\n",
              "    .colab-df-convert:hover {\n",
              "      background-color: #E2EBFA;\n",
              "      box-shadow: 0px 1px 2px rgba(60, 64, 67, 0.3), 0px 1px 3px 1px rgba(60, 64, 67, 0.15);\n",
              "      fill: #174EA6;\n",
              "    }\n",
              "\n",
              "    [theme=dark] .colab-df-convert {\n",
              "      background-color: #3B4455;\n",
              "      fill: #D2E3FC;\n",
              "    }\n",
              "\n",
              "    [theme=dark] .colab-df-convert:hover {\n",
              "      background-color: #434B5C;\n",
              "      box-shadow: 0px 1px 3px 1px rgba(0, 0, 0, 0.15);\n",
              "      filter: drop-shadow(0px 1px 2px rgba(0, 0, 0, 0.3));\n",
              "      fill: #FFFFFF;\n",
              "    }\n",
              "  </style>\n",
              "\n",
              "      <script>\n",
              "        const buttonEl =\n",
              "          document.querySelector('#df-a8502567-ecde-4e04-a8e9-f4fa5cabb55f button.colab-df-convert');\n",
              "        buttonEl.style.display =\n",
              "          google.colab.kernel.accessAllowed ? 'block' : 'none';\n",
              "\n",
              "        async function convertToInteractive(key) {\n",
              "          const element = document.querySelector('#df-a8502567-ecde-4e04-a8e9-f4fa5cabb55f');\n",
              "          const dataTable =\n",
              "            await google.colab.kernel.invokeFunction('convertToInteractive',\n",
              "                                                     [key], {});\n",
              "          if (!dataTable) return;\n",
              "\n",
              "          const docLinkHtml = 'Like what you see? Visit the ' +\n",
              "            '<a target=\"_blank\" href=https://colab.research.google.com/notebooks/data_table.ipynb>data table notebook</a>'\n",
              "            + ' to learn more about interactive tables.';\n",
              "          element.innerHTML = '';\n",
              "          dataTable['output_type'] = 'display_data';\n",
              "          await google.colab.output.renderOutput(dataTable, element);\n",
              "          const docLink = document.createElement('div');\n",
              "          docLink.innerHTML = docLinkHtml;\n",
              "          element.appendChild(docLink);\n",
              "        }\n",
              "      </script>\n",
              "    </div>\n",
              "  </div>\n",
              "  "
            ]
          },
          "metadata": {},
          "execution_count": 6
        }
      ]
    },
    {
      "cell_type": "markdown",
      "source": [
        "This code splits the data into features and target variable, uses StratifiedKFold to generate training and testing sets, and then checks the distribution of the target variable in each set. Finally, it prints the percentage of non-fraudulent and fraudulent transactions in the dataset."
      ],
      "metadata": {
        "id": "_R2wHa8-Tcmu"
      }
    },
    {
      "cell_type": "code",
      "source": [
        "# Split data into features and target variable\n",
        "X = df.drop('Class', axis=1)\n",
        "y = df['Class']\n",
        "\n",
        "# Use StratifiedKFold to split data into five folds\n",
        "sss = StratifiedKFold(n_splits=5, random_state=None, shuffle=False)\n",
        "\n",
        "# Iterate over each fold and generate training and testing sets\n",
        "for train_index, test_index in sss.split(X, y):\n",
        "    original_Xtrain, original_Xtest = X.iloc[train_index], X.iloc[test_index]\n",
        "    original_ytrain, original_ytest = y.iloc[train_index], y.iloc[test_index]\n",
        "\n",
        "# Convert training and testing sets to arrays and check distribution of target variable\n",
        "original_Xtrain = original_Xtrain.values\n",
        "original_Xtest = original_Xtest.values\n",
        "original_ytrain = original_ytrain.values\n",
        "original_ytest = original_ytest.values\n",
        "train_counts_label = np.unique(original_ytrain, return_counts=True)[1]\n",
        "test_counts_label = np.unique(original_ytest, return_counts=True)[1]\n",
        "\n",
        "# Print percentage of non-fraudulent and fraudulent transactions in dataset\n",
        "print('No Frauds', round(df['Class'].value_counts()[0]/len(df) * 100,2), '% of the dataset')\n",
        "print('Frauds', round(df['Class'].value_counts()[1]/len(df) * 100,2), '% of the dataset')\n",
        "\n",
        "# Print distribution of target variable in training and testing sets\n",
        "print('-' * 100)\n",
        "print('Label Distributions: \\n')\n",
        "print(train_counts_label/ len(original_ytrain))\n",
        "print(test_counts_label/ len(original_ytest))\n"
      ],
      "metadata": {
        "colab": {
          "base_uri": "https://localhost:8080/"
        },
        "id": "iIWQDf0qTB9J",
        "outputId": "d27ae960-1bff-493f-99be-7b8b5f47f9c1"
      },
      "execution_count": 7,
      "outputs": [
        {
          "output_type": "stream",
          "name": "stdout",
          "text": [
            "No Frauds 99.83 % of the dataset\n",
            "Frauds 0.17 % of the dataset\n",
            "----------------------------------------------------------------------------------------------------\n",
            "Label Distributions: \n",
            "\n",
            "[0.99827076 0.00172924]\n",
            "[0.99827952 0.00172048]\n"
          ]
        }
      ]
    },
    {
      "cell_type": "markdown",
      "source": [
        "Function for plotting confusion matrix"
      ],
      "metadata": {
        "id": "vneAny_H1ku0"
      }
    },
    {
      "cell_type": "code",
      "source": [
        "def plot_confusion_matrix(cm, classes,\n",
        "                          normalize=False,\n",
        "                          title='Confusion matrix',\n",
        "                          cmap=plt.cm.Blues,\n",
        "                          ax=None):\n",
        "    \"\"\"\n",
        "    This function prints and plots the confusion matrix.\n",
        "    Normalization can be applied by setting `normalize=True`.\n",
        "    \"\"\"\n",
        "    if normalize:\n",
        "        cm = cm.astype('float') / cm.sum(axis=1)[:, np.newaxis]\n",
        "        print(\"Normalized confusion matrix\")\n",
        "    else:\n",
        "        print('Confusion matrix, without normalization')\n",
        "\n",
        "    print(cm)\n",
        "\n",
        "    if ax is None:\n",
        "        fig, ax = plt.subplots()\n",
        "    im = ax.imshow(cm, interpolation='nearest', cmap=cmap)\n",
        "    ax.set_title(title)\n",
        "\n",
        "    tick_marks = np.arange(len(classes))\n",
        "    ax.set_xticks(tick_marks)\n",
        "    ax.set_xticklabels(classes, rotation=45)\n",
        "    ax.set_yticks(tick_marks)\n",
        "    ax.set_yticklabels(classes)\n",
        "    ax.grid(False)\n",
        "\n",
        "\n",
        "    fmt = '.2f' if normalize else 'd'\n",
        "    thresh = cm.max() / 2.\n",
        "    for i, j in itertools.product(range(cm.shape[0]), range(cm.shape[1])):\n",
        "        ax.text(j, i, format(cm[i, j], fmt),\n",
        "                 horizontalalignment=\"center\",\n",
        "                 color=\"white\" if cm[i, j] > thresh else \"black\")\n",
        "\n",
        "    ax.set_ylabel('True label')\n",
        "    ax.set_xlabel('Predicted label')\n"
      ],
      "metadata": {
        "id": "1ZKQ1z9C1oZL"
      },
      "execution_count": 8,
      "outputs": []
    },
    {
      "cell_type": "markdown",
      "source": [
        "# **Undersampling**"
      ],
      "metadata": {
        "id": "OmyC_Xy5U2md"
      }
    },
    {
      "cell_type": "code",
      "source": [
        "# Apply undersampling to balance the dataset\n",
        "undersampler = RandomUnderSampler(random_state=4521)\n",
        "X_train_und, y_train_und = undersampler.fit_resample(original_Xtrain, original_ytrain)"
      ],
      "metadata": {
        "id": "yPrb-D4dU_ft"
      },
      "execution_count": null,
      "outputs": []
    },
    {
      "cell_type": "markdown",
      "source": [
        "Logistic Regression"
      ],
      "metadata": {
        "id": "76Mf_v14xGPZ"
      }
    },
    {
      "cell_type": "code",
      "source": [
        "# Create a logistic regression model and fit it on the training data\n",
        "lr_model = LogisticRegression()\n",
        "lr_model.fit(X_train_und, y_train_und)\n",
        "\n",
        "# Predict the target variable on the testing data\n",
        "y_pred_lr_und = lr_model.predict(original_Xtest)\n",
        "\n",
        "# Print the classification report to evaluate the model performance\n",
        "print(classification_report(original_ytest, y_pred_lr_und))"
      ],
      "metadata": {
        "id": "pI_gEqMGw3mJ",
        "outputId": "f93d3748-3eba-4185-f9b7-1dab5183659f",
        "colab": {
          "base_uri": "https://localhost:8080/"
        }
      },
      "execution_count": null,
      "outputs": [
        {
          "output_type": "stream",
          "name": "stdout",
          "text": [
            "              precision    recall  f1-score   support\n",
            "\n",
            "           0       1.00      0.98      0.99     56863\n",
            "           1       0.08      0.88      0.15        98\n",
            "\n",
            "    accuracy                           0.98     56961\n",
            "   macro avg       0.54      0.93      0.57     56961\n",
            "weighted avg       1.00      0.98      0.99     56961\n",
            "\n"
          ]
        }
      ]
    },
    {
      "cell_type": "code",
      "source": [
        "# Create a confusion matrix\n",
        "cm_und = confusion_matrix(original_ytest, y_pred_lr_und)\n",
        "\n",
        "labels = ['No Fraud', 'Fraud']\n",
        "\n",
        "# Plot the confusion matrix\n",
        "plot_confusion_matrix(cm_und,labels,title=\"Confusion Matrix\",cmap=plt.cm.Greens)"
      ],
      "metadata": {
        "id": "7hFO7RbFy-ZC",
        "outputId": "d92afa1f-80ea-421c-d1cd-a7232e0de743",
        "colab": {
          "base_uri": "https://localhost:8080/",
          "height": 566
        }
      },
      "execution_count": null,
      "outputs": [
        {
          "output_type": "stream",
          "name": "stdout",
          "text": [
            "Confusion matrix, without normalization\n",
            "[[55884   979]\n",
            " [   12    86]]\n"
          ]
        },
        {
          "output_type": "display_data",
          "data": {
            "text/plain": [
              "<Figure size 640x480 with 1 Axes>"
            ],
            "image/png": "[encoded data removed]"
          },
          "metadata": {}
        }
      ]
    },
    {
      "cell_type": "markdown",
      "source": [
        "# **Oversampling**"
      ],
      "metadata": {
        "id": "otyd_9pqVA95"
      }
    },
    {
      "cell_type": "markdown",
      "source": [
        "by SMOTE"
      ],
      "metadata": {
        "id": "u61oIyfW3rkw"
      }
    },
    {
      "cell_type": "markdown",
      "source": [
        "Synthetic Minority Over-sampling Technique (SMOTE) for oversampling in Python. SMOTE is a popular oversampling technique that generates synthetic samples for the minority class by interpolating between neighboring instances."
      ],
      "metadata": {
        "id": "roLuRhzW3tYe"
      }
    },
    {
      "cell_type": "code",
      "source": [
        "# Instantiate the SMOTE oversampler\n",
        "oversampler = SMOTE(random_state=42)\n",
        "\n",
        "# Fit and transform the data using the oversampler\n",
        "X_train_over, y_train_over = oversampler.fit_resample(original_Xtrain, original_ytrain)"
      ],
      "metadata": {
        "id": "RPsYK1vkVDz1"
      },
      "execution_count": 11,
      "outputs": []
    },
    {
      "cell_type": "markdown",
      "source": [
        "Logistic Regression"
      ],
      "metadata": {
        "id": "WPIKbTYo4W1d"
      }
    },
    {
      "cell_type": "code",
      "source": [
        "# Create a logistic regression model and fit it on the training data\n",
        "lr_model = LogisticRegression()\n",
        "lr_model.fit(X_train_over, y_train_over)\n",
        "\n",
        "# Predict the target variable on the testing data\n",
        "y_pred_lr_over = lr_model.predict(original_Xtest)\n",
        "\n",
        "# Print the classification report to evaluate the model performance\n",
        "print(classification_report(original_ytest, y_pred_lr_over))"
      ],
      "metadata": {
        "id": "urwwY3mQ4Gm0",
        "outputId": "605e48a7-e7e5-4477-bfc3-dea43254b67e",
        "colab": {
          "base_uri": "https://localhost:8080/"
        }
      },
      "execution_count": null,
      "outputs": [
        {
          "output_type": "stream",
          "name": "stdout",
          "text": [
            "              precision    recall  f1-score   support\n",
            "\n",
            "           0       1.00      0.99      0.99     56863\n",
            "           1       0.12      0.87      0.20        98\n",
            "\n",
            "    accuracy                           0.99     56961\n",
            "   macro avg       0.56      0.93      0.60     56961\n",
            "weighted avg       1.00      0.99      0.99     56961\n",
            "\n"
          ]
        }
      ]
    },
    {
      "cell_type": "code",
      "source": [
        "# Create a confusion matrix\n",
        "cm_over = confusion_matrix(original_ytest, y_pred_lr_over)\n",
        "\n",
        "labels = ['No Fraud', 'Fraud']\n",
        "# Plot the confusion matrix\n",
        "plot_confusion_matrix(cm_over,labels,title=\"Confusion Matrix\",cmap=plt.cm.Greens)"
      ],
      "metadata": {
        "id": "whaQD_EK4ZdU",
        "outputId": "bef1d379-fc8d-452c-80e7-01312c851f90",
        "colab": {
          "base_uri": "https://localhost:8080/",
          "height": 566
        }
      },
      "execution_count": null,
      "outputs": [
        {
          "output_type": "stream",
          "name": "stdout",
          "text": [
            "Confusion matrix, without normalization\n",
            "[[56214   649]\n",
            " [   13    85]]\n"
          ]
        },
        {
          "output_type": "display_data",
          "data": {
            "text/plain": [
              "<Figure size 640x480 with 1 Axes>"
            ],
            "image/png": "[encoded data removed]"
          },
          "metadata": {}
        }
      ]
    },
    {
      "cell_type": "markdown",
      "source": [
        "# **Neural Networks**"
      ],
      "metadata": {
        "id": "P5gzJM0J44ir"
      }
    },
    {
      "cell_type": "markdown",
      "source": [
        "Undersampling"
      ],
      "metadata": {
        "id": "iZOYc_4-8NYe"
      }
    },
    {
      "cell_type": "code",
      "source": [
        "from tensorflow.keras.layers import Dropout\n",
        "\n",
        "# Define the neural network model with dropout layers\n",
        "model_und = Sequential()\n",
        "model_und.add(Dense(64, activation='relu', input_dim=X_train_over.shape[1]))\n",
        "model_und.add(Dropout(0.2))\n",
        "model_und.add(Dense(64, activation='relu'))\n",
        "model_und.add(Dropout(0.2))\n",
        "model_und.add(Dense(1, activation='sigmoid'))\n",
        "\n",
        "# Compile the model with binary crossentropy and Adam optimizer\n",
        "model_und.compile(optimizer='adam', loss='binary_crossentropy', metrics=['accuracy'])\n",
        "\n",
        "# Train the model with 10 epochs, batch size of 4, and validation split of 0.1\n",
        "history = model_und.fit(X_train_und, y_train_und, epochs=10, batch_size=4, validation_split=0.1)\n",
        "\n",
        "# Plot the training and validation accuracy over time\n",
        "plt.plot(history.history['accuracy'], label='Training Accuracy')\n",
        "plt.plot(history.history['val_accuracy'], label='Validation Accuracy')\n",
        "plt.xlabel('Epoch')\n",
        "plt.ylabel('Accuracy')\n",
        "plt.legend()\n",
        "plt.show()\n"
      ],
      "metadata": {
        "id": "Pi6wfQN08Q0S",
        "outputId": "02144a01-ebf3-4963-be09-2884f5eb43d4",
        "colab": {
          "base_uri": "https://localhost:8080/",
          "height": 826
        }
      },
      "execution_count": null,
      "outputs": [
        {
          "output_type": "stream",
          "name": "stdout",
          "text": [
            "Epoch 1/10\n",
            "178/178 [==============================] - 2s 4ms/step - loss: 0.3874 - accuracy: 0.8618 - val_loss: 0.5123 - val_accuracy: 0.8101\n",
            "Epoch 2/10\n",
            "178/178 [==============================] - 0s 2ms/step - loss: 0.2036 - accuracy: 0.9252 - val_loss: 0.5516 - val_accuracy: 0.8354\n",
            "Epoch 3/10\n",
            "178/178 [==============================] - 0s 2ms/step - loss: 0.1532 - accuracy: 0.9478 - val_loss: 0.3915 - val_accuracy: 0.8861\n",
            "Epoch 4/10\n",
            "178/178 [==============================] - 0s 2ms/step - loss: 0.1352 - accuracy: 0.9535 - val_loss: 0.6293 - val_accuracy: 0.8481\n",
            "Epoch 5/10\n",
            "178/178 [==============================] - 0s 2ms/step - loss: 0.1234 - accuracy: 0.9520 - val_loss: 0.7093 - val_accuracy: 0.8608\n",
            "Epoch 6/10\n",
            "178/178 [==============================] - 0s 2ms/step - loss: 0.1259 - accuracy: 0.9577 - val_loss: 0.5805 - val_accuracy: 0.8861\n",
            "Epoch 7/10\n",
            "178/178 [==============================] - 0s 2ms/step - loss: 0.1094 - accuracy: 0.9633 - val_loss: 0.7481 - val_accuracy: 0.8608\n",
            "Epoch 8/10\n",
            "178/178 [==============================] - 0s 2ms/step - loss: 0.1034 - accuracy: 0.9605 - val_loss: 1.3637 - val_accuracy: 0.8354\n",
            "Epoch 9/10\n",
            "178/178 [==============================] - 0s 2ms/step - loss: 0.1137 - accuracy: 0.9591 - val_loss: 1.0901 - val_accuracy: 0.8481\n",
            "Epoch 10/10\n",
            "178/178 [==============================] - 0s 2ms/step - loss: 0.1161 - accuracy: 0.9563 - val_loss: 0.8401 - val_accuracy: 0.8608\n"
          ]
        },
        {
          "output_type": "display_data",
          "data": {
            "text/plain": [
              "<Figure size 640x480 with 1 Axes>"
            ],
            "image/png": "[encoded data removed]"
          },
          "metadata": {}
        }
      ]
    },
    {
      "cell_type": "code",
      "source": [
        "# Predict the labels of the test data using the trained model\n",
        "y_pred = model_und.predict(original_Xtest)\n",
        "y_pred_nn_und = (y_pred > 0.5).astype('int')\n",
        "\n",
        "labels = ['No Fraud', 'Fraud']\n",
        "\n",
        "# Calculate the confusion matrix\n",
        "cm_und_nn = confusion_matrix(original_ytest, y_pred_nn_und)\n",
        "\n",
        "# Plot the confusion matrix\n",
        "plot_confusion_matrix(cm_und_nn,labels,title=\"Confusion Matrix\",cmap=plt.cm.Greens)"
      ],
      "metadata": {
        "id": "9vTXiC1m8euo",
        "outputId": "9d0255cf-40d4-4dad-cd3e-875b36906b66",
        "colab": {
          "base_uri": "https://localhost:8080/",
          "height": 583
        }
      },
      "execution_count": null,
      "outputs": [
        {
          "output_type": "stream",
          "name": "stdout",
          "text": [
            "1781/1781 [==============================] - 3s 1ms/step\n",
            "Confusion matrix, without normalization\n",
            "[[56544   319]\n",
            " [   16    82]]\n"
          ]
        },
        {
          "output_type": "display_data",
          "data": {
            "text/plain": [
              "<Figure size 640x480 with 1 Axes>"
            ],
            "image/png": "[encoded data removed]"
          },
          "metadata": {}
        }
      ]
    },
    {
      "cell_type": "markdown",
      "source": [
        "Oversampling"
      ],
      "metadata": {
        "id": "egYrUXXN8Lnm"
      }
    },
    {
      "cell_type": "code",
      "source": [
        "# Define the neural network model\n",
        "model_over = Sequential()\n",
        "model_over.add(Dense(64, activation='relu', input_dim=X_train_over.shape[1]))\n",
        "model_over.add(Dense(32, activation='relu'))\n",
        "model_over.add(Dense(1, activation='sigmoid'))\n",
        "\n",
        "# Compile the model\n",
        "model_over.compile(optimizer='adam', loss='binary_crossentropy', metrics=['accuracy'])\n",
        "\n",
        "# Train the model\n",
        "history = model_over.fit(X_train_over, y_train_over, epochs=10, batch_size=128, validation_split=0.2)\n",
        "\n",
        "# Plot the training and validation accuracy over time\n",
        "plt.plot(history.history['accuracy'], label='Training Accuracy')\n",
        "plt.plot(history.history['val_accuracy'], label='Validation Accuracy')\n",
        "plt.xlabel('Epoch')\n",
        "plt.ylabel('Accuracy')\n",
        "plt.legend()\n",
        "plt.show()"
      ],
      "metadata": {
        "id": "SsGhdQRd49Py",
        "outputId": "6ffcf2c8-2777-4086-c38e-ee27027ab22b",
        "colab": {
          "base_uri": "https://localhost:8080/",
          "height": 826
        }
      },
      "execution_count": null,
      "outputs": [
        {
          "output_type": "stream",
          "name": "stdout",
          "text": [
            "Epoch 1/10\n",
            "2844/2844 [==============================] - 8s 3ms/step - loss: 0.0318 - accuracy: 0.9900 - val_loss: 0.0038 - val_accuracy: 1.0000\n",
            "Epoch 2/10\n",
            "2844/2844 [==============================] - 8s 3ms/step - loss: 0.0060 - accuracy: 0.9989 - val_loss: 0.0018 - val_accuracy: 0.9999\n",
            "Epoch 3/10\n",
            "2844/2844 [==============================] - 7s 3ms/step - loss: 0.0036 - accuracy: 0.9993 - val_loss: 0.0019 - val_accuracy: 1.0000\n",
            "Epoch 4/10\n",
            "2844/2844 [==============================] - 7s 2ms/step - loss: 0.0028 - accuracy: 0.9994 - val_loss: 0.0107 - val_accuracy: 0.9983\n",
            "Epoch 5/10\n",
            "2844/2844 [==============================] - 7s 3ms/step - loss: 0.0024 - accuracy: 0.9995 - val_loss: 5.8093e-04 - val_accuracy: 1.0000\n",
            "Epoch 6/10\n",
            "2844/2844 [==============================] - 7s 2ms/step - loss: 0.0021 - accuracy: 0.9996 - val_loss: 7.1287e-04 - val_accuracy: 1.0000\n",
            "Epoch 7/10\n",
            "2844/2844 [==============================] - 9s 3ms/step - loss: 0.0018 - accuracy: 0.9996 - val_loss: 5.5974e-04 - val_accuracy: 1.0000\n",
            "Epoch 8/10\n",
            "2844/2844 [==============================] - 6s 2ms/step - loss: 0.0015 - accuracy: 0.9997 - val_loss: 0.0015 - val_accuracy: 1.0000\n",
            "Epoch 9/10\n",
            "2844/2844 [==============================] - 7s 3ms/step - loss: 0.0014 - accuracy: 0.9997 - val_loss: 6.7784e-04 - val_accuracy: 0.9998\n",
            "Epoch 10/10\n",
            "2844/2844 [==============================] - 8s 3ms/step - loss: 0.0015 - accuracy: 0.9996 - val_loss: 1.9337e-04 - val_accuracy: 1.0000\n"
          ]
        },
        {
          "output_type": "display_data",
          "data": {
            "text/plain": [
              "<Figure size 640x480 with 1 Axes>"
            ],
            "image/png": "[encoded data removed]"
          },
          "metadata": {}
        }
      ]
    },
    {
      "cell_type": "code",
      "source": [
        "# Predict the labels of the test data using the trained model\n",
        "y_pred = model_over.predict(original_Xtest)\n",
        "y_pred_nn_over = (y_pred > 0.5).astype('int')\n",
        "\n",
        "labels = ['No Fraud', 'Fraud']\n",
        "\n",
        "# Calculate the confusion matrix\n",
        "cm_over_nn = confusion_matrix(original_ytest, y_pred_nn_over)\n",
        "\n",
        "# Plot the confusion matrix\n",
        "plot_confusion_matrix(cm_over_nn,labels,title=\"Confusion Matrix\",cmap=plt.cm.Greens)"
      ],
      "metadata": {
        "id": "x4hDBiki6NEe",
        "outputId": "a07b7a6c-2994-4391-b026-a45e0f285f33",
        "colab": {
          "base_uri": "https://localhost:8080/",
          "height": 583
        }
      },
      "execution_count": null,
      "outputs": [
        {
          "output_type": "stream",
          "name": "stdout",
          "text": [
            "1781/1781 [==============================] - 2s 1ms/step\n",
            "Confusion matrix, without normalization\n",
            "[[56849    14]\n",
            " [   28    70]]\n"
          ]
        },
        {
          "output_type": "display_data",
          "data": {
            "text/plain": [
              "<Figure size 640x480 with 1 Axes>"
            ],
            "image/png": "[encoded data removed]"
          },
          "metadata": {}
        }
      ]
    },
    {
      "cell_type": "markdown",
      "source": [
        "Comparison of All"
      ],
      "metadata": {
        "id": "9jz68tiE9say"
      }
    },
    {
      "cell_type": "code",
      "source": [
        "# Initialize the figure\n",
        "fig = plt.figure(figsize=(12, 12))\n",
        "\n",
        "# Create the subplots\n",
        "ax1 = fig.add_subplot(221)\n",
        "ax2 = fig.add_subplot(222)\n",
        "ax3 = fig.add_subplot(223)\n",
        "ax4 = fig.add_subplot(224)\n",
        "\n",
        "# Plot Undersampling LR\n",
        "plot_confusion_matrix(cm_und, labels, title=\"UnderSampling Logistic Regression\", cmap=plt.cm.Blues, ax=ax1)\n",
        "\n",
        "# Plot Undersampling NN\n",
        "plot_confusion_matrix(cm_und_nn, labels, title=\"UnderSampling Neural Network\", cmap=plt.cm.Reds, ax=ax2)\n",
        "\n",
        "# Plot Oversampling LR\n",
        "plot_confusion_matrix(cm_over, labels, title=\"OverSampling Logistic Regression\", cmap=plt.cm.Oranges, ax=ax3)\n",
        "\n",
        "# Plot Oversampling NN\n",
        "plot_confusion_matrix(cm_over_nn, labels, title=\"OverSampling Neural Network\", cmap=plt.cm.Greens, ax=ax4)\n",
        "\n",
        "plt.tight_layout()\n",
        "plt.show()\n"
      ],
      "metadata": {
        "id": "eDOTRtRG9vtK",
        "outputId": "521fdeaf-2179-4722-deac-8a0a7560c772",
        "colab": {
          "base_uri": "https://localhost:8080/",
          "height": 1000
        }
      },
      "execution_count": null,
      "outputs": [
        {
          "output_type": "stream",
          "name": "stdout",
          "text": [
            "Confusion matrix, without normalization\n",
            "[[55884   979]\n",
            " [   12    86]]\n",
            "Confusion matrix, without normalization\n",
            "[[56544   319]\n",
            " [   16    82]]\n",
            "Confusion matrix, without normalization\n",
            "[[56214   649]\n",
            " [   13    85]]\n",
            "Confusion matrix, without normalization\n",
            "[[56849    14]\n",
            " [   28    70]]\n"
          ]
        },
        {
          "output_type": "display_data",
          "data": {
            "text/plain": [
              "<Figure size 1200x1200 with 4 Axes>"
            ],
            "image/png": "[encoded data removed]"
          },
          "metadata": {}
        }
      ]
    },
    {
      "cell_type": "markdown",
      "source": [
        "CBA and MCC"
      ],
      "metadata": {
        "id": "HcwMG1xOk5eG"
      }
    },
    {
      "cell_type": "code",
      "source": [
        "from sklearn.metrics import matthews_corrcoef, confusion_matrix\n",
        "\n",
        "# Calculate the confusion matrix and MCC for each set of predicted labels\n",
        "cm_1 = cm_und\n",
        "cm_2 = cm_und_nn\n",
        "cm_3 = cm_over\n",
        "cm_4 = cm_over_nn\n",
        "\n",
        "mcc_1 = matthews_corrcoef(original_ytest, y_pred_lr_und)\n",
        "mcc_2 = matthews_corrcoef(original_ytest, y_pred_nn_und)\n",
        "mcc_3 = matthews_corrcoef(original_ytest, y_pred_lr_over)\n",
        "mcc_4 = matthews_corrcoef(original_ytest, y_pred_nn_over)\n",
        "\n",
        "# Calculate the CBA for each set of predicted labels\n",
        "cba_1 = (cm_1[0][0] / (cm_1[0][0] + cm_1[0][1])) * (cm_1[1][1] / (cm_1[1][0] + cm_1[1][1]))\n",
        "cba_2 = (cm_2[0][0] / (cm_2[0][0] + cm_2[0][1])) * (cm_2[1][1] / (cm_2[1][0] + cm_2[1][1]))\n",
        "cba_3 = (cm_3[0][0] / (cm_3[0][0] + cm_3[0][1])) * (cm_3[1][1] / (cm_3[1][0] + cm_3[1][1]))\n",
        "cba_4 = (cm_4[0][0] / (cm_4[0][0] + cm_4[0][1])) * (cm_4[1][1] / (cm_4[1][0] + cm_4[1][1]))\n",
        "\n",
        "# Print the CBA and MCC values for each set of predicted labels\n",
        "print(\"Set 1 - CBA: {:.4f}, MCC: {:.4f}\".format(cba_1, mcc_1))\n",
        "print(\"Set 2 - CBA: {:.4f}, MCC: {:.4f}\".format(cba_2, mcc_2))\n",
        "print(\"Set 3 - CBA: {:.4f}, MCC: {:.4f}\".format(cba_3, mcc_3))\n",
        "print(\"Set 4 - CBA: {:.4f}, MCC: {:.4f}\".format(cba_4, mcc_4))"
      ],
      "metadata": {
        "colab": {
          "base_uri": "https://localhost:8080/"
        },
        "id": "QCVOaocvkO6W",
        "outputId": "e1de1da9-83e4-43db-f6e0-5c207de7a4b0"
      },
      "execution_count": null,
      "outputs": [
        {
          "output_type": "stream",
          "name": "stdout",
          "text": [
            "Set 1 - CBA: 0.8624, MCC: 0.2632\n",
            "Set 2 - CBA: 0.8320, MCC: 0.4120\n",
            "Set 3 - CBA: 0.8574, MCC: 0.3145\n",
            "Set 4 - CBA: 0.7141, MCC: 0.7712\n"
          ]
        }
      ]
    },
    {
      "cell_type": "code",
      "source": [
        "from sklearn.metrics import f1_score\n",
        "from sklearn.metrics import accuracy_score\n",
        "\n",
        "# Calculate the F1 score for each set of predicted labels\n",
        "f1_1 = f1_score(original_ytest, y_pred_lr_und)\n",
        "f1_2 = f1_score(original_ytest, y_pred_nn_und)\n",
        "f1_3 = f1_score(original_ytest, y_pred_lr_over)\n",
        "f1_4 = f1_score(original_ytest, y_pred_nn_over)\n",
        "\n",
        "# Calculate the accuracy score for each set of predicted labels\n",
        "acc_1 = accuracy_score(original_ytest, y_pred_lr_und)\n",
        "acc_2 = accuracy_score(original_ytest, y_pred_nn_und)\n",
        "acc_3 = accuracy_score(original_ytest, y_pred_lr_over)\n",
        "acc_4 = accuracy_score(original_ytest, y_pred_nn_over)\n",
        "\n",
        "# Print the CBA, MCC, F1 score, and accuracy values for each set of predicted labels\n",
        "print(\"Set 1 - CBA: {:.4f}, MCC: {:.4f}, F1 score: {:.4f}, Accuracy: {:.4f}\".format(cba_1, mcc_1, f1_1, acc_1))\n",
        "print(\"Set 2 - CBA: {:.4f}, MCC: {:.4f}, F1 score: {:.4f}, Accuracy: {:.4f}\".format(cba_2, mcc_2, f1_2, acc_2))\n",
        "print(\"Set 3 - CBA: {:.4f}, MCC: {:.4f}, F1 score: {:.4f}, Accuracy: {:.4f}\".format(cba_3, mcc_3, f1_3, acc_3))\n",
        "print(\"Set 4 - CBA: {:.4f}, MCC: {:.4f}, F1 score: {:.4f}, Accuracy: {:.4f}\".format(cba_4, mcc_4, f1_4, acc_4))\n",
        "\n"
      ],
      "metadata": {
        "id": "E--RFHJGKIgc",
        "outputId": "958a0ee2-19fc-4a18-c444-af73f4f7ff37",
        "colab": {
          "base_uri": "https://localhost:8080/"
        }
      },
      "execution_count": null,
      "outputs": [
        {
          "output_type": "stream",
          "name": "stdout",
          "text": [
            "Set 1 - CBA: 0.8624, MCC: 0.2632, F1 score: 0.1479, Accuracy: 0.9826\n",
            "Set 2 - CBA: 0.8320, MCC: 0.4120, F1 score: 0.3287, Accuracy: 0.9941\n",
            "Set 3 - CBA: 0.8574, MCC: 0.3145, F1 score: 0.2043, Accuracy: 0.9884\n",
            "Set 4 - CBA: 0.7141, MCC: 0.7712, F1 score: 0.7692, Accuracy: 0.9993\n"
          ]
        }
      ]
    },
    {
      "cell_type": "code",
      "source": [
        "# Plot the CBA and MCC values for each set of predicted\n",
        "# Define the CBA and MCC values\n",
        "cba_values = [cba_1, cba_2, cba_3, cba_4]\n",
        "mcc_values = [mcc_1, mcc_2, mcc_3, mcc_4]\n",
        "\n",
        "# Define the x-axis labels\n",
        "x_labels = [\"Set 1\", \"Set 2\", \"Set 3\", \"Set 4\"]\n",
        "\n",
        "# Create a figure with two subplots\n",
        "fig, (ax1, ax2) = plt.subplots(1, 2, figsize=(10, 5))\n",
        "\n",
        "# Plot the CBA values\n",
        "ax1.bar(x_labels, cba_values)\n",
        "ax1.set_title(\"CBA Values\")\n",
        "ax1.set_ylim(0, 1)\n",
        "\n",
        "# Plot the MCC values\n",
        "ax2.bar(x_labels, mcc_values)\n",
        "ax2.set_title(\"MCC Values\")\n",
        "ax2.set_ylim(0, 1)\n",
        "\n",
        "# Show the plot\n",
        "plt.show()\n"
      ],
      "metadata": {
        "colab": {
          "base_uri": "https://localhost:8080/",
          "height": 468
        },
        "id": "uV-75z5OmHPz",
        "outputId": "a4e4e807-6af7-4561-c883-16b425dbc59c"
      },
      "execution_count": null,
      "outputs": [
        {
          "output_type": "display_data",
          "data": {
            "text/plain": [
              "<Figure size 1000x500 with 2 Axes>"
            ],
            "image/png": "[encoded data removed]"
          },
          "metadata": {}
        }
      ]
    },
    {
      "cell_type": "markdown",
      "source": [
        "The CBA metric is defined as the product of the precision and recall, both of which are ratios between the correctly classified instances and the total instances. The precision measures the accuracy of the positive predictions made by the classifier, while the recall measures the completeness of the positive predictions.\n",
        "\n",
        "The CBA metric is a good way to evaluate the overall performance of a binary classifier because it takes into account both the accuracy and completeness of the predictions."
      ],
      "metadata": {
        "id": "rROb2FlYx0Ne"
      }
    },
    {
      "cell_type": "markdown",
      "source": [
        "MCC stands for Matthews Correlation Coefficient and is a metric used to evaluate the performance of binary classifiers. It takes into account all four values in the confusion matrix, i.e., true positives, true negatives, false positives, and false negatives.\n",
        "\n",
        "The MCC metric is defined as the covariance between the predicted binary labels and the true binary labels, divided by the product of their standard deviations. It ranges from -1 to 1, where a score of 1 indicates perfect classification, 0 indicates a random classification, and -1 indicates perfect inverse classification.\n",
        "\n",
        "MCC is a useful metric because it is not affected by imbalanced class distributions, unlike some other metrics such as accuracy or precision. It is also useful when the classes are not equally important, as it considers all four values in the confusion matrix."
      ],
      "metadata": {
        "id": "79g1YvKByVoG"
      }
    },
    {
      "cell_type": "markdown",
      "source": [
        "So MCC will be the main criteria for comparing algorithms"
      ],
      "metadata": {
        "id": "4FI9OpeNyeqg"
      }
    },
    {
      "cell_type": "markdown",
      "source": [
        "# **XGBoost**"
      ],
      "metadata": {
        "id": "U0zfU2V5MHH4"
      }
    },
    {
      "cell_type": "code",
      "source": [
        "# Compute the ratio of negative to positive examples\n",
        "neg_pos_ratio = len(original_ytrain[original_ytrain==0]) / len(original_ytrain[original_ytrain==1])\n",
        "\n",
        "# Create the XGBClassifier with scale_pos_weight\n",
        "xgb_clf = xgb.XGBClassifier(n_estimators=500, learning_rate=0.01, max_depth=5, scale_pos_weight=neg_pos_ratio, random_state=42)\n",
        "\n",
        "# Fit the model to the training data\n",
        "xgb_clf.fit(original_Xtrain, original_ytrain)\n"
      ],
      "metadata": {
        "id": "ozPGPDwSMLDp",
        "outputId": "d7e2b49d-808b-42e8-8d7f-799c921e8838",
        "colab": {
          "base_uri": "https://localhost:8080/",
          "height": 248
        }
      },
      "execution_count": null,
      "outputs": [
        {
          "output_type": "execute_result",
          "data": {
            "text/plain": [
              "XGBClassifier(base_score=None, booster=None, callbacks=None,\n",
              "              colsample_bylevel=None, colsample_bynode=None,\n",
              "              colsample_bytree=None, early_stopping_rounds=None,\n",
              "              enable_categorical=False, eval_metric=None, feature_types=None,\n",
              "              gamma=None, gpu_id=None, grow_policy=None, importance_type=None,\n",
              "              interaction_constraints=None, learning_rate=0.01, max_bin=None,\n",
              "              max_cat_threshold=None, max_cat_to_onehot=None,\n",
              "              max_delta_step=None, max_depth=5, max_leaves=None,\n",
              "              min_child_weight=None, missing=nan, monotone_constraints=None,\n",
              "              n_estimators=500, n_jobs=None, num_parallel_tree=None,\n",
              "              predictor=None, random_state=42, ...)"
            ],
            "text/html": [
              "<style>#sk-container-id-1 {color: black;background-color: white;}#sk-container-id-1 pre{padding: 0;}#sk-container-id-1 div.sk-toggleable {background-color: white;}#sk-container-id-1 label.sk-toggleable__label {cursor: pointer;display: block;width: 100%;margin-bottom: 0;padding: 0.3em;box-sizing: border-box;text-align: center;}#sk-container-id-1 label.sk-toggleable__label-arrow:before {content: \"▸\";float: left;margin-right: 0.25em;color: #696969;}#sk-container-id-1 label.sk-toggleable__label-arrow:hover:before {color: black;}#sk-container-id-1 div.sk-estimator:hover label.sk-toggleable__label-arrow:before {color: black;}#sk-container-id-1 div.sk-toggleable__content {max-height: 0;max-width: 0;overflow: hidden;text-align: left;background-color: #f0f8ff;}#sk-container-id-1 div.sk-toggleable__content pre {margin: 0.2em;color: black;border-radius: 0.25em;background-color: #f0f8ff;}#sk-container-id-1 input.sk-toggleable__control:checked~div.sk-toggleable__content {max-height: 200px;max-width: 100%;overflow: auto;}#sk-container-id-1 input.sk-toggleable__control:checked~label.sk-toggleable__label-arrow:before {content: \"▾\";}#sk-container-id-1 div.sk-estimator input.sk-toggleable__control:checked~label.sk-toggleable__label {background-color: #d4ebff;}#sk-container-id-1 div.sk-label input.sk-toggleable__control:checked~label.sk-toggleable__label {background-color: #d4ebff;}#sk-container-id-1 input.sk-hidden--visually {border: 0;clip: rect(1px 1px 1px 1px);clip: rect(1px, 1px, 1px, 1px);height: 1px;margin: -1px;overflow: hidden;padding: 0;position: absolute;width: 1px;}#sk-container-id-1 div.sk-estimator {font-family: monospace;background-color: #f0f8ff;border: 1px dotted black;border-radius: 0.25em;box-sizing: border-box;margin-bottom: 0.5em;}#sk-container-id-1 div.sk-estimator:hover {background-color: #d4ebff;}#sk-container-id-1 div.sk-parallel-item::after {content: \"\";width: 100%;border-bottom: 1px solid gray;flex-grow: 1;}#sk-container-id-1 div.sk-label:hover label.sk-toggleable__label {background-color: #d4ebff;}#sk-container-id-1 div.sk-serial::before {content: \"\";position: absolute;border-left: 1px solid gray;box-sizing: border-box;top: 0;bottom: 0;left: 50%;z-index: 0;}#sk-container-id-1 div.sk-serial {display: flex;flex-direction: column;align-items: center;background-color: white;padding-right: 0.2em;padding-left: 0.2em;position: relative;}#sk-container-id-1 div.sk-item {position: relative;z-index: 1;}#sk-container-id-1 div.sk-parallel {display: flex;align-items: stretch;justify-content: center;background-color: white;position: relative;}#sk-container-id-1 div.sk-item::before, #sk-container-id-1 div.sk-parallel-item::before {content: \"\";position: absolute;border-left: 1px solid gray;box-sizing: border-box;top: 0;bottom: 0;left: 50%;z-index: -1;}#sk-container-id-1 div.sk-parallel-item {display: flex;flex-direction: column;z-index: 1;position: relative;background-color: white;}#sk-container-id-1 div.sk-parallel-item:first-child::after {align-self: flex-end;width: 50%;}#sk-container-id-1 div.sk-parallel-item:last-child::after {align-self: flex-start;width: 50%;}#sk-container-id-1 div.sk-parallel-item:only-child::after {width: 0;}#sk-container-id-1 div.sk-dashed-wrapped {border: 1px dashed gray;margin: 0 0.4em 0.5em 0.4em;box-sizing: border-box;padding-bottom: 0.4em;background-color: white;}#sk-container-id-1 div.sk-label label {font-family: monospace;font-weight: bold;display: inline-block;line-height: 1.2em;}#sk-container-id-1 div.sk-label-container {text-align: center;}#sk-container-id-1 div.sk-container {/* jupyter's `normalize.less` sets `[hidden] { display: none; }` but bootstrap.min.css set `[hidden] { display: none !important; }` so we also need the `!important` here to be able to override the default hidden behavior on the sphinx rendered scikit-learn.org. See: https://github.com/scikit-learn/scikit-learn/issues/21755 */display: inline-block !important;position: relative;}#sk-container-id-1 div.sk-text-repr-fallback {display: none;}</style><div id=\"sk-container-id-1\" class=\"sk-top-container\"><div class=\"sk-text-repr-fallback\"><pre>XGBClassifier(base_score=None, booster=None, callbacks=None,\n",
              "              colsample_bylevel=None, colsample_bynode=None,\n",
              "              colsample_bytree=None, early_stopping_rounds=None,\n",
              "              enable_categorical=False, eval_metric=None, feature_types=None,\n",
              "              gamma=None, gpu_id=None, grow_policy=None, importance_type=None,\n",
              "              interaction_constraints=None, learning_rate=0.01, max_bin=None,\n",
              "              max_cat_threshold=None, max_cat_to_onehot=None,\n",
              "              max_delta_step=None, max_depth=5, max_leaves=None,\n",
              "              min_child_weight=None, missing=nan, monotone_constraints=None,\n",
              "              n_estimators=500, n_jobs=None, num_parallel_tree=None,\n",
              "              predictor=None, random_state=42, ...)</pre><b>In a Jupyter environment, please rerun this cell to show the HTML representation or trust the notebook. <br />On GitHub, the HTML representation is unable to render, please try loading this page with nbviewer.org.</b></div><div class=\"sk-container\" hidden><div class=\"sk-item\"><div class=\"sk-estimator sk-toggleable\"><input class=\"sk-toggleable__control sk-hidden--visually\" id=\"sk-estimator-id-1\" type=\"checkbox\" checked><label for=\"sk-estimator-id-1\" class=\"sk-toggleable__label sk-toggleable__label-arrow\">XGBClassifier</label><div class=\"sk-toggleable__content\"><pre>XGBClassifier(base_score=None, booster=None, callbacks=None,\n",
              "              colsample_bylevel=None, colsample_bynode=None,\n",
              "              colsample_bytree=None, early_stopping_rounds=None,\n",
              "              enable_categorical=False, eval_metric=None, feature_types=None,\n",
              "              gamma=None, gpu_id=None, grow_policy=None, importance_type=None,\n",
              "              interaction_constraints=None, learning_rate=0.01, max_bin=None,\n",
              "              max_cat_threshold=None, max_cat_to_onehot=None,\n",
              "              max_delta_step=None, max_depth=5, max_leaves=None,\n",
              "              min_child_weight=None, missing=nan, monotone_constraints=None,\n",
              "              n_estimators=500, n_jobs=None, num_parallel_tree=None,\n",
              "              predictor=None, random_state=42, ...)</pre></div></div></div></div></div>"
            ]
          },
          "metadata": {},
          "execution_count": 23
        }
      ]
    },
    {
      "cell_type": "code",
      "source": [
        "# Predict the labels of the test data using the trained model\n",
        "y_pred = xgb_clf.predict(original_Xtest)\n",
        "y_pred_xgb = (y_pred > 0.5).astype('int')\n",
        "\n",
        "labels = ['No Fraud', 'Fraud']\n",
        "\n",
        "# Calculate the confusion matrix\n",
        "cm_xgb = confusion_matrix(original_ytest, y_pred_xgb)\n",
        "\n",
        "# Plot the confusion matrix\n",
        "plot_confusion_matrix(cm_xgb,labels,title=\"XGBoost\",cmap=plt.cm.Greys)"
      ],
      "metadata": {
        "id": "Gzf0yWT2NrNi",
        "outputId": "8fdbc6da-5842-4d1b-e866-b5dacd1500e7",
        "colab": {
          "base_uri": "https://localhost:8080/",
          "height": 566
        }
      },
      "execution_count": null,
      "outputs": [
        {
          "output_type": "stream",
          "name": "stdout",
          "text": [
            "Confusion matrix, without normalization\n",
            "[[56839    24]\n",
            " [   23    75]]\n"
          ]
        },
        {
          "output_type": "display_data",
          "data": {
            "text/plain": [
              "<Figure size 640x480 with 1 Axes>"
            ],
            "image/png": "[encoded data removed]"
          },
          "metadata": {}
        }
      ]
    },
    {
      "cell_type": "code",
      "source": [
        "mcc = matthews_corrcoef(original_ytest, y_pred_xgb)\n",
        "mcc"
      ],
      "metadata": {
        "id": "finw4Ly_N9yf",
        "outputId": "d04e9cc5-b7ab-41bf-9c87-41bb57cb6483",
        "colab": {
          "base_uri": "https://localhost:8080/"
        }
      },
      "execution_count": null,
      "outputs": [
        {
          "output_type": "execute_result",
          "data": {
            "text/plain": [
              "0.7610178915386481"
            ]
          },
          "metadata": {},
          "execution_count": 25
        }
      ]
    },
    {
      "cell_type": "code",
      "source": [
        "cba = (cm_1[0][0] / (cm_xgb[0][0] + cm_xgb[0][1])) * (cm_xgb[1][1] / (cm_xgb[1][0] + cm_xgb[1][1]))\n",
        "cba"
      ],
      "metadata": {
        "id": "N0j7tGCXRS41",
        "outputId": "cf41a7bf-cc8c-4a7c-9cd1-d6d49073edda",
        "colab": {
          "base_uri": "https://localhost:8080/"
        }
      },
      "execution_count": null,
      "outputs": [
        {
          "output_type": "execute_result",
          "data": {
            "text/plain": [
              "0.7521299851738174"
            ]
          },
          "metadata": {},
          "execution_count": 26
        }
      ]
    },
    {
      "cell_type": "code",
      "source": [
        "f1 = f1_score(original_ytest, y_pred_xgb)\n",
        "acc = accuracy_score(original_ytest, y_pred_xgb)\n",
        "print(f1)\n",
        "print(acc)"
      ],
      "metadata": {
        "id": "HbdceeovL1An",
        "outputId": "737749f7-500e-4840-f582-27c7bd6f575f",
        "colab": {
          "base_uri": "https://localhost:8080/"
        }
      },
      "execution_count": null,
      "outputs": [
        {
          "output_type": "stream",
          "name": "stdout",
          "text": [
            "0.7614213197969544\n",
            "0.9991748740366215\n"
          ]
        }
      ]
    },
    {
      "cell_type": "markdown",
      "source": [
        "# **Random Forest**"
      ],
      "metadata": {
        "id": "AHRStGvaHChV"
      }
    },
    {
      "cell_type": "code",
      "source": [
        "from sklearn.ensemble import RandomForestClassifier\n",
        "\n",
        "rf = RandomForestClassifier(random_state=36)\n",
        "rf.fit(X_train_over,y_train_over)\n",
        "predicted=rf.predict(original_Xtest)\n",
        "print('Classification report:\\n', classification_report(original_ytest, predicted))\n",
        "conf_mat = confusion_matrix(y_true=original_ytest, y_pred=predicted)\n",
        "print('Confusion matrix:\\n', conf_mat)\n",
        "print('Share of Non-Fraud in Test Data:', 1-round(original_ytest.sum()/len(original_ytest),4))"
      ],
      "metadata": {
        "colab": {
          "base_uri": "https://localhost:8080/"
        },
        "id": "UK24xU-VHFfW",
        "outputId": "52500552-d31c-4f80-d553-a823fa271729"
      },
      "execution_count": 14,
      "outputs": [
        {
          "output_type": "stream",
          "name": "stdout",
          "text": [
            "Classification report:\n",
            "               precision    recall  f1-score   support\n",
            "\n",
            "           0       1.00      1.00      1.00     56863\n",
            "           1       0.99      0.69      0.81        98\n",
            "\n",
            "    accuracy                           1.00     56961\n",
            "   macro avg       0.99      0.85      0.91     56961\n",
            "weighted avg       1.00      1.00      1.00     56961\n",
            "\n",
            "Confusion matrix:\n",
            " [[56862     1]\n",
            " [   30    68]]\n",
            "Share of Non-Fraud in Test Data: 0.9983\n"
          ]
        }
      ]
    },
    {
      "cell_type": "code",
      "source": [
        "# Predict the labels of the test data using the trained model\n",
        "predicted\n",
        "y_pred_rf = (predicted > 0.5).astype('int')\n",
        "\n",
        "labels = ['No Fraud', 'Fraud']\n",
        "\n",
        "# Calculate the confusion matrix\n",
        "cm_rf = confusion_matrix(original_ytest, y_pred_rf)\n",
        "\n",
        "# Plot the confusion matrix\n",
        "plot_confusion_matrix(cm_rf,labels,title=\"Random Forest\",cmap=plt.cm.Greys)"
      ],
      "metadata": {
        "colab": {
          "base_uri": "https://localhost:8080/",
          "height": 566
        },
        "id": "7q0kTbrpIrfm",
        "outputId": "f182a382-9336-458e-e2a7-68ead67cb87f"
      },
      "execution_count": 15,
      "outputs": [
        {
          "output_type": "stream",
          "name": "stdout",
          "text": [
            "Confusion matrix, without normalization\n",
            "[[56862     1]\n",
            " [   30    68]]\n"
          ]
        },
        {
          "output_type": "display_data",
          "data": {
            "text/plain": [
              "<Figure size 640x480 with 1 Axes>"
            ],
            "image/png": "[encoded data removed]"
          },
          "metadata": {}
        }
      ]
    },
    {
      "cell_type": "code",
      "source": [
        "from sklearn.metrics import matthews_corrcoef, confusion_matrix\n",
        "mcc = matthews_corrcoef(original_ytest, y_pred_rf)\n",
        "mcc"
      ],
      "metadata": {
        "colab": {
          "base_uri": "https://localhost:8080/"
        },
        "id": "bYdLCXH4Il9m",
        "outputId": "28484b5d-a07c-4045-b089-f3afa050d77f"
      },
      "execution_count": 17,
      "outputs": [
        {
          "output_type": "execute_result",
          "data": {
            "text/plain": [
              "0.8267031756716048"
            ]
          },
          "metadata": {},
          "execution_count": 17
        }
      ]
    },
    {
      "cell_type": "code",
      "source": [
        "cba = (cm_rf[0][0] / (cm_rf[0][0] + cm_rf[0][1])) * (cm_rf[1][1] / (cm_rf[1][0] + cm_rf[1][1]))\n",
        "cba"
      ],
      "metadata": {
        "id": "palzryVwLYet",
        "outputId": "8e318e1c-f7ce-4930-a617-34e2d4042a29",
        "colab": {
          "base_uri": "https://localhost:8080/"
        }
      },
      "execution_count": 18,
      "outputs": [
        {
          "output_type": "execute_result",
          "data": {
            "text/plain": [
              "0.6938653484009365"
            ]
          },
          "metadata": {},
          "execution_count": 18
        }
      ]
    },
    {
      "cell_type": "code",
      "source": [
        "from sklearn.metrics import f1_score\n",
        "from sklearn.metrics import accuracy_score\n",
        "\n",
        "f1 = f1_score(original_ytest, y_pred_rf)\n",
        "acc = accuracy_score(original_ytest, y_pred_rf)\n",
        "print(f1)\n",
        "print(acc)"
      ],
      "metadata": {
        "id": "oYlU7sE9Lfq1",
        "outputId": "9e5ea2bf-cbee-4f9d-e859-59add2f1f3e0",
        "colab": {
          "base_uri": "https://localhost:8080/"
        }
      },
      "execution_count": 21,
      "outputs": [
        {
          "output_type": "stream",
          "name": "stdout",
          "text": [
            "0.81437125748503\n",
            "0.9994557679816014\n"
          ]
        }
      ]
    }
  ]
}